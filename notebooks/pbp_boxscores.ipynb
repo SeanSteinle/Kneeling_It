{
 "cells": [
  {
   "cell_type": "markdown",
   "metadata": {},
   "source": [
    "## Exploring and Harvesting Play-By-Play Boxscores\n",
    "Sean Steinle\n",
    "\n",
    "1. [Introduction](#1)\n",
    "2. [Loading, Exploring Data](#2)\n",
    "3. [Harvesting Kickoff Stats with RE](#3)\n",
    "\n",
    "<a id=\"1\">"
   ]
  },
  {
   "cell_type": "markdown",
   "metadata": {},
   "source": [
    "### Introduction\n",
    "\n",
    "\n",
    "<a id=\"2\">"
   ]
  },
  {
   "cell_type": "markdown",
   "metadata": {},
   "source": [
    "### Loading, Exploring Data"
   ]
  },
  {
   "cell_type": "code",
   "execution_count": 1,
   "metadata": {},
   "outputs": [],
   "source": [
    "#imports\n",
    "from IPython.core.interactiveshell import InteractiveShell\n",
    "InteractiveShell.ast_node_interactivity = \"all\"\n",
    "import csv\n",
    "import pandas as pd\n",
    "import matplotlib.pyplot as plt\n",
    "import re\n",
    "import nltk"
   ]
  },
  {
   "cell_type": "code",
   "execution_count": 2,
   "metadata": {},
   "outputs": [],
   "source": [
    "#setting paths\n",
    "PBP_data = \"../nflscrapR-data/play_by_play_data/regular_season\"\n",
    "game_data = \"../nflscrapR-data/games_data/regular_season\""
   ]
  },
  {
   "cell_type": "code",
   "execution_count": 3,
   "metadata": {},
   "outputs": [
    {
     "name": "stderr",
     "output_type": "stream",
     "text": [
      "/Library/Frameworks/Python.framework/Versions/3.8/lib/python3.8/site-packages/IPython/core/interactiveshell.py:3145: DtypeWarning: Columns (167,168,169,170,175,176,179,180,183,184,189,190,191,192,195,196,204,205,206,219,220,221,222,223,224,227,228,232,233,234,239,241,242) have mixed types.Specify dtype option on import or set low_memory=False.\n",
      "  has_raised = await self.run_ast_nodes(code_ast.body, cell_name,\n"
     ]
    },
    {
     "data": {
      "text/html": [
       "<div>\n",
       "<style scoped>\n",
       "    .dataframe tbody tr th:only-of-type {\n",
       "        vertical-align: middle;\n",
       "    }\n",
       "\n",
       "    .dataframe tbody tr th {\n",
       "        vertical-align: top;\n",
       "    }\n",
       "\n",
       "    .dataframe thead th {\n",
       "        text-align: right;\n",
       "    }\n",
       "</style>\n",
       "<table border=\"1\" class=\"dataframe\">\n",
       "  <thead>\n",
       "    <tr style=\"text-align: right;\">\n",
       "      <th></th>\n",
       "      <th>play_id</th>\n",
       "      <th>game_id</th>\n",
       "      <th>home_team</th>\n",
       "      <th>away_team</th>\n",
       "      <th>posteam</th>\n",
       "      <th>posteam_type</th>\n",
       "      <th>defteam</th>\n",
       "      <th>side_of_field</th>\n",
       "      <th>yardline_100</th>\n",
       "      <th>game_date</th>\n",
       "      <th>...</th>\n",
       "      <th>penalty_player_id</th>\n",
       "      <th>penalty_player_name</th>\n",
       "      <th>penalty_yards</th>\n",
       "      <th>replay_or_challenge</th>\n",
       "      <th>replay_or_challenge_result</th>\n",
       "      <th>penalty_type</th>\n",
       "      <th>defensive_two_point_attempt</th>\n",
       "      <th>defensive_two_point_conv</th>\n",
       "      <th>defensive_extra_point_attempt</th>\n",
       "      <th>defensive_extra_point_conv</th>\n",
       "    </tr>\n",
       "  </thead>\n",
       "  <tbody>\n",
       "    <tr>\n",
       "      <th>0</th>\n",
       "      <td>35</td>\n",
       "      <td>2019090500</td>\n",
       "      <td>CHI</td>\n",
       "      <td>GB</td>\n",
       "      <td>GB</td>\n",
       "      <td>away</td>\n",
       "      <td>CHI</td>\n",
       "      <td>CHI</td>\n",
       "      <td>35.0</td>\n",
       "      <td>2019-09-05</td>\n",
       "      <td>...</td>\n",
       "      <td>NaN</td>\n",
       "      <td>NaN</td>\n",
       "      <td>NaN</td>\n",
       "      <td>0</td>\n",
       "      <td>NaN</td>\n",
       "      <td>NaN</td>\n",
       "      <td>0.0</td>\n",
       "      <td>0.0</td>\n",
       "      <td>0.0</td>\n",
       "      <td>0.0</td>\n",
       "    </tr>\n",
       "    <tr>\n",
       "      <th>1</th>\n",
       "      <td>50</td>\n",
       "      <td>2019090500</td>\n",
       "      <td>CHI</td>\n",
       "      <td>GB</td>\n",
       "      <td>GB</td>\n",
       "      <td>away</td>\n",
       "      <td>CHI</td>\n",
       "      <td>GB</td>\n",
       "      <td>75.0</td>\n",
       "      <td>2019-09-05</td>\n",
       "      <td>...</td>\n",
       "      <td>NaN</td>\n",
       "      <td>NaN</td>\n",
       "      <td>NaN</td>\n",
       "      <td>0</td>\n",
       "      <td>NaN</td>\n",
       "      <td>NaN</td>\n",
       "      <td>0.0</td>\n",
       "      <td>0.0</td>\n",
       "      <td>0.0</td>\n",
       "      <td>0.0</td>\n",
       "    </tr>\n",
       "    <tr>\n",
       "      <th>2</th>\n",
       "      <td>71</td>\n",
       "      <td>2019090500</td>\n",
       "      <td>CHI</td>\n",
       "      <td>GB</td>\n",
       "      <td>GB</td>\n",
       "      <td>away</td>\n",
       "      <td>CHI</td>\n",
       "      <td>GB</td>\n",
       "      <td>75.0</td>\n",
       "      <td>2019-09-05</td>\n",
       "      <td>...</td>\n",
       "      <td>NaN</td>\n",
       "      <td>NaN</td>\n",
       "      <td>NaN</td>\n",
       "      <td>0</td>\n",
       "      <td>NaN</td>\n",
       "      <td>NaN</td>\n",
       "      <td>0.0</td>\n",
       "      <td>0.0</td>\n",
       "      <td>0.0</td>\n",
       "      <td>0.0</td>\n",
       "    </tr>\n",
       "    <tr>\n",
       "      <th>3</th>\n",
       "      <td>95</td>\n",
       "      <td>2019090500</td>\n",
       "      <td>CHI</td>\n",
       "      <td>GB</td>\n",
       "      <td>GB</td>\n",
       "      <td>away</td>\n",
       "      <td>CHI</td>\n",
       "      <td>GB</td>\n",
       "      <td>75.0</td>\n",
       "      <td>2019-09-05</td>\n",
       "      <td>...</td>\n",
       "      <td>NaN</td>\n",
       "      <td>NaN</td>\n",
       "      <td>NaN</td>\n",
       "      <td>0</td>\n",
       "      <td>NaN</td>\n",
       "      <td>NaN</td>\n",
       "      <td>0.0</td>\n",
       "      <td>0.0</td>\n",
       "      <td>0.0</td>\n",
       "      <td>0.0</td>\n",
       "    </tr>\n",
       "    <tr>\n",
       "      <th>4</th>\n",
       "      <td>125</td>\n",
       "      <td>2019090500</td>\n",
       "      <td>CHI</td>\n",
       "      <td>GB</td>\n",
       "      <td>GB</td>\n",
       "      <td>away</td>\n",
       "      <td>CHI</td>\n",
       "      <td>GB</td>\n",
       "      <td>85.0</td>\n",
       "      <td>2019-09-05</td>\n",
       "      <td>...</td>\n",
       "      <td>NaN</td>\n",
       "      <td>NaN</td>\n",
       "      <td>NaN</td>\n",
       "      <td>0</td>\n",
       "      <td>NaN</td>\n",
       "      <td>NaN</td>\n",
       "      <td>0.0</td>\n",
       "      <td>0.0</td>\n",
       "      <td>0.0</td>\n",
       "      <td>0.0</td>\n",
       "    </tr>\n",
       "  </tbody>\n",
       "</table>\n",
       "<p>5 rows × 256 columns</p>\n",
       "</div>"
      ],
      "text/plain": [
       "   play_id     game_id home_team away_team posteam posteam_type defteam  \\\n",
       "0       35  2019090500       CHI        GB      GB         away     CHI   \n",
       "1       50  2019090500       CHI        GB      GB         away     CHI   \n",
       "2       71  2019090500       CHI        GB      GB         away     CHI   \n",
       "3       95  2019090500       CHI        GB      GB         away     CHI   \n",
       "4      125  2019090500       CHI        GB      GB         away     CHI   \n",
       "\n",
       "  side_of_field  yardline_100   game_date  ...  penalty_player_id  \\\n",
       "0           CHI          35.0  2019-09-05  ...                NaN   \n",
       "1            GB          75.0  2019-09-05  ...                NaN   \n",
       "2            GB          75.0  2019-09-05  ...                NaN   \n",
       "3            GB          75.0  2019-09-05  ...                NaN   \n",
       "4            GB          85.0  2019-09-05  ...                NaN   \n",
       "\n",
       "   penalty_player_name  penalty_yards replay_or_challenge  \\\n",
       "0                  NaN            NaN                   0   \n",
       "1                  NaN            NaN                   0   \n",
       "2                  NaN            NaN                   0   \n",
       "3                  NaN            NaN                   0   \n",
       "4                  NaN            NaN                   0   \n",
       "\n",
       "   replay_or_challenge_result  penalty_type  defensive_two_point_attempt  \\\n",
       "0                         NaN           NaN                          0.0   \n",
       "1                         NaN           NaN                          0.0   \n",
       "2                         NaN           NaN                          0.0   \n",
       "3                         NaN           NaN                          0.0   \n",
       "4                         NaN           NaN                          0.0   \n",
       "\n",
       "   defensive_two_point_conv  defensive_extra_point_attempt  \\\n",
       "0                       0.0                            0.0   \n",
       "1                       0.0                            0.0   \n",
       "2                       0.0                            0.0   \n",
       "3                       0.0                            0.0   \n",
       "4                       0.0                            0.0   \n",
       "\n",
       "   defensive_extra_point_conv  \n",
       "0                         0.0  \n",
       "1                         0.0  \n",
       "2                         0.0  \n",
       "3                         0.0  \n",
       "4                         0.0  \n",
       "\n",
       "[5 rows x 256 columns]"
      ]
     },
     "execution_count": 3,
     "metadata": {},
     "output_type": "execute_result"
    },
    {
     "data": {
      "text/plain": [
       "45546"
      ]
     },
     "execution_count": 3,
     "metadata": {},
     "output_type": "execute_result"
    }
   ],
   "source": [
    "#reading in\n",
    "pbp_df = pd.read_csv(PBP_data + \"/reg_pbp_2019.csv\")\n",
    "pbp_df.head()\n",
    "len(pbp_df)"
   ]
  },
  {
   "cell_type": "code",
   "execution_count": 4,
   "metadata": {
    "scrolled": true
   },
   "outputs": [
    {
     "name": "stdout",
     "output_type": "stream",
     "text": [
      "There were 2587 kickoffs in 2019.\n",
      "0.05679971896544153% of all plays were kickoffs.\n"
     ]
    },
    {
     "data": {
      "text/html": [
       "<div>\n",
       "<style scoped>\n",
       "    .dataframe tbody tr th:only-of-type {\n",
       "        vertical-align: middle;\n",
       "    }\n",
       "\n",
       "    .dataframe tbody tr th {\n",
       "        vertical-align: top;\n",
       "    }\n",
       "\n",
       "    .dataframe thead th {\n",
       "        text-align: right;\n",
       "    }\n",
       "</style>\n",
       "<table border=\"1\" class=\"dataframe\">\n",
       "  <thead>\n",
       "    <tr style=\"text-align: right;\">\n",
       "      <th></th>\n",
       "      <th>play_id</th>\n",
       "      <th>game_id</th>\n",
       "      <th>home_team</th>\n",
       "      <th>away_team</th>\n",
       "      <th>posteam</th>\n",
       "      <th>posteam_type</th>\n",
       "      <th>defteam</th>\n",
       "      <th>side_of_field</th>\n",
       "      <th>yardline_100</th>\n",
       "      <th>game_date</th>\n",
       "      <th>...</th>\n",
       "      <th>penalty_player_id</th>\n",
       "      <th>penalty_player_name</th>\n",
       "      <th>penalty_yards</th>\n",
       "      <th>replay_or_challenge</th>\n",
       "      <th>replay_or_challenge_result</th>\n",
       "      <th>penalty_type</th>\n",
       "      <th>defensive_two_point_attempt</th>\n",
       "      <th>defensive_two_point_conv</th>\n",
       "      <th>defensive_extra_point_attempt</th>\n",
       "      <th>defensive_extra_point_conv</th>\n",
       "    </tr>\n",
       "  </thead>\n",
       "  <tbody>\n",
       "    <tr>\n",
       "      <th>0</th>\n",
       "      <td>35</td>\n",
       "      <td>2019090500</td>\n",
       "      <td>CHI</td>\n",
       "      <td>GB</td>\n",
       "      <td>GB</td>\n",
       "      <td>away</td>\n",
       "      <td>CHI</td>\n",
       "      <td>CHI</td>\n",
       "      <td>35.0</td>\n",
       "      <td>2019-09-05</td>\n",
       "      <td>...</td>\n",
       "      <td>NaN</td>\n",
       "      <td>NaN</td>\n",
       "      <td>NaN</td>\n",
       "      <td>0</td>\n",
       "      <td>NaN</td>\n",
       "      <td>NaN</td>\n",
       "      <td>0.0</td>\n",
       "      <td>0.0</td>\n",
       "      <td>0.0</td>\n",
       "      <td>0.0</td>\n",
       "    </tr>\n",
       "    <tr>\n",
       "      <th>23</th>\n",
       "      <td>659</td>\n",
       "      <td>2019090500</td>\n",
       "      <td>CHI</td>\n",
       "      <td>GB</td>\n",
       "      <td>GB</td>\n",
       "      <td>away</td>\n",
       "      <td>CHI</td>\n",
       "      <td>CHI</td>\n",
       "      <td>35.0</td>\n",
       "      <td>2019-09-05</td>\n",
       "      <td>...</td>\n",
       "      <td>NaN</td>\n",
       "      <td>NaN</td>\n",
       "      <td>NaN</td>\n",
       "      <td>0</td>\n",
       "      <td>NaN</td>\n",
       "      <td>NaN</td>\n",
       "      <td>0.0</td>\n",
       "      <td>0.0</td>\n",
       "      <td>0.0</td>\n",
       "      <td>0.0</td>\n",
       "    </tr>\n",
       "    <tr>\n",
       "      <th>44</th>\n",
       "      <td>1227</td>\n",
       "      <td>2019090500</td>\n",
       "      <td>CHI</td>\n",
       "      <td>GB</td>\n",
       "      <td>CHI</td>\n",
       "      <td>home</td>\n",
       "      <td>GB</td>\n",
       "      <td>GB</td>\n",
       "      <td>35.0</td>\n",
       "      <td>2019-09-05</td>\n",
       "      <td>...</td>\n",
       "      <td>NaN</td>\n",
       "      <td>NaN</td>\n",
       "      <td>NaN</td>\n",
       "      <td>0</td>\n",
       "      <td>NaN</td>\n",
       "      <td>NaN</td>\n",
       "      <td>0.0</td>\n",
       "      <td>0.0</td>\n",
       "      <td>0.0</td>\n",
       "      <td>0.0</td>\n",
       "    </tr>\n",
       "    <tr>\n",
       "      <th>84</th>\n",
       "      <td>2260</td>\n",
       "      <td>2019090500</td>\n",
       "      <td>CHI</td>\n",
       "      <td>GB</td>\n",
       "      <td>CHI</td>\n",
       "      <td>home</td>\n",
       "      <td>GB</td>\n",
       "      <td>GB</td>\n",
       "      <td>35.0</td>\n",
       "      <td>2019-09-05</td>\n",
       "      <td>...</td>\n",
       "      <td>NaN</td>\n",
       "      <td>NaN</td>\n",
       "      <td>NaN</td>\n",
       "      <td>0</td>\n",
       "      <td>NaN</td>\n",
       "      <td>NaN</td>\n",
       "      <td>0.0</td>\n",
       "      <td>0.0</td>\n",
       "      <td>0.0</td>\n",
       "      <td>0.0</td>\n",
       "    </tr>\n",
       "    <tr>\n",
       "      <th>146</th>\n",
       "      <td>3963</td>\n",
       "      <td>2019090500</td>\n",
       "      <td>CHI</td>\n",
       "      <td>GB</td>\n",
       "      <td>CHI</td>\n",
       "      <td>home</td>\n",
       "      <td>GB</td>\n",
       "      <td>GB</td>\n",
       "      <td>35.0</td>\n",
       "      <td>2019-09-05</td>\n",
       "      <td>...</td>\n",
       "      <td>NaN</td>\n",
       "      <td>NaN</td>\n",
       "      <td>NaN</td>\n",
       "      <td>0</td>\n",
       "      <td>NaN</td>\n",
       "      <td>NaN</td>\n",
       "      <td>0.0</td>\n",
       "      <td>0.0</td>\n",
       "      <td>0.0</td>\n",
       "      <td>0.0</td>\n",
       "    </tr>\n",
       "  </tbody>\n",
       "</table>\n",
       "<p>5 rows × 256 columns</p>\n",
       "</div>"
      ],
      "text/plain": [
       "     play_id     game_id home_team away_team posteam posteam_type defteam  \\\n",
       "0         35  2019090500       CHI        GB      GB         away     CHI   \n",
       "23       659  2019090500       CHI        GB      GB         away     CHI   \n",
       "44      1227  2019090500       CHI        GB     CHI         home      GB   \n",
       "84      2260  2019090500       CHI        GB     CHI         home      GB   \n",
       "146     3963  2019090500       CHI        GB     CHI         home      GB   \n",
       "\n",
       "    side_of_field  yardline_100   game_date  ...  penalty_player_id  \\\n",
       "0             CHI          35.0  2019-09-05  ...                NaN   \n",
       "23            CHI          35.0  2019-09-05  ...                NaN   \n",
       "44             GB          35.0  2019-09-05  ...                NaN   \n",
       "84             GB          35.0  2019-09-05  ...                NaN   \n",
       "146            GB          35.0  2019-09-05  ...                NaN   \n",
       "\n",
       "     penalty_player_name  penalty_yards replay_or_challenge  \\\n",
       "0                    NaN            NaN                   0   \n",
       "23                   NaN            NaN                   0   \n",
       "44                   NaN            NaN                   0   \n",
       "84                   NaN            NaN                   0   \n",
       "146                  NaN            NaN                   0   \n",
       "\n",
       "     replay_or_challenge_result  penalty_type  defensive_two_point_attempt  \\\n",
       "0                           NaN           NaN                          0.0   \n",
       "23                          NaN           NaN                          0.0   \n",
       "44                          NaN           NaN                          0.0   \n",
       "84                          NaN           NaN                          0.0   \n",
       "146                         NaN           NaN                          0.0   \n",
       "\n",
       "     defensive_two_point_conv  defensive_extra_point_attempt  \\\n",
       "0                         0.0                            0.0   \n",
       "23                        0.0                            0.0   \n",
       "44                        0.0                            0.0   \n",
       "84                        0.0                            0.0   \n",
       "146                       0.0                            0.0   \n",
       "\n",
       "     defensive_extra_point_conv  \n",
       "0                           0.0  \n",
       "23                          0.0  \n",
       "44                          0.0  \n",
       "84                          0.0  \n",
       "146                         0.0  \n",
       "\n",
       "[5 rows x 256 columns]"
      ]
     },
     "execution_count": 4,
     "metadata": {},
     "output_type": "execute_result"
    }
   ],
   "source": [
    "#making kickoff_df, checking length\n",
    "kickoff_df = pbp_df[pbp_df[\"play_type\"] == \"kickoff\"]\n",
    "print(f\"There were {len(kickoff_df)} kickoffs in 2019.\")\n",
    "print(f\"{len(kickoff_df)/len(pbp_df)}% of all plays were kickoffs.\") #5% makes sense\n",
    "kickoff_df.head()"
   ]
  },
  {
   "cell_type": "markdown",
   "metadata": {},
   "source": [
    "**exploring categories, trimming df**"
   ]
  },
  {
   "cell_type": "code",
   "execution_count": 5,
   "metadata": {
    "scrolled": true
   },
   "outputs": [
    {
     "data": {
      "text/plain": [
       "'play_id'"
      ]
     },
     "execution_count": 5,
     "metadata": {},
     "output_type": "execute_result"
    },
    {
     "data": {
      "text/plain": [
       "'game_id'"
      ]
     },
     "execution_count": 5,
     "metadata": {},
     "output_type": "execute_result"
    },
    {
     "data": {
      "text/plain": [
       "'home_team'"
      ]
     },
     "execution_count": 5,
     "metadata": {},
     "output_type": "execute_result"
    },
    {
     "data": {
      "text/plain": [
       "'away_team'"
      ]
     },
     "execution_count": 5,
     "metadata": {},
     "output_type": "execute_result"
    },
    {
     "data": {
      "text/plain": [
       "'posteam'"
      ]
     },
     "execution_count": 5,
     "metadata": {},
     "output_type": "execute_result"
    },
    {
     "data": {
      "text/plain": [
       "'posteam_type'"
      ]
     },
     "execution_count": 5,
     "metadata": {},
     "output_type": "execute_result"
    },
    {
     "data": {
      "text/plain": [
       "'defteam'"
      ]
     },
     "execution_count": 5,
     "metadata": {},
     "output_type": "execute_result"
    },
    {
     "data": {
      "text/plain": [
       "'side_of_field'"
      ]
     },
     "execution_count": 5,
     "metadata": {},
     "output_type": "execute_result"
    },
    {
     "data": {
      "text/plain": [
       "'yardline_100'"
      ]
     },
     "execution_count": 5,
     "metadata": {},
     "output_type": "execute_result"
    },
    {
     "data": {
      "text/plain": [
       "'game_date'"
      ]
     },
     "execution_count": 5,
     "metadata": {},
     "output_type": "execute_result"
    },
    {
     "data": {
      "text/plain": [
       "'quarter_seconds_remaining'"
      ]
     },
     "execution_count": 5,
     "metadata": {},
     "output_type": "execute_result"
    },
    {
     "data": {
      "text/plain": [
       "'half_seconds_remaining'"
      ]
     },
     "execution_count": 5,
     "metadata": {},
     "output_type": "execute_result"
    },
    {
     "data": {
      "text/plain": [
       "'game_seconds_remaining'"
      ]
     },
     "execution_count": 5,
     "metadata": {},
     "output_type": "execute_result"
    },
    {
     "data": {
      "text/plain": [
       "'game_half'"
      ]
     },
     "execution_count": 5,
     "metadata": {},
     "output_type": "execute_result"
    },
    {
     "data": {
      "text/plain": [
       "'quarter_end'"
      ]
     },
     "execution_count": 5,
     "metadata": {},
     "output_type": "execute_result"
    },
    {
     "data": {
      "text/plain": [
       "'drive'"
      ]
     },
     "execution_count": 5,
     "metadata": {},
     "output_type": "execute_result"
    },
    {
     "data": {
      "text/plain": [
       "'sp'"
      ]
     },
     "execution_count": 5,
     "metadata": {},
     "output_type": "execute_result"
    },
    {
     "data": {
      "text/plain": [
       "'qtr'"
      ]
     },
     "execution_count": 5,
     "metadata": {},
     "output_type": "execute_result"
    },
    {
     "data": {
      "text/plain": [
       "'down'"
      ]
     },
     "execution_count": 5,
     "metadata": {},
     "output_type": "execute_result"
    },
    {
     "data": {
      "text/plain": [
       "'goal_to_go'"
      ]
     },
     "execution_count": 5,
     "metadata": {},
     "output_type": "execute_result"
    },
    {
     "data": {
      "text/plain": [
       "'time'"
      ]
     },
     "execution_count": 5,
     "metadata": {},
     "output_type": "execute_result"
    },
    {
     "data": {
      "text/plain": [
       "'yrdln'"
      ]
     },
     "execution_count": 5,
     "metadata": {},
     "output_type": "execute_result"
    },
    {
     "data": {
      "text/plain": [
       "'ydstogo'"
      ]
     },
     "execution_count": 5,
     "metadata": {},
     "output_type": "execute_result"
    },
    {
     "data": {
      "text/plain": [
       "'ydsnet'"
      ]
     },
     "execution_count": 5,
     "metadata": {},
     "output_type": "execute_result"
    },
    {
     "data": {
      "text/plain": [
       "'desc'"
      ]
     },
     "execution_count": 5,
     "metadata": {},
     "output_type": "execute_result"
    },
    {
     "data": {
      "text/plain": [
       "'play_type'"
      ]
     },
     "execution_count": 5,
     "metadata": {},
     "output_type": "execute_result"
    },
    {
     "data": {
      "text/plain": [
       "'yards_gained'"
      ]
     },
     "execution_count": 5,
     "metadata": {},
     "output_type": "execute_result"
    },
    {
     "data": {
      "text/plain": [
       "'shotgun'"
      ]
     },
     "execution_count": 5,
     "metadata": {},
     "output_type": "execute_result"
    },
    {
     "data": {
      "text/plain": [
       "'no_huddle'"
      ]
     },
     "execution_count": 5,
     "metadata": {},
     "output_type": "execute_result"
    },
    {
     "data": {
      "text/plain": [
       "'qb_dropback'"
      ]
     },
     "execution_count": 5,
     "metadata": {},
     "output_type": "execute_result"
    },
    {
     "data": {
      "text/plain": [
       "'qb_kneel'"
      ]
     },
     "execution_count": 5,
     "metadata": {},
     "output_type": "execute_result"
    },
    {
     "data": {
      "text/plain": [
       "'qb_spike'"
      ]
     },
     "execution_count": 5,
     "metadata": {},
     "output_type": "execute_result"
    },
    {
     "data": {
      "text/plain": [
       "'qb_scramble'"
      ]
     },
     "execution_count": 5,
     "metadata": {},
     "output_type": "execute_result"
    },
    {
     "data": {
      "text/plain": [
       "'pass_length'"
      ]
     },
     "execution_count": 5,
     "metadata": {},
     "output_type": "execute_result"
    },
    {
     "data": {
      "text/plain": [
       "'pass_location'"
      ]
     },
     "execution_count": 5,
     "metadata": {},
     "output_type": "execute_result"
    },
    {
     "data": {
      "text/plain": [
       "'air_yards'"
      ]
     },
     "execution_count": 5,
     "metadata": {},
     "output_type": "execute_result"
    },
    {
     "data": {
      "text/plain": [
       "'yards_after_catch'"
      ]
     },
     "execution_count": 5,
     "metadata": {},
     "output_type": "execute_result"
    },
    {
     "data": {
      "text/plain": [
       "'run_location'"
      ]
     },
     "execution_count": 5,
     "metadata": {},
     "output_type": "execute_result"
    },
    {
     "data": {
      "text/plain": [
       "'run_gap'"
      ]
     },
     "execution_count": 5,
     "metadata": {},
     "output_type": "execute_result"
    },
    {
     "data": {
      "text/plain": [
       "'field_goal_result'"
      ]
     },
     "execution_count": 5,
     "metadata": {},
     "output_type": "execute_result"
    },
    {
     "data": {
      "text/plain": [
       "'kick_distance'"
      ]
     },
     "execution_count": 5,
     "metadata": {},
     "output_type": "execute_result"
    },
    {
     "data": {
      "text/plain": [
       "'extra_point_result'"
      ]
     },
     "execution_count": 5,
     "metadata": {},
     "output_type": "execute_result"
    },
    {
     "data": {
      "text/plain": [
       "'two_point_conv_result'"
      ]
     },
     "execution_count": 5,
     "metadata": {},
     "output_type": "execute_result"
    },
    {
     "data": {
      "text/plain": [
       "'home_timeouts_remaining'"
      ]
     },
     "execution_count": 5,
     "metadata": {},
     "output_type": "execute_result"
    },
    {
     "data": {
      "text/plain": [
       "'away_timeouts_remaining'"
      ]
     },
     "execution_count": 5,
     "metadata": {},
     "output_type": "execute_result"
    },
    {
     "data": {
      "text/plain": [
       "'timeout'"
      ]
     },
     "execution_count": 5,
     "metadata": {},
     "output_type": "execute_result"
    },
    {
     "data": {
      "text/plain": [
       "'timeout_team'"
      ]
     },
     "execution_count": 5,
     "metadata": {},
     "output_type": "execute_result"
    },
    {
     "data": {
      "text/plain": [
       "'td_team'"
      ]
     },
     "execution_count": 5,
     "metadata": {},
     "output_type": "execute_result"
    },
    {
     "data": {
      "text/plain": [
       "'posteam_timeouts_remaining'"
      ]
     },
     "execution_count": 5,
     "metadata": {},
     "output_type": "execute_result"
    },
    {
     "data": {
      "text/plain": [
       "'defteam_timeouts_remaining'"
      ]
     },
     "execution_count": 5,
     "metadata": {},
     "output_type": "execute_result"
    },
    {
     "data": {
      "text/plain": [
       "'total_home_score'"
      ]
     },
     "execution_count": 5,
     "metadata": {},
     "output_type": "execute_result"
    },
    {
     "data": {
      "text/plain": [
       "'total_away_score'"
      ]
     },
     "execution_count": 5,
     "metadata": {},
     "output_type": "execute_result"
    },
    {
     "data": {
      "text/plain": [
       "'posteam_score'"
      ]
     },
     "execution_count": 5,
     "metadata": {},
     "output_type": "execute_result"
    },
    {
     "data": {
      "text/plain": [
       "'defteam_score'"
      ]
     },
     "execution_count": 5,
     "metadata": {},
     "output_type": "execute_result"
    },
    {
     "data": {
      "text/plain": [
       "'score_differential'"
      ]
     },
     "execution_count": 5,
     "metadata": {},
     "output_type": "execute_result"
    },
    {
     "data": {
      "text/plain": [
       "'posteam_score_post'"
      ]
     },
     "execution_count": 5,
     "metadata": {},
     "output_type": "execute_result"
    },
    {
     "data": {
      "text/plain": [
       "'defteam_score_post'"
      ]
     },
     "execution_count": 5,
     "metadata": {},
     "output_type": "execute_result"
    },
    {
     "data": {
      "text/plain": [
       "'score_differential_post'"
      ]
     },
     "execution_count": 5,
     "metadata": {},
     "output_type": "execute_result"
    },
    {
     "data": {
      "text/plain": [
       "'no_score_prob'"
      ]
     },
     "execution_count": 5,
     "metadata": {},
     "output_type": "execute_result"
    },
    {
     "data": {
      "text/plain": [
       "'opp_fg_prob'"
      ]
     },
     "execution_count": 5,
     "metadata": {},
     "output_type": "execute_result"
    },
    {
     "data": {
      "text/plain": [
       "'opp_safety_prob'"
      ]
     },
     "execution_count": 5,
     "metadata": {},
     "output_type": "execute_result"
    },
    {
     "data": {
      "text/plain": [
       "'opp_td_prob'"
      ]
     },
     "execution_count": 5,
     "metadata": {},
     "output_type": "execute_result"
    },
    {
     "data": {
      "text/plain": [
       "'fg_prob'"
      ]
     },
     "execution_count": 5,
     "metadata": {},
     "output_type": "execute_result"
    },
    {
     "data": {
      "text/plain": [
       "'safety_prob'"
      ]
     },
     "execution_count": 5,
     "metadata": {},
     "output_type": "execute_result"
    },
    {
     "data": {
      "text/plain": [
       "'td_prob'"
      ]
     },
     "execution_count": 5,
     "metadata": {},
     "output_type": "execute_result"
    },
    {
     "data": {
      "text/plain": [
       "'extra_point_prob'"
      ]
     },
     "execution_count": 5,
     "metadata": {},
     "output_type": "execute_result"
    },
    {
     "data": {
      "text/plain": [
       "'two_point_conversion_prob'"
      ]
     },
     "execution_count": 5,
     "metadata": {},
     "output_type": "execute_result"
    },
    {
     "data": {
      "text/plain": [
       "'ep'"
      ]
     },
     "execution_count": 5,
     "metadata": {},
     "output_type": "execute_result"
    },
    {
     "data": {
      "text/plain": [
       "'epa'"
      ]
     },
     "execution_count": 5,
     "metadata": {},
     "output_type": "execute_result"
    },
    {
     "data": {
      "text/plain": [
       "'total_home_epa'"
      ]
     },
     "execution_count": 5,
     "metadata": {},
     "output_type": "execute_result"
    },
    {
     "data": {
      "text/plain": [
       "'total_away_epa'"
      ]
     },
     "execution_count": 5,
     "metadata": {},
     "output_type": "execute_result"
    },
    {
     "data": {
      "text/plain": [
       "'total_home_rush_epa'"
      ]
     },
     "execution_count": 5,
     "metadata": {},
     "output_type": "execute_result"
    },
    {
     "data": {
      "text/plain": [
       "'total_away_rush_epa'"
      ]
     },
     "execution_count": 5,
     "metadata": {},
     "output_type": "execute_result"
    },
    {
     "data": {
      "text/plain": [
       "'total_home_pass_epa'"
      ]
     },
     "execution_count": 5,
     "metadata": {},
     "output_type": "execute_result"
    },
    {
     "data": {
      "text/plain": [
       "'total_away_pass_epa'"
      ]
     },
     "execution_count": 5,
     "metadata": {},
     "output_type": "execute_result"
    },
    {
     "data": {
      "text/plain": [
       "'air_epa'"
      ]
     },
     "execution_count": 5,
     "metadata": {},
     "output_type": "execute_result"
    },
    {
     "data": {
      "text/plain": [
       "'yac_epa'"
      ]
     },
     "execution_count": 5,
     "metadata": {},
     "output_type": "execute_result"
    },
    {
     "data": {
      "text/plain": [
       "'comp_air_epa'"
      ]
     },
     "execution_count": 5,
     "metadata": {},
     "output_type": "execute_result"
    },
    {
     "data": {
      "text/plain": [
       "'comp_yac_epa'"
      ]
     },
     "execution_count": 5,
     "metadata": {},
     "output_type": "execute_result"
    },
    {
     "data": {
      "text/plain": [
       "'total_home_comp_air_epa'"
      ]
     },
     "execution_count": 5,
     "metadata": {},
     "output_type": "execute_result"
    },
    {
     "data": {
      "text/plain": [
       "'total_away_comp_air_epa'"
      ]
     },
     "execution_count": 5,
     "metadata": {},
     "output_type": "execute_result"
    },
    {
     "data": {
      "text/plain": [
       "'total_home_comp_yac_epa'"
      ]
     },
     "execution_count": 5,
     "metadata": {},
     "output_type": "execute_result"
    },
    {
     "data": {
      "text/plain": [
       "'total_away_comp_yac_epa'"
      ]
     },
     "execution_count": 5,
     "metadata": {},
     "output_type": "execute_result"
    },
    {
     "data": {
      "text/plain": [
       "'total_home_raw_air_epa'"
      ]
     },
     "execution_count": 5,
     "metadata": {},
     "output_type": "execute_result"
    },
    {
     "data": {
      "text/plain": [
       "'total_away_raw_air_epa'"
      ]
     },
     "execution_count": 5,
     "metadata": {},
     "output_type": "execute_result"
    },
    {
     "data": {
      "text/plain": [
       "'total_home_raw_yac_epa'"
      ]
     },
     "execution_count": 5,
     "metadata": {},
     "output_type": "execute_result"
    },
    {
     "data": {
      "text/plain": [
       "'total_away_raw_yac_epa'"
      ]
     },
     "execution_count": 5,
     "metadata": {},
     "output_type": "execute_result"
    },
    {
     "data": {
      "text/plain": [
       "'wp'"
      ]
     },
     "execution_count": 5,
     "metadata": {},
     "output_type": "execute_result"
    },
    {
     "data": {
      "text/plain": [
       "'def_wp'"
      ]
     },
     "execution_count": 5,
     "metadata": {},
     "output_type": "execute_result"
    },
    {
     "data": {
      "text/plain": [
       "'home_wp'"
      ]
     },
     "execution_count": 5,
     "metadata": {},
     "output_type": "execute_result"
    },
    {
     "data": {
      "text/plain": [
       "'away_wp'"
      ]
     },
     "execution_count": 5,
     "metadata": {},
     "output_type": "execute_result"
    },
    {
     "data": {
      "text/plain": [
       "'wpa'"
      ]
     },
     "execution_count": 5,
     "metadata": {},
     "output_type": "execute_result"
    },
    {
     "data": {
      "text/plain": [
       "'home_wp_post'"
      ]
     },
     "execution_count": 5,
     "metadata": {},
     "output_type": "execute_result"
    },
    {
     "data": {
      "text/plain": [
       "'away_wp_post'"
      ]
     },
     "execution_count": 5,
     "metadata": {},
     "output_type": "execute_result"
    },
    {
     "data": {
      "text/plain": [
       "'total_home_rush_wpa'"
      ]
     },
     "execution_count": 5,
     "metadata": {},
     "output_type": "execute_result"
    },
    {
     "data": {
      "text/plain": [
       "'total_away_rush_wpa'"
      ]
     },
     "execution_count": 5,
     "metadata": {},
     "output_type": "execute_result"
    },
    {
     "data": {
      "text/plain": [
       "'total_home_pass_wpa'"
      ]
     },
     "execution_count": 5,
     "metadata": {},
     "output_type": "execute_result"
    },
    {
     "data": {
      "text/plain": [
       "'total_away_pass_wpa'"
      ]
     },
     "execution_count": 5,
     "metadata": {},
     "output_type": "execute_result"
    },
    {
     "data": {
      "text/plain": [
       "'air_wpa'"
      ]
     },
     "execution_count": 5,
     "metadata": {},
     "output_type": "execute_result"
    },
    {
     "data": {
      "text/plain": [
       "'yac_wpa'"
      ]
     },
     "execution_count": 5,
     "metadata": {},
     "output_type": "execute_result"
    },
    {
     "data": {
      "text/plain": [
       "'comp_air_wpa'"
      ]
     },
     "execution_count": 5,
     "metadata": {},
     "output_type": "execute_result"
    },
    {
     "data": {
      "text/plain": [
       "'comp_yac_wpa'"
      ]
     },
     "execution_count": 5,
     "metadata": {},
     "output_type": "execute_result"
    },
    {
     "data": {
      "text/plain": [
       "'total_home_comp_air_wpa'"
      ]
     },
     "execution_count": 5,
     "metadata": {},
     "output_type": "execute_result"
    },
    {
     "data": {
      "text/plain": [
       "'total_away_comp_air_wpa'"
      ]
     },
     "execution_count": 5,
     "metadata": {},
     "output_type": "execute_result"
    },
    {
     "data": {
      "text/plain": [
       "'total_home_comp_yac_wpa'"
      ]
     },
     "execution_count": 5,
     "metadata": {},
     "output_type": "execute_result"
    },
    {
     "data": {
      "text/plain": [
       "'total_away_comp_yac_wpa'"
      ]
     },
     "execution_count": 5,
     "metadata": {},
     "output_type": "execute_result"
    },
    {
     "data": {
      "text/plain": [
       "'total_home_raw_air_wpa'"
      ]
     },
     "execution_count": 5,
     "metadata": {},
     "output_type": "execute_result"
    },
    {
     "data": {
      "text/plain": [
       "'total_away_raw_air_wpa'"
      ]
     },
     "execution_count": 5,
     "metadata": {},
     "output_type": "execute_result"
    },
    {
     "data": {
      "text/plain": [
       "'total_home_raw_yac_wpa'"
      ]
     },
     "execution_count": 5,
     "metadata": {},
     "output_type": "execute_result"
    },
    {
     "data": {
      "text/plain": [
       "'total_away_raw_yac_wpa'"
      ]
     },
     "execution_count": 5,
     "metadata": {},
     "output_type": "execute_result"
    },
    {
     "data": {
      "text/plain": [
       "'punt_blocked'"
      ]
     },
     "execution_count": 5,
     "metadata": {},
     "output_type": "execute_result"
    },
    {
     "data": {
      "text/plain": [
       "'first_down_rush'"
      ]
     },
     "execution_count": 5,
     "metadata": {},
     "output_type": "execute_result"
    },
    {
     "data": {
      "text/plain": [
       "'first_down_pass'"
      ]
     },
     "execution_count": 5,
     "metadata": {},
     "output_type": "execute_result"
    },
    {
     "data": {
      "text/plain": [
       "'first_down_penalty'"
      ]
     },
     "execution_count": 5,
     "metadata": {},
     "output_type": "execute_result"
    },
    {
     "data": {
      "text/plain": [
       "'third_down_converted'"
      ]
     },
     "execution_count": 5,
     "metadata": {},
     "output_type": "execute_result"
    },
    {
     "data": {
      "text/plain": [
       "'third_down_failed'"
      ]
     },
     "execution_count": 5,
     "metadata": {},
     "output_type": "execute_result"
    },
    {
     "data": {
      "text/plain": [
       "'fourth_down_converted'"
      ]
     },
     "execution_count": 5,
     "metadata": {},
     "output_type": "execute_result"
    },
    {
     "data": {
      "text/plain": [
       "'fourth_down_failed'"
      ]
     },
     "execution_count": 5,
     "metadata": {},
     "output_type": "execute_result"
    },
    {
     "data": {
      "text/plain": [
       "'incomplete_pass'"
      ]
     },
     "execution_count": 5,
     "metadata": {},
     "output_type": "execute_result"
    },
    {
     "data": {
      "text/plain": [
       "'touchback'"
      ]
     },
     "execution_count": 5,
     "metadata": {},
     "output_type": "execute_result"
    },
    {
     "data": {
      "text/plain": [
       "'interception'"
      ]
     },
     "execution_count": 5,
     "metadata": {},
     "output_type": "execute_result"
    },
    {
     "data": {
      "text/plain": [
       "'punt_inside_twenty'"
      ]
     },
     "execution_count": 5,
     "metadata": {},
     "output_type": "execute_result"
    },
    {
     "data": {
      "text/plain": [
       "'punt_in_endzone'"
      ]
     },
     "execution_count": 5,
     "metadata": {},
     "output_type": "execute_result"
    },
    {
     "data": {
      "text/plain": [
       "'punt_out_of_bounds'"
      ]
     },
     "execution_count": 5,
     "metadata": {},
     "output_type": "execute_result"
    },
    {
     "data": {
      "text/plain": [
       "'punt_downed'"
      ]
     },
     "execution_count": 5,
     "metadata": {},
     "output_type": "execute_result"
    },
    {
     "data": {
      "text/plain": [
       "'punt_fair_catch'"
      ]
     },
     "execution_count": 5,
     "metadata": {},
     "output_type": "execute_result"
    },
    {
     "data": {
      "text/plain": [
       "'kickoff_inside_twenty'"
      ]
     },
     "execution_count": 5,
     "metadata": {},
     "output_type": "execute_result"
    },
    {
     "data": {
      "text/plain": [
       "'kickoff_in_endzone'"
      ]
     },
     "execution_count": 5,
     "metadata": {},
     "output_type": "execute_result"
    },
    {
     "data": {
      "text/plain": [
       "'kickoff_out_of_bounds'"
      ]
     },
     "execution_count": 5,
     "metadata": {},
     "output_type": "execute_result"
    },
    {
     "data": {
      "text/plain": [
       "'kickoff_downed'"
      ]
     },
     "execution_count": 5,
     "metadata": {},
     "output_type": "execute_result"
    },
    {
     "data": {
      "text/plain": [
       "'kickoff_fair_catch'"
      ]
     },
     "execution_count": 5,
     "metadata": {},
     "output_type": "execute_result"
    },
    {
     "data": {
      "text/plain": [
       "'fumble_forced'"
      ]
     },
     "execution_count": 5,
     "metadata": {},
     "output_type": "execute_result"
    },
    {
     "data": {
      "text/plain": [
       "'fumble_not_forced'"
      ]
     },
     "execution_count": 5,
     "metadata": {},
     "output_type": "execute_result"
    },
    {
     "data": {
      "text/plain": [
       "'fumble_out_of_bounds'"
      ]
     },
     "execution_count": 5,
     "metadata": {},
     "output_type": "execute_result"
    },
    {
     "data": {
      "text/plain": [
       "'solo_tackle'"
      ]
     },
     "execution_count": 5,
     "metadata": {},
     "output_type": "execute_result"
    },
    {
     "data": {
      "text/plain": [
       "'safety'"
      ]
     },
     "execution_count": 5,
     "metadata": {},
     "output_type": "execute_result"
    },
    {
     "data": {
      "text/plain": [
       "'penalty'"
      ]
     },
     "execution_count": 5,
     "metadata": {},
     "output_type": "execute_result"
    },
    {
     "data": {
      "text/plain": [
       "'tackled_for_loss'"
      ]
     },
     "execution_count": 5,
     "metadata": {},
     "output_type": "execute_result"
    },
    {
     "data": {
      "text/plain": [
       "'fumble_lost'"
      ]
     },
     "execution_count": 5,
     "metadata": {},
     "output_type": "execute_result"
    },
    {
     "data": {
      "text/plain": [
       "'own_kickoff_recovery'"
      ]
     },
     "execution_count": 5,
     "metadata": {},
     "output_type": "execute_result"
    },
    {
     "data": {
      "text/plain": [
       "'own_kickoff_recovery_td'"
      ]
     },
     "execution_count": 5,
     "metadata": {},
     "output_type": "execute_result"
    },
    {
     "data": {
      "text/plain": [
       "'qb_hit'"
      ]
     },
     "execution_count": 5,
     "metadata": {},
     "output_type": "execute_result"
    },
    {
     "data": {
      "text/plain": [
       "'rush_attempt'"
      ]
     },
     "execution_count": 5,
     "metadata": {},
     "output_type": "execute_result"
    },
    {
     "data": {
      "text/plain": [
       "'pass_attempt'"
      ]
     },
     "execution_count": 5,
     "metadata": {},
     "output_type": "execute_result"
    },
    {
     "data": {
      "text/plain": [
       "'sack'"
      ]
     },
     "execution_count": 5,
     "metadata": {},
     "output_type": "execute_result"
    },
    {
     "data": {
      "text/plain": [
       "'touchdown'"
      ]
     },
     "execution_count": 5,
     "metadata": {},
     "output_type": "execute_result"
    },
    {
     "data": {
      "text/plain": [
       "'pass_touchdown'"
      ]
     },
     "execution_count": 5,
     "metadata": {},
     "output_type": "execute_result"
    },
    {
     "data": {
      "text/plain": [
       "'rush_touchdown'"
      ]
     },
     "execution_count": 5,
     "metadata": {},
     "output_type": "execute_result"
    },
    {
     "data": {
      "text/plain": [
       "'return_touchdown'"
      ]
     },
     "execution_count": 5,
     "metadata": {},
     "output_type": "execute_result"
    },
    {
     "data": {
      "text/plain": [
       "'extra_point_attempt'"
      ]
     },
     "execution_count": 5,
     "metadata": {},
     "output_type": "execute_result"
    },
    {
     "data": {
      "text/plain": [
       "'two_point_attempt'"
      ]
     },
     "execution_count": 5,
     "metadata": {},
     "output_type": "execute_result"
    },
    {
     "data": {
      "text/plain": [
       "'field_goal_attempt'"
      ]
     },
     "execution_count": 5,
     "metadata": {},
     "output_type": "execute_result"
    },
    {
     "data": {
      "text/plain": [
       "'kickoff_attempt'"
      ]
     },
     "execution_count": 5,
     "metadata": {},
     "output_type": "execute_result"
    },
    {
     "data": {
      "text/plain": [
       "'punt_attempt'"
      ]
     },
     "execution_count": 5,
     "metadata": {},
     "output_type": "execute_result"
    },
    {
     "data": {
      "text/plain": [
       "'fumble'"
      ]
     },
     "execution_count": 5,
     "metadata": {},
     "output_type": "execute_result"
    },
    {
     "data": {
      "text/plain": [
       "'complete_pass'"
      ]
     },
     "execution_count": 5,
     "metadata": {},
     "output_type": "execute_result"
    },
    {
     "data": {
      "text/plain": [
       "'assist_tackle'"
      ]
     },
     "execution_count": 5,
     "metadata": {},
     "output_type": "execute_result"
    },
    {
     "data": {
      "text/plain": [
       "'lateral_reception'"
      ]
     },
     "execution_count": 5,
     "metadata": {},
     "output_type": "execute_result"
    },
    {
     "data": {
      "text/plain": [
       "'lateral_rush'"
      ]
     },
     "execution_count": 5,
     "metadata": {},
     "output_type": "execute_result"
    },
    {
     "data": {
      "text/plain": [
       "'lateral_return'"
      ]
     },
     "execution_count": 5,
     "metadata": {},
     "output_type": "execute_result"
    },
    {
     "data": {
      "text/plain": [
       "'lateral_recovery'"
      ]
     },
     "execution_count": 5,
     "metadata": {},
     "output_type": "execute_result"
    },
    {
     "data": {
      "text/plain": [
       "'passer_player_id'"
      ]
     },
     "execution_count": 5,
     "metadata": {},
     "output_type": "execute_result"
    },
    {
     "data": {
      "text/plain": [
       "'passer_player_name'"
      ]
     },
     "execution_count": 5,
     "metadata": {},
     "output_type": "execute_result"
    },
    {
     "data": {
      "text/plain": [
       "'receiver_player_id'"
      ]
     },
     "execution_count": 5,
     "metadata": {},
     "output_type": "execute_result"
    },
    {
     "data": {
      "text/plain": [
       "'receiver_player_name'"
      ]
     },
     "execution_count": 5,
     "metadata": {},
     "output_type": "execute_result"
    },
    {
     "data": {
      "text/plain": [
       "'rusher_player_id'"
      ]
     },
     "execution_count": 5,
     "metadata": {},
     "output_type": "execute_result"
    },
    {
     "data": {
      "text/plain": [
       "'rusher_player_name'"
      ]
     },
     "execution_count": 5,
     "metadata": {},
     "output_type": "execute_result"
    },
    {
     "data": {
      "text/plain": [
       "'lateral_receiver_player_id'"
      ]
     },
     "execution_count": 5,
     "metadata": {},
     "output_type": "execute_result"
    },
    {
     "data": {
      "text/plain": [
       "'lateral_receiver_player_name'"
      ]
     },
     "execution_count": 5,
     "metadata": {},
     "output_type": "execute_result"
    },
    {
     "data": {
      "text/plain": [
       "'lateral_rusher_player_id'"
      ]
     },
     "execution_count": 5,
     "metadata": {},
     "output_type": "execute_result"
    },
    {
     "data": {
      "text/plain": [
       "'lateral_rusher_player_name'"
      ]
     },
     "execution_count": 5,
     "metadata": {},
     "output_type": "execute_result"
    },
    {
     "data": {
      "text/plain": [
       "'lateral_sack_player_id'"
      ]
     },
     "execution_count": 5,
     "metadata": {},
     "output_type": "execute_result"
    },
    {
     "data": {
      "text/plain": [
       "'lateral_sack_player_name'"
      ]
     },
     "execution_count": 5,
     "metadata": {},
     "output_type": "execute_result"
    },
    {
     "data": {
      "text/plain": [
       "'interception_player_id'"
      ]
     },
     "execution_count": 5,
     "metadata": {},
     "output_type": "execute_result"
    },
    {
     "data": {
      "text/plain": [
       "'interception_player_name'"
      ]
     },
     "execution_count": 5,
     "metadata": {},
     "output_type": "execute_result"
    },
    {
     "data": {
      "text/plain": [
       "'lateral_interception_player_id'"
      ]
     },
     "execution_count": 5,
     "metadata": {},
     "output_type": "execute_result"
    },
    {
     "data": {
      "text/plain": [
       "'lateral_interception_player_name'"
      ]
     },
     "execution_count": 5,
     "metadata": {},
     "output_type": "execute_result"
    },
    {
     "data": {
      "text/plain": [
       "'punt_returner_player_id'"
      ]
     },
     "execution_count": 5,
     "metadata": {},
     "output_type": "execute_result"
    },
    {
     "data": {
      "text/plain": [
       "'punt_returner_player_name'"
      ]
     },
     "execution_count": 5,
     "metadata": {},
     "output_type": "execute_result"
    },
    {
     "data": {
      "text/plain": [
       "'lateral_punt_returner_player_id'"
      ]
     },
     "execution_count": 5,
     "metadata": {},
     "output_type": "execute_result"
    },
    {
     "data": {
      "text/plain": [
       "'lateral_punt_returner_player_name'"
      ]
     },
     "execution_count": 5,
     "metadata": {},
     "output_type": "execute_result"
    },
    {
     "data": {
      "text/plain": [
       "'kickoff_returner_player_name'"
      ]
     },
     "execution_count": 5,
     "metadata": {},
     "output_type": "execute_result"
    },
    {
     "data": {
      "text/plain": [
       "'kickoff_returner_player_id'"
      ]
     },
     "execution_count": 5,
     "metadata": {},
     "output_type": "execute_result"
    },
    {
     "data": {
      "text/plain": [
       "'lateral_kickoff_returner_player_id'"
      ]
     },
     "execution_count": 5,
     "metadata": {},
     "output_type": "execute_result"
    },
    {
     "data": {
      "text/plain": [
       "'lateral_kickoff_returner_player_name'"
      ]
     },
     "execution_count": 5,
     "metadata": {},
     "output_type": "execute_result"
    },
    {
     "data": {
      "text/plain": [
       "'punter_player_id'"
      ]
     },
     "execution_count": 5,
     "metadata": {},
     "output_type": "execute_result"
    },
    {
     "data": {
      "text/plain": [
       "'punter_player_name'"
      ]
     },
     "execution_count": 5,
     "metadata": {},
     "output_type": "execute_result"
    },
    {
     "data": {
      "text/plain": [
       "'kicker_player_name'"
      ]
     },
     "execution_count": 5,
     "metadata": {},
     "output_type": "execute_result"
    },
    {
     "data": {
      "text/plain": [
       "'kicker_player_id'"
      ]
     },
     "execution_count": 5,
     "metadata": {},
     "output_type": "execute_result"
    },
    {
     "data": {
      "text/plain": [
       "'own_kickoff_recovery_player_id'"
      ]
     },
     "execution_count": 5,
     "metadata": {},
     "output_type": "execute_result"
    },
    {
     "data": {
      "text/plain": [
       "'own_kickoff_recovery_player_name'"
      ]
     },
     "execution_count": 5,
     "metadata": {},
     "output_type": "execute_result"
    },
    {
     "data": {
      "text/plain": [
       "'blocked_player_id'"
      ]
     },
     "execution_count": 5,
     "metadata": {},
     "output_type": "execute_result"
    },
    {
     "data": {
      "text/plain": [
       "'blocked_player_name'"
      ]
     },
     "execution_count": 5,
     "metadata": {},
     "output_type": "execute_result"
    },
    {
     "data": {
      "text/plain": [
       "'tackle_for_loss_1_player_id'"
      ]
     },
     "execution_count": 5,
     "metadata": {},
     "output_type": "execute_result"
    },
    {
     "data": {
      "text/plain": [
       "'tackle_for_loss_1_player_name'"
      ]
     },
     "execution_count": 5,
     "metadata": {},
     "output_type": "execute_result"
    },
    {
     "data": {
      "text/plain": [
       "'tackle_for_loss_2_player_id'"
      ]
     },
     "execution_count": 5,
     "metadata": {},
     "output_type": "execute_result"
    },
    {
     "data": {
      "text/plain": [
       "'tackle_for_loss_2_player_name'"
      ]
     },
     "execution_count": 5,
     "metadata": {},
     "output_type": "execute_result"
    },
    {
     "data": {
      "text/plain": [
       "'qb_hit_1_player_id'"
      ]
     },
     "execution_count": 5,
     "metadata": {},
     "output_type": "execute_result"
    },
    {
     "data": {
      "text/plain": [
       "'qb_hit_1_player_name'"
      ]
     },
     "execution_count": 5,
     "metadata": {},
     "output_type": "execute_result"
    },
    {
     "data": {
      "text/plain": [
       "'qb_hit_2_player_id'"
      ]
     },
     "execution_count": 5,
     "metadata": {},
     "output_type": "execute_result"
    },
    {
     "data": {
      "text/plain": [
       "'qb_hit_2_player_name'"
      ]
     },
     "execution_count": 5,
     "metadata": {},
     "output_type": "execute_result"
    },
    {
     "data": {
      "text/plain": [
       "'forced_fumble_player_1_team'"
      ]
     },
     "execution_count": 5,
     "metadata": {},
     "output_type": "execute_result"
    },
    {
     "data": {
      "text/plain": [
       "'forced_fumble_player_1_player_id'"
      ]
     },
     "execution_count": 5,
     "metadata": {},
     "output_type": "execute_result"
    },
    {
     "data": {
      "text/plain": [
       "'forced_fumble_player_1_player_name'"
      ]
     },
     "execution_count": 5,
     "metadata": {},
     "output_type": "execute_result"
    },
    {
     "data": {
      "text/plain": [
       "'forced_fumble_player_2_team'"
      ]
     },
     "execution_count": 5,
     "metadata": {},
     "output_type": "execute_result"
    },
    {
     "data": {
      "text/plain": [
       "'forced_fumble_player_2_player_id'"
      ]
     },
     "execution_count": 5,
     "metadata": {},
     "output_type": "execute_result"
    },
    {
     "data": {
      "text/plain": [
       "'forced_fumble_player_2_player_name'"
      ]
     },
     "execution_count": 5,
     "metadata": {},
     "output_type": "execute_result"
    },
    {
     "data": {
      "text/plain": [
       "'solo_tackle_1_team'"
      ]
     },
     "execution_count": 5,
     "metadata": {},
     "output_type": "execute_result"
    },
    {
     "data": {
      "text/plain": [
       "'solo_tackle_2_team'"
      ]
     },
     "execution_count": 5,
     "metadata": {},
     "output_type": "execute_result"
    },
    {
     "data": {
      "text/plain": [
       "'solo_tackle_1_player_id'"
      ]
     },
     "execution_count": 5,
     "metadata": {},
     "output_type": "execute_result"
    },
    {
     "data": {
      "text/plain": [
       "'solo_tackle_2_player_id'"
      ]
     },
     "execution_count": 5,
     "metadata": {},
     "output_type": "execute_result"
    },
    {
     "data": {
      "text/plain": [
       "'solo_tackle_1_player_name'"
      ]
     },
     "execution_count": 5,
     "metadata": {},
     "output_type": "execute_result"
    },
    {
     "data": {
      "text/plain": [
       "'solo_tackle_2_player_name'"
      ]
     },
     "execution_count": 5,
     "metadata": {},
     "output_type": "execute_result"
    },
    {
     "data": {
      "text/plain": [
       "'assist_tackle_1_player_id'"
      ]
     },
     "execution_count": 5,
     "metadata": {},
     "output_type": "execute_result"
    },
    {
     "data": {
      "text/plain": [
       "'assist_tackle_1_player_name'"
      ]
     },
     "execution_count": 5,
     "metadata": {},
     "output_type": "execute_result"
    },
    {
     "data": {
      "text/plain": [
       "'assist_tackle_1_team'"
      ]
     },
     "execution_count": 5,
     "metadata": {},
     "output_type": "execute_result"
    },
    {
     "data": {
      "text/plain": [
       "'assist_tackle_2_player_id'"
      ]
     },
     "execution_count": 5,
     "metadata": {},
     "output_type": "execute_result"
    },
    {
     "data": {
      "text/plain": [
       "'assist_tackle_2_player_name'"
      ]
     },
     "execution_count": 5,
     "metadata": {},
     "output_type": "execute_result"
    },
    {
     "data": {
      "text/plain": [
       "'assist_tackle_2_team'"
      ]
     },
     "execution_count": 5,
     "metadata": {},
     "output_type": "execute_result"
    },
    {
     "data": {
      "text/plain": [
       "'assist_tackle_3_player_id'"
      ]
     },
     "execution_count": 5,
     "metadata": {},
     "output_type": "execute_result"
    },
    {
     "data": {
      "text/plain": [
       "'assist_tackle_3_player_name'"
      ]
     },
     "execution_count": 5,
     "metadata": {},
     "output_type": "execute_result"
    },
    {
     "data": {
      "text/plain": [
       "'assist_tackle_3_team'"
      ]
     },
     "execution_count": 5,
     "metadata": {},
     "output_type": "execute_result"
    },
    {
     "data": {
      "text/plain": [
       "'assist_tackle_4_player_id'"
      ]
     },
     "execution_count": 5,
     "metadata": {},
     "output_type": "execute_result"
    },
    {
     "data": {
      "text/plain": [
       "'assist_tackle_4_player_name'"
      ]
     },
     "execution_count": 5,
     "metadata": {},
     "output_type": "execute_result"
    },
    {
     "data": {
      "text/plain": [
       "'assist_tackle_4_team'"
      ]
     },
     "execution_count": 5,
     "metadata": {},
     "output_type": "execute_result"
    },
    {
     "data": {
      "text/plain": [
       "'pass_defense_1_player_id'"
      ]
     },
     "execution_count": 5,
     "metadata": {},
     "output_type": "execute_result"
    },
    {
     "data": {
      "text/plain": [
       "'pass_defense_1_player_name'"
      ]
     },
     "execution_count": 5,
     "metadata": {},
     "output_type": "execute_result"
    },
    {
     "data": {
      "text/plain": [
       "'pass_defense_2_player_id'"
      ]
     },
     "execution_count": 5,
     "metadata": {},
     "output_type": "execute_result"
    },
    {
     "data": {
      "text/plain": [
       "'pass_defense_2_player_name'"
      ]
     },
     "execution_count": 5,
     "metadata": {},
     "output_type": "execute_result"
    },
    {
     "data": {
      "text/plain": [
       "'fumbled_1_team'"
      ]
     },
     "execution_count": 5,
     "metadata": {},
     "output_type": "execute_result"
    },
    {
     "data": {
      "text/plain": [
       "'fumbled_1_player_id'"
      ]
     },
     "execution_count": 5,
     "metadata": {},
     "output_type": "execute_result"
    },
    {
     "data": {
      "text/plain": [
       "'fumbled_1_player_name'"
      ]
     },
     "execution_count": 5,
     "metadata": {},
     "output_type": "execute_result"
    },
    {
     "data": {
      "text/plain": [
       "'fumbled_2_player_id'"
      ]
     },
     "execution_count": 5,
     "metadata": {},
     "output_type": "execute_result"
    },
    {
     "data": {
      "text/plain": [
       "'fumbled_2_player_name'"
      ]
     },
     "execution_count": 5,
     "metadata": {},
     "output_type": "execute_result"
    },
    {
     "data": {
      "text/plain": [
       "'fumbled_2_team'"
      ]
     },
     "execution_count": 5,
     "metadata": {},
     "output_type": "execute_result"
    },
    {
     "data": {
      "text/plain": [
       "'fumble_recovery_1_team'"
      ]
     },
     "execution_count": 5,
     "metadata": {},
     "output_type": "execute_result"
    },
    {
     "data": {
      "text/plain": [
       "'fumble_recovery_1_yards'"
      ]
     },
     "execution_count": 5,
     "metadata": {},
     "output_type": "execute_result"
    },
    {
     "data": {
      "text/plain": [
       "'fumble_recovery_1_player_id'"
      ]
     },
     "execution_count": 5,
     "metadata": {},
     "output_type": "execute_result"
    },
    {
     "data": {
      "text/plain": [
       "'fumble_recovery_1_player_name'"
      ]
     },
     "execution_count": 5,
     "metadata": {},
     "output_type": "execute_result"
    },
    {
     "data": {
      "text/plain": [
       "'fumble_recovery_2_team'"
      ]
     },
     "execution_count": 5,
     "metadata": {},
     "output_type": "execute_result"
    },
    {
     "data": {
      "text/plain": [
       "'fumble_recovery_2_yards'"
      ]
     },
     "execution_count": 5,
     "metadata": {},
     "output_type": "execute_result"
    },
    {
     "data": {
      "text/plain": [
       "'fumble_recovery_2_player_id'"
      ]
     },
     "execution_count": 5,
     "metadata": {},
     "output_type": "execute_result"
    },
    {
     "data": {
      "text/plain": [
       "'fumble_recovery_2_player_name'"
      ]
     },
     "execution_count": 5,
     "metadata": {},
     "output_type": "execute_result"
    },
    {
     "data": {
      "text/plain": [
       "'return_team'"
      ]
     },
     "execution_count": 5,
     "metadata": {},
     "output_type": "execute_result"
    },
    {
     "data": {
      "text/plain": [
       "'return_yards'"
      ]
     },
     "execution_count": 5,
     "metadata": {},
     "output_type": "execute_result"
    },
    {
     "data": {
      "text/plain": [
       "'penalty_team'"
      ]
     },
     "execution_count": 5,
     "metadata": {},
     "output_type": "execute_result"
    },
    {
     "data": {
      "text/plain": [
       "'penalty_player_id'"
      ]
     },
     "execution_count": 5,
     "metadata": {},
     "output_type": "execute_result"
    },
    {
     "data": {
      "text/plain": [
       "'penalty_player_name'"
      ]
     },
     "execution_count": 5,
     "metadata": {},
     "output_type": "execute_result"
    },
    {
     "data": {
      "text/plain": [
       "'penalty_yards'"
      ]
     },
     "execution_count": 5,
     "metadata": {},
     "output_type": "execute_result"
    },
    {
     "data": {
      "text/plain": [
       "'replay_or_challenge'"
      ]
     },
     "execution_count": 5,
     "metadata": {},
     "output_type": "execute_result"
    },
    {
     "data": {
      "text/plain": [
       "'replay_or_challenge_result'"
      ]
     },
     "execution_count": 5,
     "metadata": {},
     "output_type": "execute_result"
    },
    {
     "data": {
      "text/plain": [
       "'penalty_type'"
      ]
     },
     "execution_count": 5,
     "metadata": {},
     "output_type": "execute_result"
    },
    {
     "data": {
      "text/plain": [
       "'defensive_two_point_attempt'"
      ]
     },
     "execution_count": 5,
     "metadata": {},
     "output_type": "execute_result"
    },
    {
     "data": {
      "text/plain": [
       "'defensive_two_point_conv'"
      ]
     },
     "execution_count": 5,
     "metadata": {},
     "output_type": "execute_result"
    },
    {
     "data": {
      "text/plain": [
       "'defensive_extra_point_attempt'"
      ]
     },
     "execution_count": 5,
     "metadata": {},
     "output_type": "execute_result"
    },
    {
     "data": {
      "text/plain": [
       "'defensive_extra_point_conv'"
      ]
     },
     "execution_count": 5,
     "metadata": {},
     "output_type": "execute_result"
    }
   ],
   "source": [
    "#listing categories\n",
    "full_columns = [#play/game info\n",
    "                \"play_id\",\"game_id\",\"home_team\", \"away_team\", \"posteam\", \"defteam\", \"desc\",\n",
    "    \n",
    "                #kickoff info\n",
    "                \"kickoff_returner_player_name\", \"kicker_player_name\", \"return_team\", \"return_yards\",\n",
    "                \"kick_distance\", \"touchback\", \"kickoff_inside_twenty\", 'kickoff_in_endzone', \n",
    "                'kickoff_out_of_bounds','kickoff_downed','kickoff_fair_catch'#,\n",
    "    \n",
    "                #fumbles, onside kicks, touchdowns\n",
    "                #'fumble_forced','fumble_not_forced','fumble_out_of_bounds', \"own_kickoff_recovery\", \n",
    "                #\"own_kickoff_recovery_td\", \"touchdown\", \"fumble\"\n",
    "               ]\n",
    "\n",
    "for col in kickoff_df.columns:\n",
    "    col"
   ]
  },
  {
   "cell_type": "code",
   "execution_count": 6,
   "metadata": {
    "scrolled": true
   },
   "outputs": [
    {
     "data": {
      "text/html": [
       "<div>\n",
       "<style scoped>\n",
       "    .dataframe tbody tr th:only-of-type {\n",
       "        vertical-align: middle;\n",
       "    }\n",
       "\n",
       "    .dataframe tbody tr th {\n",
       "        vertical-align: top;\n",
       "    }\n",
       "\n",
       "    .dataframe thead th {\n",
       "        text-align: right;\n",
       "    }\n",
       "</style>\n",
       "<table border=\"1\" class=\"dataframe\">\n",
       "  <thead>\n",
       "    <tr style=\"text-align: right;\">\n",
       "      <th></th>\n",
       "      <th>play_id</th>\n",
       "      <th>game_id</th>\n",
       "      <th>home_team</th>\n",
       "      <th>away_team</th>\n",
       "      <th>posteam</th>\n",
       "      <th>defteam</th>\n",
       "      <th>desc</th>\n",
       "      <th>kickoff_returner_player_name</th>\n",
       "      <th>kicker_player_name</th>\n",
       "      <th>return_team</th>\n",
       "      <th>return_yards</th>\n",
       "      <th>kick_distance</th>\n",
       "      <th>touchback</th>\n",
       "      <th>kickoff_inside_twenty</th>\n",
       "      <th>kickoff_in_endzone</th>\n",
       "      <th>kickoff_out_of_bounds</th>\n",
       "      <th>kickoff_downed</th>\n",
       "      <th>kickoff_fair_catch</th>\n",
       "    </tr>\n",
       "  </thead>\n",
       "  <tbody>\n",
       "    <tr>\n",
       "      <th>0</th>\n",
       "      <td>35</td>\n",
       "      <td>2019090500</td>\n",
       "      <td>CHI</td>\n",
       "      <td>GB</td>\n",
       "      <td>GB</td>\n",
       "      <td>CHI</td>\n",
       "      <td>E.Pineiro kicks 65 yards from CHI 35 to end zo...</td>\n",
       "      <td>NaN</td>\n",
       "      <td>E.Pineiro</td>\n",
       "      <td>NaN</td>\n",
       "      <td>0</td>\n",
       "      <td>NaN</td>\n",
       "      <td>1</td>\n",
       "      <td>0.0</td>\n",
       "      <td>0.0</td>\n",
       "      <td>0.0</td>\n",
       "      <td>0.0</td>\n",
       "      <td>0.0</td>\n",
       "    </tr>\n",
       "    <tr>\n",
       "      <th>23</th>\n",
       "      <td>659</td>\n",
       "      <td>2019090500</td>\n",
       "      <td>CHI</td>\n",
       "      <td>GB</td>\n",
       "      <td>GB</td>\n",
       "      <td>CHI</td>\n",
       "      <td>E.Pineiro kicks 59 yards from CHI 35 to GB 6, ...</td>\n",
       "      <td>NaN</td>\n",
       "      <td>E.Pineiro</td>\n",
       "      <td>NaN</td>\n",
       "      <td>0</td>\n",
       "      <td>25.0</td>\n",
       "      <td>0</td>\n",
       "      <td>0.0</td>\n",
       "      <td>0.0</td>\n",
       "      <td>1.0</td>\n",
       "      <td>0.0</td>\n",
       "      <td>0.0</td>\n",
       "    </tr>\n",
       "    <tr>\n",
       "      <th>44</th>\n",
       "      <td>1227</td>\n",
       "      <td>2019090500</td>\n",
       "      <td>CHI</td>\n",
       "      <td>GB</td>\n",
       "      <td>CHI</td>\n",
       "      <td>GB</td>\n",
       "      <td>M.Crosby kicks 65 yards from GB 35 to end zone...</td>\n",
       "      <td>NaN</td>\n",
       "      <td>M.Crosby</td>\n",
       "      <td>NaN</td>\n",
       "      <td>0</td>\n",
       "      <td>NaN</td>\n",
       "      <td>1</td>\n",
       "      <td>0.0</td>\n",
       "      <td>0.0</td>\n",
       "      <td>0.0</td>\n",
       "      <td>0.0</td>\n",
       "      <td>0.0</td>\n",
       "    </tr>\n",
       "    <tr>\n",
       "      <th>84</th>\n",
       "      <td>2260</td>\n",
       "      <td>2019090500</td>\n",
       "      <td>CHI</td>\n",
       "      <td>GB</td>\n",
       "      <td>CHI</td>\n",
       "      <td>GB</td>\n",
       "      <td>M.Crosby kicks 65 yards from GB 35 to end zone...</td>\n",
       "      <td>NaN</td>\n",
       "      <td>M.Crosby</td>\n",
       "      <td>NaN</td>\n",
       "      <td>0</td>\n",
       "      <td>NaN</td>\n",
       "      <td>1</td>\n",
       "      <td>0.0</td>\n",
       "      <td>0.0</td>\n",
       "      <td>0.0</td>\n",
       "      <td>0.0</td>\n",
       "      <td>0.0</td>\n",
       "    </tr>\n",
       "    <tr>\n",
       "      <th>146</th>\n",
       "      <td>3963</td>\n",
       "      <td>2019090500</td>\n",
       "      <td>CHI</td>\n",
       "      <td>GB</td>\n",
       "      <td>CHI</td>\n",
       "      <td>GB</td>\n",
       "      <td>M.Crosby kicks 65 yards from GB 35 to end zone...</td>\n",
       "      <td>NaN</td>\n",
       "      <td>M.Crosby</td>\n",
       "      <td>NaN</td>\n",
       "      <td>0</td>\n",
       "      <td>NaN</td>\n",
       "      <td>1</td>\n",
       "      <td>0.0</td>\n",
       "      <td>0.0</td>\n",
       "      <td>0.0</td>\n",
       "      <td>0.0</td>\n",
       "      <td>0.0</td>\n",
       "    </tr>\n",
       "  </tbody>\n",
       "</table>\n",
       "</div>"
      ],
      "text/plain": [
       "     play_id     game_id home_team away_team posteam defteam  \\\n",
       "0         35  2019090500       CHI        GB      GB     CHI   \n",
       "23       659  2019090500       CHI        GB      GB     CHI   \n",
       "44      1227  2019090500       CHI        GB     CHI      GB   \n",
       "84      2260  2019090500       CHI        GB     CHI      GB   \n",
       "146     3963  2019090500       CHI        GB     CHI      GB   \n",
       "\n",
       "                                                  desc  \\\n",
       "0    E.Pineiro kicks 65 yards from CHI 35 to end zo...   \n",
       "23   E.Pineiro kicks 59 yards from CHI 35 to GB 6, ...   \n",
       "44   M.Crosby kicks 65 yards from GB 35 to end zone...   \n",
       "84   M.Crosby kicks 65 yards from GB 35 to end zone...   \n",
       "146  M.Crosby kicks 65 yards from GB 35 to end zone...   \n",
       "\n",
       "    kickoff_returner_player_name kicker_player_name return_team  return_yards  \\\n",
       "0                            NaN          E.Pineiro         NaN             0   \n",
       "23                           NaN          E.Pineiro         NaN             0   \n",
       "44                           NaN           M.Crosby         NaN             0   \n",
       "84                           NaN           M.Crosby         NaN             0   \n",
       "146                          NaN           M.Crosby         NaN             0   \n",
       "\n",
       "     kick_distance  touchback  kickoff_inside_twenty  kickoff_in_endzone  \\\n",
       "0              NaN          1                    0.0                 0.0   \n",
       "23            25.0          0                    0.0                 0.0   \n",
       "44             NaN          1                    0.0                 0.0   \n",
       "84             NaN          1                    0.0                 0.0   \n",
       "146            NaN          1                    0.0                 0.0   \n",
       "\n",
       "     kickoff_out_of_bounds  kickoff_downed  kickoff_fair_catch  \n",
       "0                      0.0             0.0                 0.0  \n",
       "23                     1.0             0.0                 0.0  \n",
       "44                     0.0             0.0                 0.0  \n",
       "84                     0.0             0.0                 0.0  \n",
       "146                    0.0             0.0                 0.0  "
      ]
     },
     "execution_count": 6,
     "metadata": {},
     "output_type": "execute_result"
    }
   ],
   "source": [
    "#dropping categories\n",
    "kickoff_df = kickoff_df[full_columns]\n",
    "kickoff_df.head()\n",
    "num_kickoffs = len(kickoff_df)\n",
    "\n",
    "#no_tb_df = kickoff_df[kickoff_df['touchback']==1]\n",
    "#no_tb_df.head()"
   ]
  },
  {
   "cell_type": "code",
   "execution_count": 7,
   "metadata": {
    "scrolled": false
   },
   "outputs": [
    {
     "name": "stdout",
     "output_type": "stream",
     "text": [
      "There are 941 labeled samples, and 0.36374178585233863% of kickoff_returner_player_name is not null.\n"
     ]
    },
    {
     "data": {
      "image/png": "[encoded data removed]",
      "text/plain": [
       "<Figure size 432x288 with 1 Axes>"
      ]
     },
     "metadata": {
      "needs_background": "light"
     },
     "output_type": "display_data"
    },
    {
     "name": "stdout",
     "output_type": "stream",
     "text": [
      "There are 2587 labeled samples, and 1.0% of kicker_player_name is not null.\n"
     ]
    },
    {
     "data": {
      "image/png": "[encoded data removed]",
      "text/plain": [
       "<Figure size 432x288 with 1 Axes>"
      ]
     },
     "metadata": {
      "needs_background": "light"
     },
     "output_type": "display_data"
    },
    {
     "name": "stdout",
     "output_type": "stream",
     "text": [
      "There are 938 labeled samples, and 0.36258214147661383% of return_team is not null.\n"
     ]
    },
    {
     "data": {
      "image/png": "[encoded data removed]",
      "text/plain": [
       "<Figure size 432x288 with 1 Axes>"
      ]
     },
     "metadata": {
      "needs_background": "light"
     },
     "output_type": "display_data"
    },
    {
     "name": "stdout",
     "output_type": "stream",
     "text": [
      "There are 2587 labeled samples, and 1.0% of return_yards is not null.\n"
     ]
    },
    {
     "data": {
      "image/png": "[encoded data removed]",
      "text/plain": [
       "<Figure size 432x288 with 1 Axes>"
      ]
     },
     "metadata": {
      "needs_background": "light"
     },
     "output_type": "display_data"
    },
    {
     "name": "stdout",
     "output_type": "stream",
     "text": [
      "There are 645 labeled samples, and 0.24932354078082722% of kick_distance is not null.\n"
     ]
    },
    {
     "data": {
      "image/png": "[encoded data removed]",
      "text/plain": [
       "<Figure size 432x288 with 1 Axes>"
      ]
     },
     "metadata": {
      "needs_background": "light"
     },
     "output_type": "display_data"
    },
    {
     "name": "stdout",
     "output_type": "stream",
     "text": [
      "There are 2587 labeled samples, and 1.0% of touchback is not null.\n"
     ]
    },
    {
     "data": {
      "image/png": "[encoded data removed]",
      "text/plain": [
       "<Figure size 432x288 with 1 Axes>"
      ]
     },
     "metadata": {
      "needs_background": "light"
     },
     "output_type": "display_data"
    },
    {
     "name": "stdout",
     "output_type": "stream",
     "text": [
      "There are 2587 labeled samples, and 1.0% of kickoff_inside_twenty is not null.\n"
     ]
    },
    {
     "data": {
      "image/png": "[encoded data removed]",
      "text/plain": [
       "<Figure size 432x288 with 1 Axes>"
      ]
     },
     "metadata": {
      "needs_background": "light"
     },
     "output_type": "display_data"
    },
    {
     "name": "stdout",
     "output_type": "stream",
     "text": [
      "There are 2587 labeled samples, and 1.0% of kickoff_in_endzone is not null.\n"
     ]
    },
    {
     "data": {
      "image/png": "[encoded data removed]",
      "text/plain": [
       "<Figure size 432x288 with 1 Axes>"
      ]
     },
     "metadata": {
      "needs_background": "light"
     },
     "output_type": "display_data"
    },
    {
     "name": "stdout",
     "output_type": "stream",
     "text": [
      "There are 2587 labeled samples, and 1.0% of kickoff_out_of_bounds is not null.\n"
     ]
    },
    {
     "data": {
      "image/png": "[encoded data removed]",
      "text/plain": [
       "<Figure size 432x288 with 1 Axes>"
      ]
     },
     "metadata": {
      "needs_background": "light"
     },
     "output_type": "display_data"
    },
    {
     "name": "stdout",
     "output_type": "stream",
     "text": [
      "There are 2587 labeled samples, and 1.0% of kickoff_downed is not null.\n"
     ]
    },
    {
     "data": {
      "image/png": "[encoded data removed]",
      "text/plain": [
       "<Figure size 432x288 with 1 Axes>"
      ]
     },
     "metadata": {
      "needs_background": "light"
     },
     "output_type": "display_data"
    },
    {
     "name": "stdout",
     "output_type": "stream",
     "text": [
      "There are 2587 labeled samples, and 1.0% of kickoff_fair_catch is not null.\n"
     ]
    },
    {
     "data": {
      "image/png": "[encoded data removed]",
      "text/plain": [
       "<Figure size 432x288 with 1 Axes>"
      ]
     },
     "metadata": {
      "needs_background": "light"
     },
     "output_type": "display_data"
    }
   ],
   "source": [
    "#checking categories\n",
    "def summarizeCategory(categoryName):\n",
    "    cat_len = len(kickoff_df[kickoff_df[categoryName].notna()][categoryName])\n",
    "    have_data = cat_len/num_kickoffs\n",
    "    print(f\"There are {cat_len} labeled samples, and {have_data}% of {categoryName} is not null.\")\n",
    "    _ = plt.hist(kickoff_df[kickoff_df[categoryName].notna()][categoryName])\n",
    "    plt.show()\n",
    "\n",
    "categories = [\"kickoff_returner_player_name\", \"kicker_player_name\", \"return_team\", \"return_yards\",\n",
    "                \"kick_distance\", \"touchback\", \"kickoff_inside_twenty\", 'kickoff_in_endzone', \n",
    "                'kickoff_out_of_bounds','kickoff_downed','kickoff_fair_catch']\n",
    "    \n",
    "for category in categories:\n",
    "    summarizeCategory(category)"
   ]
  },
  {
   "cell_type": "markdown",
   "metadata": {},
   "source": [
    "**Summary**<br>\n",
    "As you can see, these categories aren't really consistent at all. They aren't all labeled at the same coverage and some categories make no sense (kick distance is 25 yards but it's a touchback--not out of bounds). This likely means that the webscraper used didn't work well on the kickoff stats. Luckily, we have the \"desc\" category that we can use to get stats from. Onto Regex!"
   ]
  },
  {
   "cell_type": "markdown",
   "metadata": {},
   "source": [
    "### Harvesting Kickoff Stats with RE"
   ]
  },
  {
   "cell_type": "code",
   "execution_count": 8,
   "metadata": {},
   "outputs": [],
   "source": [
    "#cutting down the df\n",
    "kickoff_df = pbp_df[pbp_df[\"play_type\"] == \"kickoff\"]\n",
    "columns = [\"play_id\",\"game_id\",\"home_team\", \"away_team\", \"posteam\", \"defteam\", \"desc\",\n",
    "          \"kickoff_returner_player_name\", \"kicker_player_name\"]\n",
    "kickoff_df = kickoff_df[columns]"
   ]
  },
  {
   "cell_type": "code",
   "execution_count": 9,
   "metadata": {
    "scrolled": true
   },
   "outputs": [
    {
     "name": "stdout",
     "output_type": "stream",
     "text": [
      "E.Pineiro kicks 65 yards from CHI 35 to end zone, Touchback.\n",
      "E.Pineiro kicks 59 yards from CHI 35 to GB 6, out of bounds.\n",
      "M.Crosby kicks 65 yards from GB 35 to end zone, Touchback.\n",
      "M.Crosby kicks 65 yards from GB 35 to end zone, Touchback.\n",
      "M.Crosby kicks 65 yards from GB 35 to end zone, Touchback.\n",
      "G.Zuerlein kicks 65 yards from LA 35 to end zone, Touchback.\n",
      "G.Zuerlein kicks 65 yards from LA 35 to CAR 0. R.McCloud to CAR 25 for 25 yards (T.Hill; M.Christian).\n",
      "G.Zuerlein kicks 59 yards from LA 35 to CAR 6. R.McCloud to CAR 32 for 26 yards (T.Rapp).\n",
      "G.Zuerlein kicks 65 yards from LA 35 to end zone, Touchback.\n",
      "J.Slye kicks 65 yards from CAR 35 to end zone, Touchback.\n",
      "G.Zuerlein kicks 62 yards from LA 35 to CAR 3, out of bounds.\n",
      "J.Slye kicks 65 yards from CAR 35 to end zone, Touchback.\n",
      "J.Slye kicks 65 yards from CAR 35 to end zone, Touchback.\n",
      "J.Slye kicks 65 yards from CAR 35 to end zone, Touchback.\n",
      "G.Zuerlein kicks 65 yards from LA 35 to end zone, Touchback.\n",
      "J.Slye kicks onside 15 yards from CAR 35 to 50. R.Woods (didn't try to advance) to 50 for no gain.\n",
      "J.Elliott kicks 57 yards from PHI 35 to WAS 8. S.Sims to WAS 20 for 12 yards (J.Sweat).\n",
      "D.Hopkins kicks 65 yards from WAS 35 to end zone, Touchback.\n",
      "D.Hopkins kicks 65 yards from WAS 35 to end zone, Touchback.\n",
      "D.Hopkins kicks 65 yards from WAS 35 to end zone, Touchback.\n",
      "J.Elliott kicks 65 yards from PHI 35 to end zone, Touchback.\n",
      "D.Hopkins kicks 65 yards from WAS 35 to end zone, Touchback.\n",
      "J.Elliott kicks 65 yards from PHI 35 to end zone, Touchback.\n",
      "J.Elliott kicks 53 yards from PHI 35 to WAS 12. S.Sims to WAS 27 for 15 yards (A.Sendejo).\n",
      "J.Elliott kicks 63 yards from PHI 35 to WAS 2. S.Sims to WAS 21 for 19 yards (A.Sendejo).\n",
      "J.Elliott kicks 65 yards from PHI 35 to end zone, Touchback.\n",
      "K.Vedvik kicks 65 yards from NYJ 35 to end zone, Touchback.\n",
      "K.Vedvik kicks 65 yards from NYJ 35 to end zone, Touchback.\n",
      "S.Hauschka kicks 65 yards from BUF 35 to end zone, Touchback.\n",
      "C.Bojorquez kicks 50 yards from BUF 20 to NYJ 30. B.Berrios to NYJ 40 for 10 yards (Mau.Alexander).\n",
      "K.Vedvik kicks 65 yards from NYJ 35 to end zone, Touchback.\n",
      "S.Hauschka kicks 65 yards from BUF 35 to end zone, Touchback.\n",
      "S.Hauschka kicks 65 yards from BUF 35 to end zone, Touchback.\n",
      "S.Hauschka kicks 65 yards from BUF 35 to end zone, Touchback.\n",
      "D.Bailey kicks 65 yards from MIN 35 to end zone, Touchback.\n",
      "D.Bailey kicks 67 yards from MIN 35 to ATL -2. K.Barner to ATL 16 for 18 yards (K.Brothers).\n",
      "D.Bailey kicks 65 yards from MIN 35 to end zone, Touchback.\n",
      "D.Bailey kicks 60 yards from MIN 40 to end zone, Touchback.\n",
      "M.Bosher kicks 65 yards from ATL 35 to end zone, Touchback.\n",
      "D.Bailey kicks 68 yards from MIN 35 to ATL -3. K.Barner to ATL 23 for 26 yards (B.Gedeon).\n",
      "M.Bosher kicks 49 yards from ATL 35 to MIN 16. C.Beebe pushed ob at MIN 29 for 13 yards (R.Allen).\n",
      "J.Sanders kicks 66 yards from MIA 35 to BAL -1. J.Hill MUFFS catch, and recovers at BAL 2. J.Hill to BAL 11 for 9 yards (D.Lacey).\n",
      "J.Tucker kicks 67 yards from BAL 35 to MIA -2. J.Grant to MIA 21 for 23 yards (D.Elliott).\n",
      "J.Tucker kicks 65 yards from BAL 35 to end zone, Touchback.\n",
      "J.Tucker kicks 65 yards from BAL 35 to MIA 0. J.Grant to MIA 15 for 15 yards (B.Trawick).\n",
      "J.Tucker kicks 65 yards from BAL 35 to end zone, Touchback.\n",
      "J.Sanders kicks 65 yards from MIA 35 to end zone, Touchback.\n",
      "J.Tucker kicks 66 yards from BAL 35 to MIA -1. J.Grant to MIA 20 for 21 yards (B.Trawick; C.Clark). PENALTY on MIA-C.Lammons, Offensive Holding, 10 yards, enforced at MIA 20.\n",
      "J.Tucker kicks 65 yards from BAL 35 to end zone, Touchback.\n",
      "J.Sanders kicks 65 yards from MIA 35 to end zone, Touchback.\n",
      "J.Tucker kicks 65 yards from BAL 35 to end zone, Touchback.\n",
      "J.Tucker kicks 65 yards from BAL 35 to end zone, Touchback.\n",
      "J.Tucker kicks 65 yards from BAL 35 to end zone, Touchback.\n",
      "J.Lambo kicks 67 yards from JAX 35 to KC -2. M.Hardman to KC 25 for 27 yards (L.Jacobs).\n",
      "H.Butker kicks 65 yards from KC 35 to end zone, Touchback.\n",
      "H.Butker kicks 65 yards from KC 35 to end zone, Touchback.\n",
      "L.Cooke kicks 63 yards from JAX 35 to KC 2. M.Hardman to KC 20 for 18 yards (R.Harrison).\n",
      "H.Butker kicks 65 yards from KC 35 to end zone, Touchback.\n",
      "J.Lambo kicks 65 yards from JAX 35 to end zone, Touchback.\n",
      "H.Butker kicks 65 yards from KC 35 to end zone, Touchback.\n",
      "J.Lambo kicks 65 yards from JAX 35 to end zone, Touchback.\n",
      "H.Butker kicks 65 yards from KC 35 to end zone, Touchback.\n",
      "H.Butker kicks 65 yards from KC 35 to end zone, Touchback.\n",
      "H.Butker kicks 60 yards from KC 35 to JAX 5. T.Ervin to JAX 22 for 17 yards (D.O'Daniel).\n",
      "H.Butker kicks 65 yards from KC 35 to JAX 0. T.Ervin to JAX 21 for 21 yards (D.Sorensen).\n",
      "J.Lambo kicks onside 11 yards from JAX 35 to JAX 46. A.Watts (didn't try to advance) to JAX 46 for no gain (A.Wingard).\n",
      "H.Butker kicks 65 yards from KC 35 to end zone, Touchback.\n",
      "J.Lambo kicks onside 12 yards from JAX 35 to JAX 47. A.Watts (didn't try to advance) to JAX 47 for no gain (A.Wingard).\n",
      "C.Santos kicks 70 yards from TEN 35 to CLE -5. D.Hilliard to CLE 27 for 32 yards (D.Jennings).\n",
      "A.Seibert kicks 59 yards from CLE 35 to TEN 6. D.Jennings to TEN 17 for 11 yards (P.Brown; K.Hodge). PENALTY on TEN-D.Fluellen, Illegal Double-Team Block, 8 yards, enforced at TEN 16.\n",
      "C.Santos kicks 70 yards from TEN 35 to CLE -5. D.Hilliard to CLE 25 for 30 yards (K.Vaccaro). PENALTY on CLE-D.Johnson, Illegal Double-Team Block, 11 yards, enforced at CLE 22.\n",
      "C.Santos kicks 56 yards from TEN 35 to CLE 9. D.Hilliard to CLE 30 for 21 yards (W.Woodyard).\n",
      "J.Gillan kicks 62 yards from CLE 20 to TEN 18. A.Jackson to TEN 41 for 23 yards (S.Redwine).\n",
      "A.Seibert kicks 61 yards from CLE 35 to TEN 4. D.Jennings to TEN 21 for 17 yards (M.Jefferson).\n",
      "C.Santos kicks 65 yards from TEN 35 to end zone, Touchback.\n",
      "A.Seibert kicks 65 yards from CLE 35 to end zone, Touchback.\n",
      "C.Santos kicks 65 yards from TEN 35 to end zone, Touchback.\n",
      "C.Santos kicks 65 yards from TEN 35 to end zone, Touchback.\n",
      "C.Santos kicks 60 yards from TEN 35 to CLE 5. D.Johnson to CLE 28 for 23 yards (D.Fluellen).\n",
      "C.Santos kicks 50 yards from 50 to end zone, Touchback.\n",
      "R.Sanchez kicks 69 yards from IND 35 to LAC -4. D.King to LAC 39 for 43 yards (Z.Pascal).\n",
      "T.Long kicks 61 yards from LAC 35 to IND 4. P.Campbell to IND 25 for 21 yards (D.Watt).\n",
      "R.Sanchez kicks 65 yards from IND 35 to end zone, Touchback.\n",
      "T.Long kicks 65 yards from LAC 35 to end zone, Touchback.\n",
      "T.Long kicks 67 yards from LAC 35 to IND -2. P.Campbell to IND 21 for 23 yards (D.Tranquill).\n",
      "T.Long kicks 65 yards from LAC 35 to end zone, Touchback.\n",
      "R.Sanchez kicks 65 yards from IND 35 to end zone, Touchback.\n",
      "T.Long kicks 65 yards from LAC 35 to end zone, Touchback.\n",
      "R.Sanchez kicks 65 yards from IND 35 to end zone, Touchback.\n",
      "R.Sanchez kicks 65 yards from IND 35 to end zone, Touchback.\n",
      "R.Sanchez kicks 65 yards from IND 35 to end zone, Touchback.\n",
      "J.Myers kicks 65 yards from SEA 35 to end zone, Touchback.\n",
      "R.Bullock kicks 65 yards from CIN 35 to end zone, Touchback.\n",
      "J.Myers kicks 65 yards from SEA 35 to end zone, Touchback.\n",
      "R.Bullock kicks 65 yards from CIN 35 to end zone, Touchback.\n",
      "J.Myers kicks 65 yards from SEA 35 to end zone, Touchback.\n",
      "R.Bullock kicks 61 yards from CIN 35 to SEA 4. R.Penny to SEA 25 for 21 yards (C.Carter, K.Wynn).\n",
      "R.Bullock kicks 65 yards from CIN 35 to end zone, Touchback.\n",
      "J.Myers kicks 65 yards from SEA 35 to end zone, Touchback.\n",
      "R.Bullock kicks 65 yards from CIN 35 to end zone, Touchback.\n"
     ]
    }
   ],
   "source": [
    "#checking out some descriptions\n",
    "desc = list(kickoff_df.head(100)['desc'])\n",
    "for _ in desc:\n",
    "    print(_)"
   ]
  },
  {
   "cell_type": "code",
   "execution_count": 10,
   "metadata": {},
   "outputs": [],
   "source": [
    "def make_DF(texts):\n",
    "    #FIRST SENTENCE\n",
    "    kicker = [] #String\n",
    "    isTouchback = [] #bool\n",
    "    isOutOfBounds = [] #bool\n",
    "    isOnside = [] #bool\n",
    "    isFairCatch = [] #bool\n",
    "    kick_yards = [] #int\n",
    "    kick_start = [] #int\n",
    "    \n",
    "    tb = re.compile(\"Touchback\")\n",
    "    oob = re.compile(\"out of bounds\")\n",
    "    fc = re.compile(\"fair catch\")\n",
    "    kck_dist1 = re.compile(\"kicks( onside)? [0-9]{1,2} yards\") #if you want to sort onside kicks... do it here.\n",
    "    kck_dist2 = re.compile(\"[0-9]+\") #kicks from 0-anything\n",
    "    kck_spot1 = re.compile(\"from ([A-Z]{2,3} )?[0-9]{1,3} to (([A-Z]{2,3} )?-?[0-9]{1,3}|end zone)\")\n",
    "    kck_spot2 = re.compile(\"-?[0-9]{1,3}\") #ints, strings?\n",
    "    \n",
    "    #SECOND SENTENCE\n",
    "    returners = [] #String\n",
    "    tacklers = [] #String\n",
    "    returnYards = [] #int\n",
    "    returnSpot = [] #int\n",
    "    isReturned = [] #bool\n",
    "    isAdvanced = [] #bool\n",
    "    isTouchdown = [] #bool\n",
    "    \n",
    "    return_sent = re.compile(\"(\\w)\\.(\\w)+(((\\-| )\\w+(\\.)?)?) (((\\(didn't try to advance\\) )?(to ([A-Z]{1,3} )?[0-9]{1,3} )?)|((ran|pushed) ob at ([A-Z]{1,3} )?[0-9]{1,3}) )for ((-)?[0-9]{1,3} yard(s)?|(no gain))( \\((((\\w)\\.(\\w)+(((\\-| )\\w+(\\.)?)?)(;|,) )*(\\w)\\.(\\w)+(((\\-| )\\w+(\\.)?)?))\\))?\")\n",
    "    returner_sent = re.compile(\"(\\w)\\.(\\w)+(((\\-| )\\w+(\\.)?)?) (((\\(didn't try to advance\\) )?(to ([A-Z]{1,3} )?[0-9]{1,3} )?)|((ran|pushed) ob at ([A-Z]{1,3} )?[0-9]{1,3}) )for ((-)?[0-9]{1,3} yard(s)?|(no gain))\")\n",
    "    tackler_sent = re.compile(\"(((\\(didn't try to advance\\) )?(to ([A-Z]{1,3} )?[0-9]{1,3} )?)|((ran|pushed) ob at ([A-Z]{1,3} )?[0-9]{1,3}) )for ((-)?[0-9]{1,3} yard(s)?|(no gain))( \\((((\\w)\\.(\\w)+(((\\-| )\\w+(\\.)?)?)(;|,) )*(\\w)\\.(\\w)+(((\\-| )\\w+(\\.)?)?))\\))?\")\n",
    "    advanced = re.compile(\"\\(didn't try to advance\\)\")\n",
    "    touchdown = re.compile(\"TOUCHDOWN\")\n",
    "    name = re.compile(\"(\\w\\.\\w+((\\-| [A-Z])\\w+)?\\.?)\")\n",
    "    \n",
    "    return_spot = re.compile(\"to (([A-Z]{1,3} )?[0-9]{1,3} )?|((ran|pushed) ob at ([A-Z]{1,3} )?[0-9]{1,3}) \")\n",
    "    return_yards = re.compile(\"for ((-)?[0-9]{1,3} yard(s)?|(no gain))\")\n",
    "    spot = re.compile(\"-?[0-9]{1,3}\") #should this have -\n",
    "    yards = re.compile(\"-?[0-9]{1,3}\")\n",
    "    \n",
    "    #(((\\-| )\\w+(\\.)?)?)\n",
    "    i=0\n",
    "    for text in texts: #this runs in polynomial time, don't care about optimizing\n",
    "        #FIRST SENTENCE\n",
    "        #Kicker\n",
    "        kicker.append(text.split(\" kicks\")[0])\n",
    "        \n",
    "        #Touchbacks\n",
    "        tb_result = re.search(tb, text)\n",
    "        if(tb_result != None):\n",
    "            isTouchback.append(True)\n",
    "        else:\n",
    "            isTouchback.append(False)\n",
    "        \n",
    "        #Out of Bounds\n",
    "        oob_result = re.search(oob, text)\n",
    "        if(oob_result != None):\n",
    "            isOutOfBounds.append(True)\n",
    "        else:\n",
    "            isOutOfBounds.append(False)\n",
    "        \n",
    "        #Onside Kick\n",
    "        onside_result1 = re.search(kck_dist1, text)\n",
    "        onside_result2 = re.search(\"onside\", onside_result1.group())\n",
    "        if(onside_result2 == None):\n",
    "            isOnside.append(False)\n",
    "        else:\n",
    "            isOnside.append(True)\n",
    "         \n",
    "        #Fair Catch\n",
    "        fc_result = re.search(fc, text)\n",
    "        if(fc_result != None):\n",
    "            isFairCatch.append(True)\n",
    "        else:\n",
    "            isFairCatch.append(False)\n",
    "        \n",
    "        #Kick Distance\n",
    "        kck_dist_result = re.search(kck_dist1, text)\n",
    "        if(kck_dist_result == None):\n",
    "            print(\"ERROR\")\n",
    "        else:\n",
    "            kck_dist_result = re.search(kck_dist2, kck_dist_result.group())\n",
    "            kick_yards.append(int(kck_dist_result.group()))\n",
    "            \n",
    "        #Kick Start\n",
    "        ks_result1 = re.search(kck_spot1, text)\n",
    "        if(ks_result1 != None):\n",
    "            ks_result1 = re.sub(\"end zone\", \"00\", ks_result1.group())\n",
    "            \n",
    "            ks_result2 = re.findall(kck_spot2, ks_result1) #two item list of yardlines\n",
    "        \n",
    "            if(ks_result2[0] == None):\n",
    "                print(\"ERROR\")\n",
    "            else:\n",
    "                kick_start.append(int(ks_result2[0]))\n",
    "            #REMOVING THIS SECTION FOR NOW, GOING TO PUT LAND AS START + KCK_DIST TO GET A MORE CLEAR VALUE.\n",
    "            #THAT BEING SAID, THAT REMOVES THIS ALTERNATIVE CALCULATION THAT MIGHT THROW A FLAG.\n",
    "            #if(ks_result2[1] == None):\n",
    "            #    print(\"ERROR\")\n",
    "            #else:\n",
    "            #    kick_land.append(ks_result2[1])\n",
    "        #SECOND SENTENCE\n",
    "        #Returner\n",
    "        return_phrase = re.search(returner_sent, text)\n",
    "        if(return_phrase == None):\n",
    "            returners.append(\"no returner\")\n",
    "        else:\n",
    "            returner = re.search(name, return_phrase.group())\n",
    "            if(returner != None):\n",
    "                returners.append(returner.group())\n",
    "            else:\n",
    "                returners.append(\"no returner\")\n",
    "                \n",
    "        #Tackler(s)\n",
    "        tackler_phrase = re.search(tackler_sent, text)\n",
    "        if(tackler_phrase == None):\n",
    "            tacklers.append(\"no tackler\")\n",
    "        else:\n",
    "            tackler_list = re.findall(name, tackler_phrase.group())\n",
    "            if(tackler_list != None):\n",
    "                tacklers_ = []\n",
    "                for tackler_items in tackler_list:\n",
    "                    tacklers_.append(tackler_items[0])\n",
    "                tacklers.append(tacklers_)\n",
    "            else:\n",
    "                tacklers.append(\"no tackler\")\n",
    "                \n",
    "        #Return\n",
    "        return_result = re.search(return_sent, text)\n",
    "        if(return_result != None):\n",
    "            isReturned.append(True)\n",
    "        else:\n",
    "            isReturned.append(False)\n",
    "            \n",
    "        \n",
    "        #Advanced\n",
    "        advanced_result = re.search(advanced, text)\n",
    "        if(advanced_result != None):\n",
    "            isAdvanced.append(False)\n",
    "        else:\n",
    "            isAdvanced.append(True)\n",
    "        \n",
    "        #Touchdown\n",
    "        touchdown_result = re.search(touchdown, text)\n",
    "        if(touchdown_result != None):\n",
    "            isTouchdown.append(True)\n",
    "        else:\n",
    "            isTouchdown.append(False)\n",
    "        \n",
    "        #Return Spot\n",
    "        \n",
    "        \n",
    "        #Return Yards\n",
    "        ry_result = re.search(return_yards, text)\n",
    "        if(ry_result):\n",
    "            ry = re.sub(\"no gain\", \"00\", ry_result.group())\n",
    "            ry = re.search(yards, ry)\n",
    "            if(ry):\n",
    "                returnYards.append(int(ry.group()))\n",
    "            else:\n",
    "                print(\"ERROR\", ry_result.group())\n",
    "        else:\n",
    "            returnYards.append(0)\n",
    "            \n",
    "    df = pd.DataFrame()\n",
    "    #FIRST SENTENCE\n",
    "    df[\"text\"] = texts\n",
    "    df[\"kicker\"] = kicker\n",
    "    df[\"isTouchback\"] = isTouchback\n",
    "    df[\"isOutOfBounds\"] = isOutOfBounds\n",
    "    df[\"isOnside\"] = isOnside\n",
    "    df[\"isFairCatch\"] = isFairCatch\n",
    "    df[\"kick_yards\"] = kick_yards\n",
    "    df[\"kick_start\"] = kick_start\n",
    "    df[\"kick_land\"] = df[\"kick_start\"] + df[\"kick_yards\"]\n",
    "    \n",
    "    #SECOND SENTENCE\n",
    "    df[\"returner\"] = returners\n",
    "    df[\"tacklers\"] = tacklers\n",
    "    df[\"return_yards\"] = returnYards\n",
    "    df[\"return_spot\"] = df[\"kick_land\"] - df[\"return_yards\"]\n",
    "    df[\"isReturned\"] = isReturned\n",
    "    df[\"isAdvanced\"] = isAdvanced\n",
    "    df[\"isTouchdown\"] = isTouchdown\n",
    "    return df\n",
    "\n",
    "def printSample(num):\n",
    "    for i in range(num):\n",
    "        print(f\"{i}:{df['text'][i]}\")\n",
    "        print(df.loc[i])"
   ]
  },
  {
   "cell_type": "code",
   "execution_count": 11,
   "metadata": {
    "scrolled": true
   },
   "outputs": [
    {
     "data": {
      "text/html": [
       "<div>\n",
       "<style scoped>\n",
       "    .dataframe tbody tr th:only-of-type {\n",
       "        vertical-align: middle;\n",
       "    }\n",
       "\n",
       "    .dataframe tbody tr th {\n",
       "        vertical-align: top;\n",
       "    }\n",
       "\n",
       "    .dataframe thead th {\n",
       "        text-align: right;\n",
       "    }\n",
       "</style>\n",
       "<table border=\"1\" class=\"dataframe\">\n",
       "  <thead>\n",
       "    <tr style=\"text-align: right;\">\n",
       "      <th></th>\n",
       "      <th>text</th>\n",
       "      <th>kicker</th>\n",
       "      <th>isTouchback</th>\n",
       "      <th>isOutOfBounds</th>\n",
       "      <th>isOnside</th>\n",
       "      <th>isFairCatch</th>\n",
       "      <th>kick_yards</th>\n",
       "      <th>kick_start</th>\n",
       "      <th>kick_land</th>\n",
       "      <th>returner</th>\n",
       "      <th>tacklers</th>\n",
       "      <th>return_yards</th>\n",
       "      <th>return_spot</th>\n",
       "      <th>isReturned</th>\n",
       "      <th>isAdvanced</th>\n",
       "      <th>isTouchdown</th>\n",
       "    </tr>\n",
       "  </thead>\n",
       "  <tbody>\n",
       "    <tr>\n",
       "      <th>0</th>\n",
       "      <td>E.Pineiro kicks 65 yards from CHI 35 to end zo...</td>\n",
       "      <td>E.Pineiro</td>\n",
       "      <td>True</td>\n",
       "      <td>False</td>\n",
       "      <td>False</td>\n",
       "      <td>False</td>\n",
       "      <td>65</td>\n",
       "      <td>35</td>\n",
       "      <td>100</td>\n",
       "      <td>no returner</td>\n",
       "      <td>no tackler</td>\n",
       "      <td>0</td>\n",
       "      <td>100</td>\n",
       "      <td>False</td>\n",
       "      <td>True</td>\n",
       "      <td>False</td>\n",
       "    </tr>\n",
       "    <tr>\n",
       "      <th>1</th>\n",
       "      <td>E.Pineiro kicks 59 yards from CHI 35 to GB 6, ...</td>\n",
       "      <td>E.Pineiro</td>\n",
       "      <td>False</td>\n",
       "      <td>True</td>\n",
       "      <td>False</td>\n",
       "      <td>False</td>\n",
       "      <td>59</td>\n",
       "      <td>35</td>\n",
       "      <td>94</td>\n",
       "      <td>no returner</td>\n",
       "      <td>no tackler</td>\n",
       "      <td>0</td>\n",
       "      <td>94</td>\n",
       "      <td>False</td>\n",
       "      <td>True</td>\n",
       "      <td>False</td>\n",
       "    </tr>\n",
       "    <tr>\n",
       "      <th>2</th>\n",
       "      <td>M.Crosby kicks 65 yards from GB 35 to end zone...</td>\n",
       "      <td>M.Crosby</td>\n",
       "      <td>True</td>\n",
       "      <td>False</td>\n",
       "      <td>False</td>\n",
       "      <td>False</td>\n",
       "      <td>65</td>\n",
       "      <td>35</td>\n",
       "      <td>100</td>\n",
       "      <td>no returner</td>\n",
       "      <td>no tackler</td>\n",
       "      <td>0</td>\n",
       "      <td>100</td>\n",
       "      <td>False</td>\n",
       "      <td>True</td>\n",
       "      <td>False</td>\n",
       "    </tr>\n",
       "    <tr>\n",
       "      <th>3</th>\n",
       "      <td>M.Crosby kicks 65 yards from GB 35 to end zone...</td>\n",
       "      <td>M.Crosby</td>\n",
       "      <td>True</td>\n",
       "      <td>False</td>\n",
       "      <td>False</td>\n",
       "      <td>False</td>\n",
       "      <td>65</td>\n",
       "      <td>35</td>\n",
       "      <td>100</td>\n",
       "      <td>no returner</td>\n",
       "      <td>no tackler</td>\n",
       "      <td>0</td>\n",
       "      <td>100</td>\n",
       "      <td>False</td>\n",
       "      <td>True</td>\n",
       "      <td>False</td>\n",
       "    </tr>\n",
       "    <tr>\n",
       "      <th>4</th>\n",
       "      <td>M.Crosby kicks 65 yards from GB 35 to end zone...</td>\n",
       "      <td>M.Crosby</td>\n",
       "      <td>True</td>\n",
       "      <td>False</td>\n",
       "      <td>False</td>\n",
       "      <td>False</td>\n",
       "      <td>65</td>\n",
       "      <td>35</td>\n",
       "      <td>100</td>\n",
       "      <td>no returner</td>\n",
       "      <td>no tackler</td>\n",
       "      <td>0</td>\n",
       "      <td>100</td>\n",
       "      <td>False</td>\n",
       "      <td>True</td>\n",
       "      <td>False</td>\n",
       "    </tr>\n",
       "    <tr>\n",
       "      <th>...</th>\n",
       "      <td>...</td>\n",
       "      <td>...</td>\n",
       "      <td>...</td>\n",
       "      <td>...</td>\n",
       "      <td>...</td>\n",
       "      <td>...</td>\n",
       "      <td>...</td>\n",
       "      <td>...</td>\n",
       "      <td>...</td>\n",
       "      <td>...</td>\n",
       "      <td>...</td>\n",
       "      <td>...</td>\n",
       "      <td>...</td>\n",
       "      <td>...</td>\n",
       "      <td>...</td>\n",
       "      <td>...</td>\n",
       "    </tr>\n",
       "    <tr>\n",
       "      <th>2582</th>\n",
       "      <td>J.Myers kicks 65 yards from SEA 35 to end zone...</td>\n",
       "      <td>J.Myers</td>\n",
       "      <td>True</td>\n",
       "      <td>False</td>\n",
       "      <td>False</td>\n",
       "      <td>False</td>\n",
       "      <td>65</td>\n",
       "      <td>35</td>\n",
       "      <td>100</td>\n",
       "      <td>no returner</td>\n",
       "      <td>no tackler</td>\n",
       "      <td>0</td>\n",
       "      <td>100</td>\n",
       "      <td>False</td>\n",
       "      <td>True</td>\n",
       "      <td>False</td>\n",
       "    </tr>\n",
       "    <tr>\n",
       "      <th>2583</th>\n",
       "      <td>M.Wishnowsky kicks 65 yards from SF 35 to end ...</td>\n",
       "      <td>M.Wishnowsky</td>\n",
       "      <td>True</td>\n",
       "      <td>False</td>\n",
       "      <td>False</td>\n",
       "      <td>False</td>\n",
       "      <td>65</td>\n",
       "      <td>35</td>\n",
       "      <td>100</td>\n",
       "      <td>no returner</td>\n",
       "      <td>no tackler</td>\n",
       "      <td>0</td>\n",
       "      <td>100</td>\n",
       "      <td>False</td>\n",
       "      <td>True</td>\n",
       "      <td>False</td>\n",
       "    </tr>\n",
       "    <tr>\n",
       "      <th>2584</th>\n",
       "      <td>J.Myers kicks 65 yards from SEA 35 to end zone...</td>\n",
       "      <td>J.Myers</td>\n",
       "      <td>True</td>\n",
       "      <td>False</td>\n",
       "      <td>False</td>\n",
       "      <td>False</td>\n",
       "      <td>65</td>\n",
       "      <td>35</td>\n",
       "      <td>100</td>\n",
       "      <td>no returner</td>\n",
       "      <td>no tackler</td>\n",
       "      <td>0</td>\n",
       "      <td>100</td>\n",
       "      <td>False</td>\n",
       "      <td>True</td>\n",
       "      <td>False</td>\n",
       "    </tr>\n",
       "    <tr>\n",
       "      <th>2585</th>\n",
       "      <td>M.Wishnowsky kicks 43 yards from SF 35 to SEA ...</td>\n",
       "      <td>M.Wishnowsky</td>\n",
       "      <td>False</td>\n",
       "      <td>True</td>\n",
       "      <td>False</td>\n",
       "      <td>False</td>\n",
       "      <td>43</td>\n",
       "      <td>35</td>\n",
       "      <td>78</td>\n",
       "      <td>no returner</td>\n",
       "      <td>no tackler</td>\n",
       "      <td>0</td>\n",
       "      <td>78</td>\n",
       "      <td>False</td>\n",
       "      <td>True</td>\n",
       "      <td>False</td>\n",
       "    </tr>\n",
       "    <tr>\n",
       "      <th>2586</th>\n",
       "      <td>J.Myers kicks 44 yards from SEA 35 to SF 21. R...</td>\n",
       "      <td>J.Myers</td>\n",
       "      <td>False</td>\n",
       "      <td>False</td>\n",
       "      <td>False</td>\n",
       "      <td>False</td>\n",
       "      <td>44</td>\n",
       "      <td>35</td>\n",
       "      <td>79</td>\n",
       "      <td>no returner</td>\n",
       "      <td>no tackler</td>\n",
       "      <td>0</td>\n",
       "      <td>79</td>\n",
       "      <td>False</td>\n",
       "      <td>True</td>\n",
       "      <td>False</td>\n",
       "    </tr>\n",
       "  </tbody>\n",
       "</table>\n",
       "<p>2587 rows × 16 columns</p>\n",
       "</div>"
      ],
      "text/plain": [
       "                                                   text        kicker  \\\n",
       "0     E.Pineiro kicks 65 yards from CHI 35 to end zo...     E.Pineiro   \n",
       "1     E.Pineiro kicks 59 yards from CHI 35 to GB 6, ...     E.Pineiro   \n",
       "2     M.Crosby kicks 65 yards from GB 35 to end zone...      M.Crosby   \n",
       "3     M.Crosby kicks 65 yards from GB 35 to end zone...      M.Crosby   \n",
       "4     M.Crosby kicks 65 yards from GB 35 to end zone...      M.Crosby   \n",
       "...                                                 ...           ...   \n",
       "2582  J.Myers kicks 65 yards from SEA 35 to end zone...       J.Myers   \n",
       "2583  M.Wishnowsky kicks 65 yards from SF 35 to end ...  M.Wishnowsky   \n",
       "2584  J.Myers kicks 65 yards from SEA 35 to end zone...       J.Myers   \n",
       "2585  M.Wishnowsky kicks 43 yards from SF 35 to SEA ...  M.Wishnowsky   \n",
       "2586  J.Myers kicks 44 yards from SEA 35 to SF 21. R...       J.Myers   \n",
       "\n",
       "      isTouchback  isOutOfBounds  isOnside  isFairCatch  kick_yards  \\\n",
       "0            True          False     False        False          65   \n",
       "1           False           True     False        False          59   \n",
       "2            True          False     False        False          65   \n",
       "3            True          False     False        False          65   \n",
       "4            True          False     False        False          65   \n",
       "...           ...            ...       ...          ...         ...   \n",
       "2582         True          False     False        False          65   \n",
       "2583         True          False     False        False          65   \n",
       "2584         True          False     False        False          65   \n",
       "2585        False           True     False        False          43   \n",
       "2586        False          False     False        False          44   \n",
       "\n",
       "      kick_start  kick_land     returner    tacklers  return_yards  \\\n",
       "0             35        100  no returner  no tackler             0   \n",
       "1             35         94  no returner  no tackler             0   \n",
       "2             35        100  no returner  no tackler             0   \n",
       "3             35        100  no returner  no tackler             0   \n",
       "4             35        100  no returner  no tackler             0   \n",
       "...          ...        ...          ...         ...           ...   \n",
       "2582          35        100  no returner  no tackler             0   \n",
       "2583          35        100  no returner  no tackler             0   \n",
       "2584          35        100  no returner  no tackler             0   \n",
       "2585          35         78  no returner  no tackler             0   \n",
       "2586          35         79  no returner  no tackler             0   \n",
       "\n",
       "      return_spot  isReturned  isAdvanced  isTouchdown  \n",
       "0             100       False        True        False  \n",
       "1              94       False        True        False  \n",
       "2             100       False        True        False  \n",
       "3             100       False        True        False  \n",
       "4             100       False        True        False  \n",
       "...           ...         ...         ...          ...  \n",
       "2582          100       False        True        False  \n",
       "2583          100       False        True        False  \n",
       "2584          100       False        True        False  \n",
       "2585           78       False        True        False  \n",
       "2586           79       False        True        False  \n",
       "\n",
       "[2587 rows x 16 columns]"
      ]
     },
     "execution_count": 11,
     "metadata": {},
     "output_type": "execute_result"
    }
   ],
   "source": [
    "#testing makeDF method\n",
    "texts = list(kickoff_df['desc'])\n",
    "df = make_DF(texts)\n",
    "df"
   ]
  },
  {
   "cell_type": "markdown",
   "metadata": {},
   "source": [
    "**Summary**\n",
    "\n",
    "In this summary, I'll walk through each of the statistics I added to the DF, how I generated them, and the sentence/line they were pulled from. The first two sentences provide the bulk of the data (kicking, returning, respectively) and there is some ancillary data from other sentences about muffs and penalties as well.\n",
    "\n",
    "*First Sentence*<br>\n",
    "In the first sentence, we learn the name of the *kicker*, the *kick_distance*, the *kick_start*, the *kick_land*, and whether the kick *isTouchback*, *isFairCatch*, *isOutOfBounds*, or *isOnside*.\n",
    "\n",
    "Statistics:\n",
    "1. *kicker* - the kicker is always the first word in the description. the existing DF did this correctly.\n",
    "2. *isTouchback* - if the kick is a touchback. search for \"Touchback\".\n",
    "3. *isFairCatch* - if the kick is a fair catch. search for \"fair catch\".\n",
    "4. *isOutOfBounds* - if the kick is out of bounds. search for \"out of bounds\"\n",
    "5. *isOnside* - if the kick is an onside kick. search for \"onside\" in \"kicks onside ## yards\".\n",
    "6. *kick_yards* - the distance in the air of the kick. cut the number in \"kick ## yards\".\n",
    "7. *kick_start* - where the kicker kicks from. cut \"___ ##\" in \"from ___ ## to ___ ##\".\n",
    "8. *kick_land* - where the ball lands. can either be number or \"end zone\". cut \"___ ##\" or \"end zone\" in \"from ___ ## to ___ ##\". or... sum up kick_yards + kick_start for a clearer number\n",
    "    - note: I use 0 to represent the kicking team's goal line, and 100 to represent the receiving team's goal line.\n",
    "\n",
    "Challenges: \n",
    "1. First, there were 17 kicks out of 2878 that started from the 50 yard line. Neat! Forgot that in my regex tho.\n",
    "2. Next, I spent an hour or so trying to figure out why I couldn't calculate kick_land... kick_start and kick_yards were String lists... Fun!\n",
    "\n",
    "notes: check out of bounds...\n",
    "\n",
    "*Second Sentence*<br>\n",
    "In the second sentence, we learn the *isReturned*, *returner*, *return_distance*, *return_spot*, *tackler(s)*, *isTouchdown*, or *isAdvanced*.\n",
    "\n",
    "Statistics:\n",
    "1. *returner* - the player who returns the ball. search for the player pattern in a revised pattern with no tacklers.\n",
    "2. *tacklers* - the player or players who tackle the returner. search for the player pattern in a revised pattern with no returner.\n",
    "3. *return_distance* - the number of yards a returner takes the ball. search for _ yards, or \"no gain\".\n",
    "4. *return_spot* - the yard mark where a return stops. subtract kick_land from return_yards.\n",
    "5. *isReturned* - if the returner gets the ball, not counting fair catches. if the pattern returns, then there is a sentence of this form that describes the return.\n",
    "    - note: this may not be entirely descriptive... not all of these entries are players looking to score or gain yards. non-returns overlap with touchbacks with the exception of weird plays like onside kicks, out of bounds, and fair catches.\n",
    "6. *isAdvanced* - if the returner advances the ball. not relevant for touchbacks. search for \"(didn't try to advance)\".\n",
    "7. *isTouchdown* - if there is a touchdown scored on the play--careful, negated touchdowns count too. search for \"TOUCHDOWN\"\n",
    "    \n",
    "Challenges: \n",
    "1. Did most of my development at https://regexr.com/5illa this time, made things a lot faster. My first RE for the sentence is almost entirely right... but it doesn't cover the case of player names like \"R.Wilson Jr.\" or \"T.Trent-Baylor\". My formula was (\\w)\\.(\\w)+.\n",
    "2. Struggled with re.search() vs. re.findall()... re.findall() does not work how you would think it does. Check out my SO question here: https://stackoverflow.com/questions/65350068/re-search-and-re-findall.\n",
    "\n",
    "*Other Sentences*\n",
    "MUFFS, penalties, fumbles"
   ]
  },
  {
   "cell_type": "code",
   "execution_count": null,
   "metadata": {},
   "outputs": [],
   "source": []
  }
 ],
 "metadata": {
  "kernelspec": {
   "display_name": "Python 3",
   "language": "python",
   "name": "python3"
  },
  "language_info": {
   "codemirror_mode": {
    "name": "ipython",
    "version": 3
   },
   "file_extension": ".py",
   "mimetype": "text/x-python",
   "name": "python",
   "nbconvert_exporter": "python",
   "pygments_lexer": "ipython3",
   "version": "3.8.6"
  }
 },
 "nbformat": 4,
 "nbformat_minor": 4
}
