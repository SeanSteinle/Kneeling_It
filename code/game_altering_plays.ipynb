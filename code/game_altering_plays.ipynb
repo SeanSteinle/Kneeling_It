{
 "cells": [
  {
   "cell_type": "markdown",
   "id": "valuable-banks",
   "metadata": {},
   "source": [
    "## Game Altering Plays\n",
    "Sean Steinle\n",
    "\n",
    "1. [Introduction](#1)\n",
    "2. [Trimming the DF](#2)\n",
    "3. [Return Negative Plays](#3)\n",
    "4. [Return Positive Plays](#4)\n",
    "\n",
    "<a id='1'>"
   ]
  },
  {
   "cell_type": "markdown",
   "id": "informal-pulse",
   "metadata": {},
   "source": [
    "### Introduction"
   ]
  },
  {
   "cell_type": "markdown",
   "id": "thick-wound",
   "metadata": {},
   "source": [
    "In determining the value of kickoff returns for the returning team, there are plays that shift field position and there are plays that alter the game. In this notebook, we'll take a deep dive into the latter.\n",
    "\n",
    "The metrics we'll consider in this notebook are muffs (*isMuff*, *retainsMuff*), fumbles (*isFumble*, *retainsFumble*), and touchdowns (*isTouchdown*). We'll also cut down the dataframe of kickoffs to relevant kickoffs.\n",
    "\n",
    "<a id='2'>"
   ]
  },
  {
   "cell_type": "markdown",
   "id": "soviet-envelope",
   "metadata": {},
   "source": [
    "### Trimming the DF"
   ]
  },
  {
   "cell_type": "code",
   "execution_count": 1,
   "id": "stuffed-produce",
   "metadata": {},
   "outputs": [],
   "source": [
    "from IPython.core.interactiveshell import InteractiveShell\n",
    "InteractiveShell.ast_node_interactivity = \"all\"\n",
    "import csv\n",
    "import pandas as pd\n",
    "import numpy as np\n",
    "import matplotlib.pyplot as plt\n",
    "import seaborn as sns\n",
    "import re\n",
    "import nltk"
   ]
  },
  {
   "cell_type": "code",
   "execution_count": 33,
   "id": "sublime-ferry",
   "metadata": {},
   "outputs": [
    {
     "data": {
      "text/html": [
       "<div>\n",
       "<style scoped>\n",
       "    .dataframe tbody tr th:only-of-type {\n",
       "        vertical-align: middle;\n",
       "    }\n",
       "\n",
       "    .dataframe tbody tr th {\n",
       "        vertical-align: top;\n",
       "    }\n",
       "\n",
       "    .dataframe thead th {\n",
       "        text-align: right;\n",
       "    }\n",
       "</style>\n",
       "<table border=\"1\" class=\"dataframe\">\n",
       "  <thead>\n",
       "    <tr style=\"text-align: right;\">\n",
       "      <th></th>\n",
       "      <th>Unnamed: 0</th>\n",
       "      <th>kicking_team</th>\n",
       "      <th>receiving_team</th>\n",
       "      <th>year</th>\n",
       "      <th>text</th>\n",
       "      <th>kicker</th>\n",
       "      <th>isTouchback</th>\n",
       "      <th>isOutOfBounds</th>\n",
       "      <th>isOnside</th>\n",
       "      <th>isFairCatch</th>\n",
       "      <th>...</th>\n",
       "      <th>isMuff</th>\n",
       "      <th>retainsMuff</th>\n",
       "      <th>isPenalty</th>\n",
       "      <th>penalizedPlayer</th>\n",
       "      <th>penaltyYards</th>\n",
       "      <th>penaltyType</th>\n",
       "      <th>penaltySpot</th>\n",
       "      <th>isFumble</th>\n",
       "      <th>retainsFumble</th>\n",
       "      <th>finalSpot</th>\n",
       "    </tr>\n",
       "  </thead>\n",
       "  <tbody>\n",
       "    <tr>\n",
       "      <th>0</th>\n",
       "      <td>5</td>\n",
       "      <td>PIT</td>\n",
       "      <td>TEN</td>\n",
       "      <td>2009</td>\n",
       "      <td>J.Reed kicks 61 yards from PIT 30 to TEN 9. J....</td>\n",
       "      <td>J.Reed</td>\n",
       "      <td>False</td>\n",
       "      <td>False</td>\n",
       "      <td>False</td>\n",
       "      <td>False</td>\n",
       "      <td>...</td>\n",
       "      <td>False</td>\n",
       "      <td>True</td>\n",
       "      <td>True</td>\n",
       "      <td>G.McRath</td>\n",
       "      <td>10</td>\n",
       "      <td>Offensive Holding</td>\n",
       "      <td>72</td>\n",
       "      <td>False</td>\n",
       "      <td>True</td>\n",
       "      <td>82</td>\n",
       "    </tr>\n",
       "    <tr>\n",
       "      <th>1</th>\n",
       "      <td>15</td>\n",
       "      <td>MIN</td>\n",
       "      <td>CLE</td>\n",
       "      <td>2009</td>\n",
       "      <td>R.Longwell kicks 66 yards from MIN 30 to CLE 4...</td>\n",
       "      <td>R.Longwell</td>\n",
       "      <td>False</td>\n",
       "      <td>False</td>\n",
       "      <td>False</td>\n",
       "      <td>False</td>\n",
       "      <td>...</td>\n",
       "      <td>False</td>\n",
       "      <td>True</td>\n",
       "      <td>True</td>\n",
       "      <td>K.Maiava</td>\n",
       "      <td>10</td>\n",
       "      <td>Offensive Holding</td>\n",
       "      <td>71</td>\n",
       "      <td>False</td>\n",
       "      <td>True</td>\n",
       "      <td>81</td>\n",
       "    </tr>\n",
       "    <tr>\n",
       "      <th>2</th>\n",
       "      <td>45</td>\n",
       "      <td>NYJ</td>\n",
       "      <td>HOU</td>\n",
       "      <td>2009</td>\n",
       "      <td>J.Feely kicks 72 yards from NYJ 30 to HOU -2. ...</td>\n",
       "      <td>J.Feely</td>\n",
       "      <td>False</td>\n",
       "      <td>False</td>\n",
       "      <td>False</td>\n",
       "      <td>False</td>\n",
       "      <td>...</td>\n",
       "      <td>False</td>\n",
       "      <td>True</td>\n",
       "      <td>True</td>\n",
       "      <td>C.Thompson</td>\n",
       "      <td>10</td>\n",
       "      <td>Offensive Holding</td>\n",
       "      <td>70</td>\n",
       "      <td>False</td>\n",
       "      <td>True</td>\n",
       "      <td>80</td>\n",
       "    </tr>\n",
       "    <tr>\n",
       "      <th>3</th>\n",
       "      <td>47</td>\n",
       "      <td>NYJ</td>\n",
       "      <td>HOU</td>\n",
       "      <td>2009</td>\n",
       "      <td>J.Feely kicks 71 yards from NYJ 30 to HOU -1. ...</td>\n",
       "      <td>J.Feely</td>\n",
       "      <td>False</td>\n",
       "      <td>False</td>\n",
       "      <td>False</td>\n",
       "      <td>False</td>\n",
       "      <td>...</td>\n",
       "      <td>False</td>\n",
       "      <td>True</td>\n",
       "      <td>True</td>\n",
       "      <td>C.Thompson</td>\n",
       "      <td>10</td>\n",
       "      <td>Unnecessary Roughness</td>\n",
       "      <td>80</td>\n",
       "      <td>False</td>\n",
       "      <td>True</td>\n",
       "      <td>90</td>\n",
       "    </tr>\n",
       "    <tr>\n",
       "      <th>4</th>\n",
       "      <td>48</td>\n",
       "      <td>HOU</td>\n",
       "      <td>NYJ</td>\n",
       "      <td>2009</td>\n",
       "      <td>K.Brown kicks 67 yards from HOU 30 to NYJ 3. L...</td>\n",
       "      <td>K.Brown</td>\n",
       "      <td>False</td>\n",
       "      <td>False</td>\n",
       "      <td>False</td>\n",
       "      <td>False</td>\n",
       "      <td>...</td>\n",
       "      <td>False</td>\n",
       "      <td>True</td>\n",
       "      <td>True</td>\n",
       "      <td>J.Westerman</td>\n",
       "      <td>10</td>\n",
       "      <td>Offensive Holding</td>\n",
       "      <td>77</td>\n",
       "      <td>False</td>\n",
       "      <td>True</td>\n",
       "      <td>87</td>\n",
       "    </tr>\n",
       "    <tr>\n",
       "      <th>...</th>\n",
       "      <td>...</td>\n",
       "      <td>...</td>\n",
       "      <td>...</td>\n",
       "      <td>...</td>\n",
       "      <td>...</td>\n",
       "      <td>...</td>\n",
       "      <td>...</td>\n",
       "      <td>...</td>\n",
       "      <td>...</td>\n",
       "      <td>...</td>\n",
       "      <td>...</td>\n",
       "      <td>...</td>\n",
       "      <td>...</td>\n",
       "      <td>...</td>\n",
       "      <td>...</td>\n",
       "      <td>...</td>\n",
       "      <td>...</td>\n",
       "      <td>...</td>\n",
       "      <td>...</td>\n",
       "      <td>...</td>\n",
       "      <td>...</td>\n",
       "    </tr>\n",
       "    <tr>\n",
       "      <th>28310</th>\n",
       "      <td>28310</td>\n",
       "      <td>SEA</td>\n",
       "      <td>SF</td>\n",
       "      <td>2019</td>\n",
       "      <td>J.Myers kicks 65 yards from SEA 35 to end zone...</td>\n",
       "      <td>J.Myers</td>\n",
       "      <td>True</td>\n",
       "      <td>False</td>\n",
       "      <td>False</td>\n",
       "      <td>False</td>\n",
       "      <td>...</td>\n",
       "      <td>False</td>\n",
       "      <td>True</td>\n",
       "      <td>False</td>\n",
       "      <td>no player</td>\n",
       "      <td>0</td>\n",
       "      <td>no penalty</td>\n",
       "      <td>0</td>\n",
       "      <td>False</td>\n",
       "      <td>True</td>\n",
       "      <td>100</td>\n",
       "    </tr>\n",
       "    <tr>\n",
       "      <th>28311</th>\n",
       "      <td>28311</td>\n",
       "      <td>SF</td>\n",
       "      <td>SEA</td>\n",
       "      <td>2019</td>\n",
       "      <td>M.Wishnowsky kicks 65 yards from SF 35 to end ...</td>\n",
       "      <td>M.Wishnowsky</td>\n",
       "      <td>True</td>\n",
       "      <td>False</td>\n",
       "      <td>False</td>\n",
       "      <td>False</td>\n",
       "      <td>...</td>\n",
       "      <td>False</td>\n",
       "      <td>True</td>\n",
       "      <td>False</td>\n",
       "      <td>no player</td>\n",
       "      <td>0</td>\n",
       "      <td>no penalty</td>\n",
       "      <td>0</td>\n",
       "      <td>False</td>\n",
       "      <td>True</td>\n",
       "      <td>100</td>\n",
       "    </tr>\n",
       "    <tr>\n",
       "      <th>28312</th>\n",
       "      <td>28312</td>\n",
       "      <td>SEA</td>\n",
       "      <td>SF</td>\n",
       "      <td>2019</td>\n",
       "      <td>J.Myers kicks 65 yards from SEA 35 to end zone...</td>\n",
       "      <td>J.Myers</td>\n",
       "      <td>True</td>\n",
       "      <td>False</td>\n",
       "      <td>False</td>\n",
       "      <td>False</td>\n",
       "      <td>...</td>\n",
       "      <td>False</td>\n",
       "      <td>True</td>\n",
       "      <td>False</td>\n",
       "      <td>no player</td>\n",
       "      <td>0</td>\n",
       "      <td>no penalty</td>\n",
       "      <td>0</td>\n",
       "      <td>False</td>\n",
       "      <td>True</td>\n",
       "      <td>100</td>\n",
       "    </tr>\n",
       "    <tr>\n",
       "      <th>28313</th>\n",
       "      <td>28313</td>\n",
       "      <td>SF</td>\n",
       "      <td>SEA</td>\n",
       "      <td>2019</td>\n",
       "      <td>M.Wishnowsky kicks 43 yards from SF 35 to SEA ...</td>\n",
       "      <td>M.Wishnowsky</td>\n",
       "      <td>False</td>\n",
       "      <td>True</td>\n",
       "      <td>False</td>\n",
       "      <td>False</td>\n",
       "      <td>...</td>\n",
       "      <td>False</td>\n",
       "      <td>True</td>\n",
       "      <td>False</td>\n",
       "      <td>no player</td>\n",
       "      <td>0</td>\n",
       "      <td>no penalty</td>\n",
       "      <td>0</td>\n",
       "      <td>False</td>\n",
       "      <td>True</td>\n",
       "      <td>78</td>\n",
       "    </tr>\n",
       "    <tr>\n",
       "      <th>28314</th>\n",
       "      <td>28314</td>\n",
       "      <td>SEA</td>\n",
       "      <td>SF</td>\n",
       "      <td>2019</td>\n",
       "      <td>J.Myers kicks 44 yards from SEA 35 to SF 21. R...</td>\n",
       "      <td>J.Myers</td>\n",
       "      <td>False</td>\n",
       "      <td>False</td>\n",
       "      <td>False</td>\n",
       "      <td>False</td>\n",
       "      <td>...</td>\n",
       "      <td>True</td>\n",
       "      <td>True</td>\n",
       "      <td>False</td>\n",
       "      <td>no player</td>\n",
       "      <td>0</td>\n",
       "      <td>no penalty</td>\n",
       "      <td>0</td>\n",
       "      <td>False</td>\n",
       "      <td>True</td>\n",
       "      <td>79</td>\n",
       "    </tr>\n",
       "  </tbody>\n",
       "</table>\n",
       "<p>28315 rows × 30 columns</p>\n",
       "</div>"
      ],
      "text/plain": [
       "       Unnamed: 0 kicking_team receiving_team  year  \\\n",
       "0               5          PIT            TEN  2009   \n",
       "1              15          MIN            CLE  2009   \n",
       "2              45          NYJ            HOU  2009   \n",
       "3              47          NYJ            HOU  2009   \n",
       "4              48          HOU            NYJ  2009   \n",
       "...           ...          ...            ...   ...   \n",
       "28310       28310          SEA             SF  2019   \n",
       "28311       28311           SF            SEA  2019   \n",
       "28312       28312          SEA             SF  2019   \n",
       "28313       28313           SF            SEA  2019   \n",
       "28314       28314          SEA             SF  2019   \n",
       "\n",
       "                                                    text        kicker  \\\n",
       "0      J.Reed kicks 61 yards from PIT 30 to TEN 9. J....        J.Reed   \n",
       "1      R.Longwell kicks 66 yards from MIN 30 to CLE 4...    R.Longwell   \n",
       "2      J.Feely kicks 72 yards from NYJ 30 to HOU -2. ...       J.Feely   \n",
       "3      J.Feely kicks 71 yards from NYJ 30 to HOU -1. ...       J.Feely   \n",
       "4      K.Brown kicks 67 yards from HOU 30 to NYJ 3. L...       K.Brown   \n",
       "...                                                  ...           ...   \n",
       "28310  J.Myers kicks 65 yards from SEA 35 to end zone...       J.Myers   \n",
       "28311  M.Wishnowsky kicks 65 yards from SF 35 to end ...  M.Wishnowsky   \n",
       "28312  J.Myers kicks 65 yards from SEA 35 to end zone...       J.Myers   \n",
       "28313  M.Wishnowsky kicks 43 yards from SF 35 to SEA ...  M.Wishnowsky   \n",
       "28314  J.Myers kicks 44 yards from SEA 35 to SF 21. R...       J.Myers   \n",
       "\n",
       "       isTouchback  isOutOfBounds  isOnside  isFairCatch  ...  isMuff  \\\n",
       "0            False          False     False        False  ...   False   \n",
       "1            False          False     False        False  ...   False   \n",
       "2            False          False     False        False  ...   False   \n",
       "3            False          False     False        False  ...   False   \n",
       "4            False          False     False        False  ...   False   \n",
       "...            ...            ...       ...          ...  ...     ...   \n",
       "28310         True          False     False        False  ...   False   \n",
       "28311         True          False     False        False  ...   False   \n",
       "28312         True          False     False        False  ...   False   \n",
       "28313        False           True     False        False  ...   False   \n",
       "28314        False          False     False        False  ...    True   \n",
       "\n",
       "       retainsMuff  isPenalty penalizedPlayer penaltyYards  \\\n",
       "0             True       True        G.McRath           10   \n",
       "1             True       True        K.Maiava           10   \n",
       "2             True       True      C.Thompson           10   \n",
       "3             True       True      C.Thompson           10   \n",
       "4             True       True     J.Westerman           10   \n",
       "...            ...        ...             ...          ...   \n",
       "28310         True      False       no player            0   \n",
       "28311         True      False       no player            0   \n",
       "28312         True      False       no player            0   \n",
       "28313         True      False       no player            0   \n",
       "28314         True      False       no player            0   \n",
       "\n",
       "                 penaltyType  penaltySpot  isFumble  retainsFumble  finalSpot  \n",
       "0          Offensive Holding           72     False           True         82  \n",
       "1          Offensive Holding           71     False           True         81  \n",
       "2          Offensive Holding           70     False           True         80  \n",
       "3      Unnecessary Roughness           80     False           True         90  \n",
       "4          Offensive Holding           77     False           True         87  \n",
       "...                      ...          ...       ...            ...        ...  \n",
       "28310             no penalty            0     False           True        100  \n",
       "28311             no penalty            0     False           True        100  \n",
       "28312             no penalty            0     False           True        100  \n",
       "28313             no penalty            0     False           True         78  \n",
       "28314             no penalty            0     False           True         79  \n",
       "\n",
       "[28315 rows x 30 columns]"
      ]
     },
     "execution_count": 33,
     "metadata": {},
     "output_type": "execute_result"
    }
   ],
   "source": [
    "og_df = pd.read_csv(\"kickoff_dataset.csv\")\n",
    "og_df"
   ]
  },
  {
   "cell_type": "code",
   "execution_count": 5,
   "id": "wicked-budapest",
   "metadata": {
    "scrolled": true
   },
   "outputs": [
    {
     "name": "stdout",
     "output_type": "stream",
     "text": [
      "46.40649832244394% of kicks were touchbacks.\n",
      "1.161928306551298% of kicks were out of bounds.\n",
      "0.1553946671375596% of kicks were fair catches.\n",
      "51.66166342927777% of kicks were returned.\n",
      "0.42733533462828893% of kicks were returned for a touchdown.\n",
      "0.8935193360409677% of kicks were muffed.\n",
      "90.11857707509881% of isMuffmuffs were retained.\n",
      "4.043793042556949% of kickoffs had an accepted penalty.\n",
      "1.0665724880805227% of kicks were fumbled.\n",
      "46.35761589403973% of fumbles were retained.\n"
     ]
    }
   ],
   "source": [
    "#isTouchback, isOutOfBounds, isOnside, isFairCatch, isReturned, isTouchdown, isMuff, retainsMuff, isPenalty, isFumble, retainsFumble\n",
    "touchback = len(df[df[\"isTouchback\"]])/len(df)\n",
    "print(f\"{touchback*100}% of kicks were touchbacks.\")\n",
    "\n",
    "oob = len(df[df[\"isOutOfBounds\"]])/len(df)\n",
    "print(f\"{oob*100}% of kicks were out of bounds.\")\n",
    "\n",
    "fc = len(df[df[\"isFairCatch\"]])/len(df)\n",
    "print(f\"{fc*100}% of kicks were fair catches.\")\n",
    "\n",
    "returned = len(df[df[\"isReturned\"]])/len(df)\n",
    "print(f\"{returned*100}% of kicks were returned.\")\n",
    "\n",
    "td = len(df[df[\"isTouchdown\"]])/len(df)\n",
    "print(f\"{td*100}% of kicks were returned for a touchdown.\")\n",
    "\n",
    "muff = len(df[df[\"isMuff\"]])/len(df)\n",
    "print(f\"{muff*100}% of kicks were muffed.\")\n",
    "\n",
    "cut = df[df[\"isMuff\"]]\n",
    "rm = len(cut[cut[\"retainsMuff\"]])/len(cut)\n",
    "print(f\"{rm*100}% of isMuffmuffs were retained.\")\n",
    "\n",
    "penalty = len(df[df[\"isPenalty\"]])/len(df)\n",
    "print(f\"{penalty*100}% of kickoffs had an accepted penalty.\")\n",
    "\n",
    "fumble = len(df[df[\"isFumble\"]])/len(df)\n",
    "print(f\"{fumble*100}% of kicks were fumbled.\")\n",
    "\n",
    "cut = df[df[\"isFumble\"]]\n",
    "rf = len(cut[cut[\"retainsFumble\"]])/len(cut)\n",
    "print(f\"{rf*100}% of fumbles were retained.\")\n",
    "\n",
    "#These numbers look to be about right. One immediate comparison we can do is fumbles lost and muffs kicks vs. touchdowns."
   ]
  },
  {
   "cell_type": "code",
   "execution_count": 6,
   "id": "casual-madrid",
   "metadata": {},
   "outputs": [
    {
     "data": {
      "text/plain": [
       "14628"
      ]
     },
     "execution_count": 6,
     "metadata": {},
     "output_type": "execute_result"
    }
   ],
   "source": [
    "df = df[df[\"isReturned\"]]\n",
    "len(df)\n",
    "#this code trims our DF to plays that are returned. if we don't do this, it would make touchdown/fumble numbers look inaccurately\n",
    "#small. touchdowns don't happen on plays that have touchbacks. neither do fumbles and muffs really. muffs maybe? something to\n",
    "#think about there... if a player muffs a catch that he wanted to kneel, maybe he has to run it out now. rare case though."
   ]
  },
  {
   "cell_type": "markdown",
   "id": "imperial-tiger",
   "metadata": {},
   "source": [
    "<a id='3'>"
   ]
  },
  {
   "cell_type": "markdown",
   "id": "spatial-probability",
   "metadata": {},
   "source": [
    "### Return Negative Plays"
   ]
  },
  {
   "cell_type": "code",
   "execution_count": 44,
   "id": "dental-relationship",
   "metadata": {},
   "outputs": [
    {
     "name": "stdout",
     "output_type": "stream",
     "text": [
      "1.4561115668580804% of kicks were muffed.\n",
      "92.48826291079813% of muffs were retained.\n",
      "0.10937927262783699% of returned kicks were muffed and lost.\n",
      "2.057697566311184% of kicks were fumbled.\n",
      "46.179401993355484% of fumbles were retained.\n",
      "1.1074651353568497% of returned kicks were fumbled and lost\n",
      "\n",
      "3.5138091331692642% of returned kicks were fumbled or muffed.\n",
      "1.2168444079846867% of returned kicks were lost due to fumble or a muffed catch.\n",
      "That's 177.99999999999997 losses of possession for the decade, or 17.799999999999997 per season.\n",
      "Over the past decade, the mean number of kickoff returns per game for each team is 2.85703125\n",
      "That means we'd expect a team to lose 0.034765624999999994 possessions per game due to returns.\n"
     ]
    }
   ],
   "source": [
    "muff = len(df[df[\"isMuff\"]])/len(df)\n",
    "print(f\"{muff*100}% of kicks were muffed.\")\n",
    "cut = df[df[\"isMuff\"]]\n",
    "rm = len(cut[cut[\"retainsMuff\"]])/len(cut)\n",
    "print(f\"{rm*100}% of muffs were retained.\")\n",
    "muff_loss = (muff*100)*(1-rm)\n",
    "print(f\"{muff_loss}% of returned kicks were muffed and lost.\")\n",
    "\n",
    "fumble = len(df[df[\"isFumble\"]])/len(df)\n",
    "print(f\"{fumble*100}% of kicks were fumbled.\")\n",
    "cut = df[df[\"isFumble\"]]\n",
    "rf = len(cut[cut[\"retainsFumble\"]])/len(cut)\n",
    "print(f\"{rf*100}% of fumbles were retained.\")\n",
    "fumble_loss = (fumble*100)*(1-rf)\n",
    "print(f\"{fumble_loss}% of returned kicks were fumbled and lost\")\n",
    "\n",
    "print(f\"\\n{(muff + fumble)*100}% of returned kicks were fumbled or muffed.\")\n",
    "print(f\"{muff_loss + fumble_loss}% of returned kicks were lost due to fumble or a muffed catch.\")\n",
    "print(f\"That's {(muff_loss/100 + fumble_loss/100)*len(df)} losses of possession for the decade, or {((muff_loss/100 + fumble_loss/100)*len(df))/10} per season.\")\n",
    "print(f\"Over the past decade, the mean number of kickoff returns per game for each team is {len(df)/10/16/32}\") #kickoff returns per decade/10years/16weeks/32teams = kickoff returns per game for each team\n",
    "print(f\"That means we'd expect a team to lose {(len(df)/10/16/32)*(muff_loss/100 + fumble_loss/100)} possessions per game due to returns.\")\n",
    "\n",
    "#here we're trying to make some general claims about how often very bad things happen on kickoffs"
   ]
  },
  {
   "cell_type": "code",
   "execution_count": 89,
   "id": "fresh-senior",
   "metadata": {
    "scrolled": true
   },
   "outputs": [
    {
     "data": {
      "text/plain": [
       "'M.Crosby kicks 62 yards from GB 30 to NYG 8. H.Nicks to NYG 31 for 23 yards (C.Peprah). FUMBLES (C.Peprah), RECOVERED by GB-T.Crabtree at NYG 31. Penalty on NYG-P.Dillard, Offensive Holding, declined. New York Giants challenged the fumble ruling, and the play was REVERSED. M.Crosby kicks 62 yards from GB 30 to NYG 8. H.Nicks to NYG 31 for 23 yards (C.Peprah). PENALTY on NYG-P.Dillard, Offensive Holding, 10 yards, enforced at NYG 22.'"
      ]
     },
     "execution_count": 89,
     "metadata": {},
     "output_type": "execute_result"
    },
    {
     "data": {
      "text/plain": [
       "'D.Bailey kicks 68 yards from DAL 35 to CLE -3. J.Cribbs to CLE 25 for 28 yards (D.McCray). FUMBLES (D.McCray), RECOVERED by DAL-E.Sims at CLE 26. Penalty on CLE-A.Smith, Offensive Holding, declined. Cleveland challenged the fumble ruling, and the play was REVERSED. D.Bailey kicks 68 yards from DAL 35 to CLE -3. J.Cribbs to CLE 14 for 17 yards (D.McCray). PENALTY on CLE-A.Smith, Offensive Holding, 7 yards, enforced at CLE 14.'"
      ]
     },
     "execution_count": 89,
     "metadata": {},
     "output_type": "execute_result"
    },
    {
     "data": {
      "text/plain": [
       "'P.McAfee kicks 73 yards from IND 30 to BAL -3. L.Webb to BAL 21 for 24 yards (D.Hall). FUMBLES (D.Hall), RECOVERED by IND-P.McAfee at BAL 21. Baltimore challenged the runner was down by contact ruling, and the play was REVERSED. P.McAfee kicks 73 yards from IND 30 to BAL -3. L.Webb to BAL 21 for 24 yards (D.Hall).'"
      ]
     },
     "execution_count": 89,
     "metadata": {},
     "output_type": "execute_result"
    },
    {
     "data": {
      "text/plain": [
       "'O.Mare kicks 72 yards from SEA 30 to SD -2. D.Sproles to SD 22 for 24 yards (K.Chancellor). The Replay Assistant challenged the fumble ruling, and the play was REVERSED. O.Mare kicks 72 yards from SEA 30 to SD -2. D.Sproles to SD 22 for 24 yards (K.Chancellor). FUMBLES (K.Chancellor), RECOVERED by SEA-D.Davis at SD 24. D.Davis to SD 24 for no gain (Claude Spillman).'"
      ]
     },
     "execution_count": 89,
     "metadata": {},
     "output_type": "execute_result"
    },
    {
     "data": {
      "text/plain": [
       "'M.Nugent kicks 68 yards from CIN 30 to TB 2. M.Spurlock to TB 26 for 24 yards (R.Muckelroy). Cincinnati challenged the runner was down by contact ruling, and the play was REVERSED. M.Nugent kicks 68 yards from CIN 30 to TB 2. M.Spurlock to TB 26 for 24 yards (R.Muckelroy). FUMBLES (R.Muckelroy), RECOVERED by CIN-A.Jones at TB 29. A.Jones, dead ball declared at TB 29 for no gain.'"
      ]
     },
     "execution_count": 89,
     "metadata": {},
     "output_type": "execute_result"
    },
    {
     "data": {
      "text/plain": [
       "'R.Gould kicks 66 yards from CHI 30 to MIN 4. P.Harvin to MIN 29 for 25 yards (C.Graham). FUMBLES (C.Graham), RECOVERED by CHI-C.Graham at MIN 29. C.Graham to MIN 29 for no gain (P.Harvin). MIN-P.Harvin was injured during the play.  Minnesota challenged the fumble ruling, and the play was REVERSED. R.Gould kicks 66 yards from CHI 30 to MIN 4. P.Harvin to MIN 28 for 24 yards (C.Graham). MIN-P.Harvin was injured during the play.'"
      ]
     },
     "execution_count": 89,
     "metadata": {},
     "output_type": "execute_result"
    },
    {
     "data": {
      "text/plain": [
       "'N.Folk kicks 62 yards from NYJ 35 to IND 3. L.Brazill to IND 18 for 15 yards (I.Trufant). FUMBLES (I.Trufant), RECOVERED by NYJ-J.Bush at IND 19. J.Bush ran ob at IND 19 for no gain. Play Challenged by Replay Assistant and REVERSED. N.Folk kicks 62 yards from NYJ 35 to IND 3. L.Brazill to IND 18 for 15 yards (I.Trufant).'"
      ]
     },
     "execution_count": 89,
     "metadata": {},
     "output_type": "execute_result"
    },
    {
     "data": {
      "text/plain": [
       "'R.Gould kicks 67 yards from CHI 35 to HOU -2. K.Martin to HOU 19 for 21 yards (Z.Bowman). FUMBLES (Z.Bowman), RECOVERED by CHI-B.Costanzo at HOU 19. B.Costanzo to HOU 19 for no gain (K.Martin). Play Challenged by Replay Assistant and REVERSED. R.Gould kicks 67 yards from CHI 35 to HOU -2. K.Martin to HOU 18 for 20 yards (Z.Bowman).'"
      ]
     },
     "execution_count": 89,
     "metadata": {},
     "output_type": "execute_result"
    },
    {
     "data": {
      "text/plain": [
       "'J.Tucker kicks 68 yards from BAL 35 to WAS -3. N.Paul to WAS 16 for 19 yards (C.Upshaw). FUMBLES (C.Upshaw), RECOVERED by BAL-D.Reed at WAS 14. D.Reed to WAS 15 for -1 yards (L.Alexander). Play Challenged by Replay Assistant and REVERSED. J.Tucker kicks 68 yards from BAL 35 to WAS -3. N.Paul to WAS 16 for 19 yards (C.Upshaw). FUMBLES (C.Upshaw), ball out of bounds at WAS 15.'"
      ]
     },
     "execution_count": 89,
     "metadata": {},
     "output_type": "execute_result"
    },
    {
     "data": {
      "text/plain": [
       "'S.Hauschka kicks 69 yards from SEA 35 to BUF -4. J.Rogers to BUF 24 for 28 yards (H.Farwell). FUMBLES (H.Farwell), RECOVERED by SEA-M.Smith at BUF 23. The Replay Assistant challenged the fumble ruling, and the play was REVERSED. S.Hauschka kicks 69 yards from SEA 35 to BUF -4. J.Rogers to BUF 24 for 28 yards (H.Farwell).'"
      ]
     },
     "execution_count": 89,
     "metadata": {},
     "output_type": "execute_result"
    },
    {
     "data": {
      "text/plain": [
       "'S.Hauschka kicks 68 yards from SEA 35 to SF -3. P.Cox to SF 20 for 23 yards (S.Ware; H.Farwell). Seattle challenged the runner was down by contact ruling, and the play was REVERSED. S.Hauschka kicks 68 yards from SEA 35 to SF -3. P.Cox to SF 20 for 23 yards (H.Farwell). FUMBLES (H.Farwell), RECOVERED by SEA-B.Maxwell at SF 20. There was no tackle after fumble recovery.'"
      ]
     },
     "execution_count": 89,
     "metadata": {},
     "output_type": "execute_result"
    },
    {
     "data": {
      "text/plain": [
       "'P.McAfee kicks 66 yards from IND 35 to HOU -1. K.Martin to HOU 29 for 30 yards (L.Brazill). FUMBLES (L.Brazill), RECOVERED by IND-D.Reed at HOU 29. D.Reed ran ob at HOU 31 for -2 yards. The Replay Assistant challenged the loose ball recovery ruling, and the play was REVERSED. P.McAfee kicks 66 yards from IND 35 to HOU -1. K.Martin to HOU 28 for 29 yards (L.Brazill). FUMBLES (L.Brazill), ball out of bounds at HOU 28.'"
      ]
     },
     "execution_count": 89,
     "metadata": {},
     "output_type": "execute_result"
    },
    {
     "data": {
      "text/plain": [
       "'R.Succop kicks 65 yards from KC 35 to OAK 0. T.Jones to OAK 28 for 28 yards (A.Jenkins). Kansas City challenged the fumble ruling, and the play was REVERSED. R.Succop kicks 65 yards from KC 35 to OAK 0. T.Jones to OAK 29 for 29 yards (J.Martin). FUMBLES (J.Martin), touched at OAK 29, RECOVERED by KC-H.Abdullah at OAK 28. H.Abdullah to OAK 28 for no gain (M.Rivera).'"
      ]
     },
     "execution_count": 89,
     "metadata": {},
     "output_type": "execute_result"
    },
    {
     "data": {
      "text/plain": [
       "'J.Feely kicks 64 yards from ARI 35 to SEA 1. R.Turbin to SEA 26 for 25 yards (K.Minter). FUMBLES (K.Minter), RECOVERED by ARI-B.McCann at SEA 24. B.McCann to SEA 24 for no gain (C.Maragos). The Replay Assistant challenged the fumble ruling, and the play was REVERSED. J.Feely kicks 64 yards from ARI 35 to SEA 1. R.Turbin to SEA 26 for 25 yards (K.Minter).'"
      ]
     },
     "execution_count": 89,
     "metadata": {},
     "output_type": "execute_result"
    },
    {
     "data": {
      "text/plain": [
       "'N.Novak kicks 69 yards from SD 35 to DEN -4. A.Caldwell to DEN 26 for 30 yards (K.Conner). FUMBLES (K.Conner), RECOVERED by SD-L.Green at DEN 28. L.Green to DEN 28 for no gain (C.Clark). The Replay Official challenged the fumble ruling, and the play was REVERSED. N.Novak kicks 69 yards from SD 35 to DEN -4. A.Caldwell to DEN 26 for 30 yards (A.Gachkar).'"
      ]
     },
     "execution_count": 89,
     "metadata": {},
     "output_type": "execute_result"
    },
    {
     "data": {
      "text/plain": [
       "'R.Bullock kicks 67 yards from HOU 35 to CLE -2. M.Moore to CLE 23 for 25 yards (E.Pleasant). FUMBLES (E.Pleasant), RECOVERED by HOU-E.Pleasant at CLE 18. The Replay Official challenged the fumble ruling, and the play was REVERSED. R.Bullock kicks 67 yards from HOU 35 to CLE -2. M.Moore to CLE 23 for 25 yards (E.Pleasant).'"
      ]
     },
     "execution_count": 89,
     "metadata": {},
     "output_type": "execute_result"
    },
    {
     "data": {
      "text/plain": [
       "'S.Janikowski kicks 67 yards from OAK 35 to CLE -2. S.Draughn to CLE 17 for 19 yards (T.Mays). FUMBLES (T.Mays), RECOVERED by OAK-A.Holmes at CLE 17. The Replay Official reviewed the runner was down by contact ruling, and the play was REVERSED. S.Janikowski kicks 67 yards from OAK 35 to CLE -2. S.Draughn to CLE 17 for 19 yards (T.Mays).'"
      ]
     },
     "execution_count": 89,
     "metadata": {},
     "output_type": "execute_result"
    },
    {
     "data": {
      "text/plain": [
       "'S.Gostkowski kicks 66 yards from NE 35 to HOU -1. C.James to HOU 17 for 18 yards (C.Harbor). New England challenged the runner was down by contact ruling, and the play was REVERSED. S.Gostkowski kicks 66 yards from NE 35 to HOU -1. C.James to HOU 17 for 18 yards (B.Bolden). FUMBLES (B.Bolden), RECOVERED by NE-D.Harmon at HOU 22. D.Harmon to HOU 22 for no gain (A.Dent).'"
      ]
     },
     "execution_count": 89,
     "metadata": {},
     "output_type": "execute_result"
    },
    {
     "data": {
      "text/plain": [
       "'M.McCrane kicks 66 yards from OAK 35 to CLE -1. A.Callaway to CLE 23 for 24 yards (K.Wilber). FUMBLES (K.Wilber), RECOVERED by OAK-M.McCrane at CLE 26. M.McCrane to CLE 25 for 1 yard (R.Streater). The Replay Official reviewed the fumble ruling, and the play was REVERSED. M.McCrane kicks 66 yards from OAK 35 to CLE -1. A.Callaway to CLE 23 for 24 yards (K.Wilber; D.Harris).'"
      ]
     },
     "execution_count": 89,
     "metadata": {},
     "output_type": "execute_result"
    },
    {
     "data": {
      "text/plain": [
       "'C.Sturgis kicks 60 yards from LAC 35 to SF 5. D.Reed to SF 17 for 12 yards (M.Davis). FUMBLES (M.Davis), RECOVERED by LAC-N.Dzubnar at SF 17. N.Dzubnar to SF 17 for no gain (F.Warner). The Replay Official reviewed the loose ball recovery ruling, and the play was REVERSED. C.Sturgis kicks 60 yards from LAC 35 to SF 5. D.Reed to SF 17 for 12 yards (M.Davis). FUMBLES (M.Davis), ball out of bounds at SF 17.'"
      ]
     },
     "execution_count": 89,
     "metadata": {},
     "output_type": "execute_result"
    },
    {
     "data": {
      "text/plain": [
       "'J.Elliott kicks 66 yards from PHI 35 to NYG -1. J.Davis to NYG 25 for 26 yards (J.Mills). FUMBLES (J.Mills), RECOVERED by PHI-J.Adams at NYG 30. J.Adams to NYG 30 for no gain (K.Wynn). The Replay Official reviewed the fumble ruling, and the play was REVERSED. J.Elliott kicks 66 yards from PHI 35 to NYG -1. J.Davis to NYG 25 for 26 yards (J.Mills).'"
      ]
     },
     "execution_count": 89,
     "metadata": {},
     "output_type": "execute_result"
    },
    {
     "data": {
      "text/plain": [
       "'S.Gostkowski kicks 60 yards from NE 35 to BUF 5. M.Murphy to BUF 22 for 17 yards (K.Crossen). FUMBLES (K.Crossen), RECOVERED by NE-N.Ebner at BUF 30. N.Ebner to BUF 30 for no gain (D.Lacey). The Replay Official reviewed the fumble ruling, and the play was REVERSED. S.Gostkowski kicks 60 yards from NE 35 to BUF 5. M.Murphy to BUF 22 for 17 yards (N.Grigsby).'"
      ]
     },
     "execution_count": 89,
     "metadata": {},
     "output_type": "execute_result"
    },
    {
     "name": "stdout",
     "output_type": "stream",
     "text": [
      "0.12359550561797752\n"
     ]
    }
   ],
   "source": [
    "bad_df = df[(df[\"isMuff\"] & ~df[\"retainsMuff\"]) | (df[\"isFumble\"] & ~df[\"retainsFumble\"])]\n",
    "bad_text = list(bad_df[\"text\"])\n",
    "i=0\n",
    "for entry in bad_text:\n",
    "    if \"REVERSED\" in entry:\n",
    "        i+=1\n",
    "        entry\n",
    "print(i/len(bad_df))\n",
    "#here we make a new DF that contains all the very bad kickoff plays (some sort of turnover), and find some dirty data we missed"
   ]
  },
  {
   "cell_type": "code",
   "execution_count": 92,
   "id": "smoking-citation",
   "metadata": {
    "scrolled": false
   },
   "outputs": [
    {
     "data": {
      "text/plain": [
       "156"
      ]
     },
     "execution_count": 92,
     "metadata": {},
     "output_type": "execute_result"
    },
    {
     "data": {
      "text/plain": [
       "['O.Mare kicks 70 yards from SEA 30 to STL 0. D.Avery to STL 20 for 20 yards (L.Laury). FUMBLES (L.Laury), RECOVERED by SEA-W.Herring at STL 19. W.Herring to STL 19 for no gain (A.Goldberg).',\n",
       " 'S.Gostkowski kicks 72 yards from NE 30 to BUF -2. L.McKelvin to BUF 31 for 33 yards (P.Woods). FUMBLES (P.Woods), RECOVERED by NE-S.Gostkowski at BUF 31. S.Gostkowski to BUF 31 for no gain (J.Wendling).',\n",
       " 'T.Morstead kicks 68 yards from NO 30 to PHI 2. E.Hobbs to PHI 22 for 20 yards (M.Jenkins). FUMBLES (M.Jenkins), RECOVERED by NO-C.Reis at PHI 22. C.Reis to PHI 22 for no gain (E.Buckley).',\n",
       " 'P.Dawson kicks 72 yards from CLE 30 to DEN -2. P.Hillis to DEN 22 for 24 yards (B.Costanzo). FUMBLES (B.Costanzo), RECOVERED by CLE-B.Costanzo at DEN 22. B.Costanzo to DEN 22 for no gain (L.Jordan).',\n",
       " 'R.Gould kicks 61 yards from CHI 30 to PIT 9. S.Logan to PIT 31 for 22 yards (J.Williams). FUMBLES (J.Williams), RECOVERED by CHI-C.Steltz at PIT 33. C.Steltz to PIT 33 for no gain (R.Mundy).',\n",
       " 'L.Tynes kicks 65 yards from NYG 30 to DAL 5. F.Jones to DAL 28 for 23 yards. FUMBLES, RECOVERED by NYG-B.Kehl at DAL 27.',\n",
       " 'J.Feely kicks 65 yards from NYJ 30 to TEN 5. R.Mouton to TEN 19 for 14 yards (J.Trusnik). FUMBLES (J.Trusnik), RECOVERED by NYJ-J.Trusnik at TEN 19. J.Trusnik to TEN 19 for no gain (R.Mouton).',\n",
       " 'B.Cundiff kicks 73 yards from CLE 30 to CIN -3. A.Caldwell to CIN 20 for 23 yards (K.Maiava, N.Sorensen). FUMBLES (K.Maiava), RECOVERED by CLE-B.Costanzo at CIN 18.',\n",
       " 'L.Tynes kicks 64 yards from NYG 30 to KC 6. J.Charles to KC 20 for 14 yards (C.Brown). FUMBLES (C.Brown), RECOVERED by NYG-B.Kehl at KC 16. B.Kehl to KC 16 for no gain (J.Charles).',\n",
       " 'S.Gostkowski kicks 74 yards from NE 30 to BAL -4. C.Carr to BAL 18 for 22 yards (E.Alexander). FUMBLES (E.Alexander), RECOVERED by NE-B.McGowan at BAL 12. B.McGowan to BAL 12 for no gain (M.Lawrence).',\n",
       " 'N.Kaeding kicks onside 16 yards from SD 30 to SD 46. R.Mundy MUFFS catch, RECOVERED by SD-T.Dobbins at SD 46. T.Dobbins to SD 46 for no gain (P.Bailey).',\n",
       " 'M.Koenen kicks 68 yards from ATL 15 to SF 17. D.Walker to SF 38 for 21 yards (T.Gilbert). FUMBLES (T.Gilbert), RECOVERED by ATL-K.Biermann at SF 38. K.Biermann to SF 38 for no gain (D.Walker).',\n",
       " 'D.Akers kicks 71 yards from PHI 30 to NYG -1. D.Hixon to NYG 19 for 20 yards. FUMBLES, RECOVERED by PHI-M.Fokou at NYG 21. M.Fokou to NYG 21 for no gain (D.Ware).',\n",
       " 'L.Tynes kicks 47 yards from NYG 30 to PHI 23. J.Babin MUFFS catch, RECOVERED by NYG-K.Dockery at PHI 23. K.Dockery to PHI 23 for no gain (J.Babin).',\n",
       " 'M.Crosby kicks 36 yards from GB 30 to MIN 34. B.Robison to MIN 42 for 8 yards (A.Hawk). FUMBLES (A.Hawk), RECOVERED by GB-N.Collins at MIN 41. N.Collins to MIN 41 for no gain (J.Sanford).',\n",
       " 'R.Longwell kicks 71 yards from MIN 30 to SEA -1. B.Obomanu to SEA 35 for 36 yards (E.Frampton, H.Abdullah). FUMBLES (E.Frampton), RECOVERED by MIN-H.Farwell at SEA 34. H.Farwell to SEA 34 for no gain (Team).',\n",
       " 'S.Janikowski kicks 71 yards from OAK 30 to CIN -1. A.Caldwell to CIN 17 for 18 yards (B.Myers). FUMBLES (B.Myers), RECOVERED by OAK-B.Myers at CIN 17.',\n",
       " 'J.Hanson kicks 71 yards from DET 30 to GB -1. J.Nelson to GB 21 for 22 yards (T.McBride). FUMBLES (T.McBride), RECOVERED by DET-J.Dizon at GB 20. J.Dizon to GB 20 for no gain (J.Nelson).',\n",
       " 'R.Longwell kicks 71 yards from MIN 30 to CHI -1. J.Knox to CHI 31 for 32 yards (E.Frampton). FUMBLES (E.Frampton), RECOVERED by MIN-H.Farwell at CHI 31. H.Farwell to CHI 31 for no gain (J.Bullocks). Chicago challenged the fumble ruling, and the play was Upheld. (Timeout #1 at 07:59.)',\n",
       " 'D.Akers kicks 72 yards from PHI 30 to ATL -2. E.Weems to ATL 25 for 27 yards (E.Buckley). FUMBLES (E.Buckley), RECOVERED by PHI-T.White at ATL 22.',\n",
       " 'D.Akers kicks 56 yards from PHI 30 to NYG 14. D.Hixon to NYG 33 for 19 yards (J.Mays). FUMBLES (J.Mays), RECOVERED by PHI-M.Fokou at NYG 32. M.Fokou to NYG 32 for no gain (B.Kehl).',\n",
       " 'B.Cundiff kicks 72 yards from BAL 30 to CHI -2. R.Davis to CHI 29 for 31 yards (C.Williams). FUMBLES (C.Williams), RECOVERED by BAL-D.Tyree at CHI 29. D.Tyree to CHI 29 for no gain (K.Davis).',\n",
       " 'M.Prater kicks 69 yards from DEN 30 to PHI 1. V.Harris to PHI 16 for 15 yards (D.Reid). FUMBLES (D.Reid), RECOVERED by DEN-R.Ayers at PHI 16. R.Ayers to PHI 16 for no gain (V.Abiamiri).',\n",
       " 'R.Lloyd kicks 69 yards from CAR 30 to NO 1. C.Roby to NO 23 for 22 yards (S.Martin). FUMBLES (S.Martin), RECOVERED by CAR-D.Wesley at NO 23. D.Wesley to NO 23 for no gain (T.Humphrey). NO-C.Roby was injured during the play. His return is Questionable.',\n",
       " 'C.Barth kicks 67 yards from TB 30 to ATL 3. E.Weems to ATL 27 for 24 yards (T.Jackson). FUMBLES (T.Jackson), RECOVERED by TB-K.Huggins at ATL 28. Penalty on ATL-C.Wire, Illegal Block Above the Waist, declined. Atlanta challenged the fumble ruling, and the play was Upheld. (Timeout #1 at 14:56.)',\n",
       " 'R.Gould kicks 68 yards from CHI 30 to DET 2. D.Williams to DET 25 for 23 yards (T.Shaw). FUMBLES (T.Shaw), RECOVERED by CHI-T.Shaw at DET 24. T.Shaw to DET 24 for no gain (D.Williams).',\n",
       " 'J.Reed kicks 64 yards from PIT 30 to TEN 6. M.Mariani to TEN 40 for 34 yards (S.Sylvester). FUMBLES (S.Sylvester), RECOVERED by PIT-K.Fox at TEN 46.',\n",
       " 'G.Gano kicks 63 yards from WAS 30 to STL 7. M.Gilyard to STL 24 for 17 yards (H.Blades, R.Doughty). FUMBLES (R.Doughty), RECOVERED by WAS-L.Alexander at STL 21. L.Alexander to STL 21 for no gain (B.Kehl).',\n",
       " 'J.Hanson kicks 55 yards from DET 30 to GB 15. J.Nelson to GB 25 for 10 yards (I.Ekejiuba). FUMBLES (I.Ekejiuba), RECOVERED by DET-S.Logan at GB 37. S.Logan to GB 37 for no gain (D.Bishop).',\n",
       " 'J.Hanson kicks 65 yards from DET 30 to GB 5. J.Nelson to GB 19 for 14 yards (A.Palmer). FUMBLES (A.Palmer), RECOVERED by DET-S.Logan at GB 22. S.Logan to GB 18 for 4 yards (D.Nance).',\n",
       " 'B.Cundiff kicks 75 yards from BAL 30 to DEN -5. D.Thomas to DEN 16 for 21 yards (J.Phillips). FUMBLES (J.Phillips), RECOVERED by BAL-K.Hamlin at DEN 20. K.Hamlin to DEN 20 for no gain (W.Woodyard). #88 Demaryius Thomas (DEN) injured on play.',\n",
       " 'C.Barth kicks 52 yards from TB 30 to CIN 18. Q.Cosby to CIN 11 for -7 yards. Lateral to L.Hall to CIN 48 for 37 yards. Lateral to B.Scott to TB 45 for 7 yards. FUMBLES, RECOVERED by TB-E.Graham at CIN 47. E.Graham to CIN 47 for no gain (B.Leonard).',\n",
       " 'D.Carpenter kicks 65 yards from MIA 30 to PIT 5. E.Sanders to PIT 22 for 17 yards (L.Hilliard). FUMBLES (L.Hilliard), RECOVERED by MIA-R.Jones at PIT 22.',\n",
       " 'R.Lindell kicks 71 yards from BUF 30 to BAL -1. J.Wilson to BAL 16 for 17 yards (G.Wilson). FUMBLES (G.Wilson), RECOVERED by BUF-G.Wilson at BAL 15. G.Wilson to BAL 15 for no gain (J.Wilson). Penalty on BAL-B.Ayanbadejo, Offensive Holding, declined. Baltimore challenged the runner was down by contact ruling, and the play was Upheld. (Timeout #1 at 05:00.)',\n",
       " 'B.Cundiff kicks 72 yards from BAL 30 to BUF -2. C.Spiller to BUF 27 for 29 yards (J.Parmele). FUMBLES (J.Parmele), RECOVERED by BAL-J.Wilson at BUF 27. J.Wilson to BUF 27 for no gain (C.McIntyre).',\n",
       " 'O.Mare kicks 60 yards from SEA 30 to ARI 10. J.Wright MUFFS catch, RECOVERED by SEA-K.Cox at ARI 16. K.Cox to ARI 16 for no gain (J.Dray).',\n",
       " 'J.Feely kicks 65 yards from ARI 30 to MIN 5. P.Harvin to MIN 27 for 22 yards (O.Schofield). FUMBLES (O.Schofield), RECOVERED by ARI-M.Adams at MIN 30. M.Adams for 30 yards, TOUCHDOWN. ARI-K.Iwebema was injured during the play. His return is Questionable.  Minnesota challenged the fumble ruling, and the play was Upheld. (Timeout #1 at 14:48.)',\n",
       " 'L.Tynes kicks 52 yards from NYG 30 to SEA 18. L.Washington to SEA 29 for 11 yards (T.Beckum). FUMBLES (T.Beckum), RECOVERED by NYG-J.Goff at SEA 26. J.Goff to SEA 4 for 22 yards (K.Chancellor).',\n",
       " 'S.Janikowski kicks 71 yards from OAK 15 to KC 14. J.Arenas to KC 35 for 21 yards (R.Cartwright). FUMBLES (R.Cartwright), RECOVERED by OAK-H.Eugene at KC 34. H.Eugene to KC 34 for no gain (J.Charles).',\n",
       " 'M.Crosby kicks 60 yards from GB 30 to DAL 10. B.McCann to DAL 25 for 15 yards (J.Bush). FUMBLES (J.Bush), RECOVERED by GB-N.Collins at DAL 26. N.Collins for 26 yards, TOUCHDOWN.',\n",
       " 'J.Reed kicks 63 yards from PIT 30 to CIN 7. B.Scott to CIN 25 for 18 yards (E.Sanders). FUMBLES (E.Sanders), RECOVERED by PIT-J.Worilds at CIN 25. J.Worilds to CIN 25 for no gain (R.Kelly).',\n",
       " 'Josh.Brown kicks 64 yards from STL 30 to DEN 6. E.Royal to DEN 23 for 17 yards (J.Murphy). FUMBLES (J.Murphy), RECOVERED by STL-J.Murphy at DEN 23. J.Murphy to DEN 23 for no gain (E.Royal). Play Challenged by Replay Assistant and Upheld.',\n",
       " 'R.Longwell kicks 67 yards from MIN 30 to BUF 3. L.McKelvin to BUF 19 for 16 yards. FUMBLES, RECOVERED by MIN-F.Walker at BUF 14. F.Walker to BUF 14 for no gain (Team).',\n",
       " 'J.Scobee kicks 57 yards from JAC 30 to OAK 13. J.Ford to OAK 21 for 8 yards (K.Osgood). FUMBLES (K.Osgood), RECOVERED by JAC-M.Owens at OAK 22. M.Owens to OAK 22 for no gain (R.Cartwright).',\n",
       " 'C.Barth kicks 40 yards from TB 30 to WAS 30. C.Wilson MUFFS catch, RECOVERED by TB-A.Hayward at WAS 34. A.Hayward to WAS 34 for no gain (K.Golston).',\n",
       " 'Josh.Brown kicks 71 yards from STL 30 to NO -1. C.Roby to NO 21 for 22 yards (C.Chamberlain). FUMBLES (C.Chamberlain), RECOVERED by STL-D.Stewart at NO 21. NO-C.Roby was injured during the play. He is Out.  Roby appeared to take a knee in the back of the neck while he was on the ground.  He was taken off the field on a stretcher and taken for evaluation.',\n",
       " 'B.Cundiff kicks 70 yards from BAL 30 to NO 0. R.Bush to NO 4 for 4 yards. Lateral to M.Colston to NO 4 for no gain. Lateral to R.Bush to NO 35 for 31 yards. Lateral to R.Harper to NO 41 for 6 yards (J.Parmele). FUMBLES (J.Parmele), RECOVERED by BAL-T.Gooden at NO 43. T.Gooden to NO 43 for no gain (D.Clark). Penalty on NO-R.Bush, Illegal Forward Pass, declined.',\n",
       " 'S.Suisham kicks 68 yards from PIT 30 to CAR 2. M.Goodson to CAR 28 for 26 yards (K.Fox). FUMBLES (K.Fox), RECOVERED by PIT-W.Allen at CAR 28. W.Allen to CAR 28 for no gain (J.King).',\n",
       " 'R.Lindell kicks 66 yards from BUF 35 to KC -1. D.McCluster to KC 25 for 26 yards (C.White). FUMBLES (C.White), RECOVERED by BUF-K.Sheppard at KC 26.',\n",
       " 'O.Mare kicks 63 yards from CAR 35 to GB 2. R.Cobb to GB 20 for 18 yards (J.Senn). FUMBLES (J.Senn), RECOVERED by CAR-S.Considine at GB 26. S.Considine to GB 26 for no gain (B.Raji).',\n",
       " 'A.Lee kicks 51 yards from SF 20 to CIN 29. N.Clements to CIN 33 for 4 yards. FUMBLES, RECOVERED by SF-D.Walker at CIN 33.',\n",
       " 'S.Janikowski kicks 65 yards from OAK 35 to NYJ 0. A.Cromartie MUFFS catch, touched at NYJ 13, RECOVERED by OAK-T.Jones at NYJ 13. T.Jones to NYJ 13 for no gain (A.Cromartie).',\n",
       " 'R.Bironas kicks onside 18 yards from TEN 35 to PIT 47. A.Battle MUFFS catch, touched at PIT 47, RECOVERED by TEN-A.Verner at PIT 45. A.Verner to PIT 45 for no gain (R.Mundy).',\n",
       " 'D.Bailey kicks 62 yards from DAL 35 to NE 3. M.Slater to NE 25 for 22 yards (J.Phillips). FUMBLES (J.Phillips), RECOVERED by DAL-G.Sensabaugh at NE 32. G.Sensabaugh to NE 32 for no gain (D.Woodhead).',\n",
       " 'D.Carpenter kicks 58 yards from MIA 35 to NYJ 7. G.McIntyre MUFFS catch, RECOVERED by MIA-A.Spitler at NYJ 18. A.Spitler to NYJ 18 for no gain (G.McIntyre).',\n",
       " 'M.Bosher kicks 73 yards from ATL 30 to DET -3. S.Logan to DET 27 for 30 yards (A.Dent). FUMBLES (A.Dent), RECOVERED by ATL-J.Snelling at DET 28. J.Snelling to DET 28 for no gain (S.Logan).',\n",
       " 'S.Hauschka kicks 68 yards from SEA 35 to BAL -3. D.Reed to BAL 14 for 17 yards (M.Robinson). FUMBLES (M.Robinson), RECOVERED by SEA-B.Obomanu at BAL 19. B.Obomanu to BAL 19 for no gain (A.Jones).',\n",
       " 'S.Hauschka kicks 70 yards from SEA 35 to BAL -5. D.Reed to BAL 18 for 23 yards (M.Smith). FUMBLES (M.Smith), RECOVERED by SEA-A.Bigby at BAL 18. A.Bigby to BAL 18 for no gain (E.Jones).',\n",
       " 'M.Prater kicks 78 yards from DEN 20 to NYJ 2. J.McKnight to NYJ 41 for 39 yards (W.Woodyard). FUMBLES (W.Woodyard), RECOVERED by DEN-C.Vaughn at NYJ 42. C.Vaughn to NYJ 42 for no gain (J.McKnight).',\n",
       " 'S.Janikowski kicks 61 yards from OAK 35 to MIN 4. L.Booker to MIN 19 for 15 yards. FUMBLES, RECOVERED by OAK-D.Van Dyke at MIN 16.',\n",
       " 'S.Suisham kicks 72 yards from PIT 35 to CIN -7. B.Tate to CIN 23 for 30 yards (S.Sylvester). FUMBLES (S.Sylvester), RECOVERED by PIT-E.Sanders at CIN 23. E.Sanders to CIN 23 for no gain (C.Cochart).',\n",
       " 'N.Folk kicks 61 yards from NYJ 35 to PHI 4. D.Lewis to PHI 20 for 16 yards (J.Westerman). FUMBLES (J.Westerman), RECOVERED by NYJ-E.Lankster at PHI 24. E.Lankster to PHI 24 for no gain (D.Lewis).',\n",
       " 'O.Mare kicks 70 yards from CAR 35 to TB -5. S.Stroughter to TB 10 for 15 yards (J.Williams). FUMBLES (J.Williams), RECOVERED by CAR-J.Thomas at TB 8. J.Thomas to TB 8 for no gain (M.Madu).',\n",
       " 'M.Crosby kicks 65 yards from GB 20 to DET 15. S.Logan to GB 49 for 36 yards (E.Walden). FUMBLES (E.Walden), RECOVERED by GB-M.Crosby at 50. M.Crosby ran ob at DET 48 for 2 yards. Detroit challenged the fumble ruling, and the play was Upheld. (Timeout #1 at 07:51.)',\n",
       " 'R.Gould kicks 71 yards from CHI 35 to IND -6. L.Brazill to IND 9 for 15 yards (J.Thomas). FUMBLES (J.Thomas), RECOVERED by CHI-K.Hayden at IND 12. K.Hayden ran ob at IND 12 for no gain.',\n",
       " 'S.Hauschka kicks 63 yards from SEA 35 to DAL 2. F.Jones to DAL 21 for 19 yards (M.Robinson). FUMBLES (M.Robinson), RECOVERED by SEA-E.Thomas at DAL 29. E.Thomas to DAL 29 for no gain (L.Vickers).',\n",
       " 'J.Hanson kicks 66 yards from DET 35 to SF -1. K.Hunter to SF 25 for 26 yards (T.Whitehead). FUMBLES (T.Whitehead), RECOVERED by DET-K.Osgood at SF 25. K.Osgood to SF 25 for no gain (W.Tukuafu).',\n",
       " 'L.Tynes kicks 68 yards from NYG 35 to CAR -3. J.Adams to CAR 20 for 23 yards (S.Paysinger). FUMBLES (S.Paysinger), RECOVERED by NYG-S.Paysinger at CAR 19. S.Paysinger to CAR 19 for no gain (J.Byers).',\n",
       " 'L.Tynes kicks 65 yards from NYG 35 to CLE 0. J.Cribbs to CLE 30 for 30 yards (W.Hill). FUMBLES (W.Hill), RECOVERED by NYG-S.Brown at CLE 38. S.Brown to CLE 29 for 9 yards (L.Fort).',\n",
       " 'R.Succop kicks 68 yards from KC 35 to BAL -3. D.Thompson to BAL 29 for 32 yards (T.Copper). FUMBLES (T.Copper), RECOVERED by KC-E.Jones at BAL 29. E.Jones to BAL 29 for no gain (E.Dickson). The Replay Assistant challenged the fumble ruling, and the play was Upheld.',\n",
       " 'J.Medlock kicks 69 yards from CAR 35 to SEA -4. L.Washington to SEA 43 for 47 yards (J.Phillips). FUMBLES (J.Phillips), RECOVERED by CAR-J.Thomas at SEA 41. J.Thomas to SEA 37 for 4 yards (M.Morgan).',\n",
       " 'D.Carpenter kicks 52 yards from MIA 40 to STL 8. B.Miller to STL 21 for 13 yards (J.Wilson). FUMBLES (J.Wilson), RECOVERED by MIA-M.Thigpen at STL 25. M.Thigpen to STL 25 for no gain (A.Pettis). MIA-O.Vernon was injured during the play. His return is Questionable.',\n",
       " 'N.Novak kicks 50 yards from SD 35 to DEN 15. O.Bolden to DEN 19 for 4 yards (D.Stuckey). FUMBLES (D.Stuckey), RECOVERED by SD-C.Lynch at DEN 19. C.Lynch to DEN 19 for no gain (R.Moore).',\n",
       " 'N.Folk kicks 65 yards from NYJ 35 to NE 0. D.McCourty to NE 15 for 15 yards (L.Hilliard). FUMBLES (L.Hilliard), RECOVERED by NYJ-A.Allen at NE 18.',\n",
       " 'A.Henery kicks 66 yards from PHI 35 to NO -1. T.Cadet to NO 22 for 23 yards (C.Polk). FUMBLES (C.Polk), RECOVERED by PHI-B.Hughes at NO 22. B.Hughes to NO 22 for no gain (M.Wilson).',\n",
       " 'D.Akers kicks 68 yards from SF 35 to STL -3. I.Pead to STL 28 for 31 yards (T.Brock). FUMBLES (T.Brock), RECOVERED by SF-D.McBath at STL 28. D.McBath to STL 20 for 8 yards (J.Cudjo). Penalty on STL-J.Cudjo, Defensive Holding, declined. The Replay Assistant challenged the fumble ruling, and the play was Upheld.',\n",
       " 'S.Gostkowski kicks 70 yards from NE 35 to NYJ -5. J.McKnight to NYJ 20 for 25 yards (D.McCourty). FUMBLES (D.McCourty), RECOVERED by NE-J.Edelman at NYJ 22. J.Edelman for 22 yards, TOUCHDOWN.',\n",
       " 'G.Gano kicks 65 yards from CAR 35 to PHI 0. B.Boykin to PHI 44 for 44 yards (S.Martin). FUMBLES (S.Martin), RECOVERED by CAR-G.Barnidge at CAR 49. G.Barnidge to CAR 49 for no gain (D.Tapp).',\n",
       " 'J.Brown kicks 39 yards from CIN 35 to PHI 26. C.Thornton MUFFS catch, RECOVERED by CIN-T.Mays at PHI 33. T.Mays to PHI 33 for no gain (C.Matthews).',\n",
       " 'O.Mare kicks 65 yards from CHI 35 to DET 0. J.Bell to DET 25 for 25 yards (J.Anderson). FUMBLES (J.Anderson), RECOVERED by CHI-E.Weems at DET 24. E.Weems to DET 24 for no gain (J.Bell).',\n",
       " \"N.Folk kicks 37 yards from NYJ 35 to TB 28. V.Jackson (didn't try to advance) to TB 28 for no gain. Lateral to B.Leonard to TB 33 for 5 yards. Lateral to D.Martin to TB 33 for no gain (J.Jarrett). FUMBLES (J.Jarrett), RECOVERED by NYJ-R.Sapp at TB 30.\",\n",
       " 'R.Gould kicks 36 yards from CHI 35 to MIN 29. J.Carlson to MIN 30 for 1 yard (B.Costanzo). FUMBLES (B.Costanzo), RECOVERED by CHI-B.Costanzo at MIN 30. B.Costanzo to MIN 30 for no gain (J.Carlson). The Replay Assistant challenged the fumble ruling, and the play was Upheld.',\n",
       " 'M.Nugent kicks 57 yards from CIN 35 to GB 8. J.Ross MUFFS catch, RECOVERED by CIN-T.Mays at GB 2. T.Mays to GB 2 for no gain (J.Franklin).',\n",
       " 'G.Zuerlein kicks 70 yards from STL 35 to HOU -5. K.Martin to HOU 10 for 15 yards (R.McLeod). FUMBLES (R.McLeod), RECOVERED by STL-D.Bates at HOU 11. D.Bates for 11 yards, TOUCHDOWN.',\n",
       " 'S.Gostkowski kicks 70 yards from NE 35 to NO -5. D.Sproles to NO 7 for 12 yards. FUMBLES, RECOVERED by NE-J.Collins at NO 7. Bill Belichick 210 career wins, passing Chuck Noll for 5th in NFL history.',\n",
       " 'J.Brown kicks 51 yards from NYG 35 to MIN 14. S.Floyd to MIN 25 for 11 yards (D.Moore). FUMBLES (D.Moore), RECOVERED by NYG-J.Williams at MIN 23. J.Williams to MIN 18 for 5 yards (J.Berger). Officially, a return for 9 yards.',\n",
       " 'M.Koenen kicks 63 yards from TB 35 to SEA 2. J.Kearse to SEA 32 for 30 yards (R.Shepard). FUMBLES (R.Shepard), RECOVERED by TB-M.Koenen at SEA 36. M.Koenen to SEA 31 for 5 yards (C.Maragos).',\n",
       " 'S.Janikowski kicks 61 yards from OAK 35 to NYG 4. J.Jernigan to NYG 23 for 19 yards (T.Jones). FUMBLES (T.Jones), RECOVERED by OAK-A.Holmes at NYG 27. A.Holmes pushed ob at NYG 5 for 22 yards (D.Moore).',\n",
       " 'P.McAfee kicks 63 yards from IND 35 to TEN 2. D.Wylie to TEN 21 for 19 yards. FUMBLES, RECOVERED by IND-D.Herron at TEN 20. D.Herron to TEN 20 for no gain (Mi.Martin).',\n",
       " 'S.Janikowski kicks 74 yards from OAK 35 to DAL -9. T.Williams to DAL 20 for 29 yards (K.Burnett). FUMBLES (K.Burnett), RECOVERED by OAK-G.Jenkins at DAL 23. G.Jenkins for 23 yards, TOUCHDOWN. The Replay Assistant challenged the fumble ruling, and the play was Upheld.',\n",
       " 'P.Dawson kicks 74 yards from SF 35 to TB -9. E.Page to TB 7 for 16 yards. FUMBLES, RECOVERED by SF-K.Hunter at TB 2. K.Hunter for 2 yards, TOUCHDOWN.',\n",
       " 'J.Feely kicks 40 yards from ARI 35 to TEN 25. P.Bailey MUFFS catch, RECOVERED by ARI-A.Cason at TEN 23. A.Cason to TEN 23 for no gain (P.Bailey).',\n",
       " 'J.Feely kicks 67 yards from ARI 35 to SEA -2. R.Turbin to SEA 15 for 17 yards. FUMBLES, RECOVERED by ARI-J.Bethel at SEA 15. J.Bethel to SEA 18 for -3 yards (C.Maragos).',\n",
       " 'N.Novak kicks 70 yards from SD 35 to OAK -5. G.Jenkins to OAK 14 for 19 yards (S.Ajirotutu, D.Stuckey). FUMBLES (S.Ajirotutu), RECOVERED by SD-L.Green at OAK 13. L.Green to OAK 13 for no gain (G.Jenkins). Penalty on OAK-M.Rivera, Defensive Holding, declined.',\n",
       " 'A.Henery kicks 66 yards from PHI 35 to CHI -1. D.Hester to CHI 35 for 36 yards (B.Fletcher). FUMBLES (B.Fletcher), RECOVERED by PHI-C.Williams at CHI 39. C.Williams to CHI 39 for no gain (D.Rosario).',\n",
       " 'C.Catanzaro kicks 69 yards from ARI 35 to NYG -4. Q.Demps to NYG 22 for 26 yards (K.Demens). FUMBLES (K.Demens), RECOVERED by ARI-R.Hughes at NYG 21. R.Hughes to NYG 21 for no gain (P.Hillis). Officially, a return for 25 yards.',\n",
       " 'B.Cundiff kicks 53 yards from CLE 35 to NO 12. K.Robinson to NO 42 for 30 yards (J.Poyer). FUMBLES (J.Poyer), RECOVERED by CLE-M.Moore at NO 40. M.Moore to NO 40 for no gain (T.Cadet).',\n",
       " 'G.Gano kicks 69 yards from CAR 35 to DET -4. J.Ross to DET 29 for 33 yards (C.Blackburn). FUMBLES (C.Blackburn), RECOVERED by CAR-G.Gano at DET 33. G.Gano to DET 33 for no gain (T.Swanson).',\n",
       " 'N.Novak kicks 53 yards from SD 35 to SEA 12. P.Harvin to SEA 27 for 15 yards (K.Conner). FUMBLES (K.Conner), RECOVERED by SD-D.Stuckey at SEA 28.',\n",
       " 'M.Bosher kicks 68 yards from ATL 35 to NYG -3. P.Parker to NYG 19 for 22 yards (E.Weems). FUMBLES (E.Weems), RECOVERED by ATL-E.Weems at NYG 21. E.Weems to NYG 21 for no gain (P.Hillis).',\n",
       " 'S.Gostkowski kicks 71 yards from NE 35 to CIN -6. B.Tate to CIN 11 for 17 yards (B.Bolden). FUMBLES (B.Bolden), RECOVERED by NE-K.Arrington at CIN 9. K.Arrington for 9 yards, TOUCHDOWN.',\n",
       " 'S.Hauschka kicks 67 yards from SEA 35 to OAK -2. T.Carrie to OAK 25 for 27 yards (J.Kearse). FUMBLES (J.Kearse), RECOVERED by SEA-S.Hauschka at OAK 31. S.Hauschka to OAK 31 for no gain (L.Murray).',\n",
       " 'C.Schmidt kicks 62 yards from BUF 20 to MIA 18. J.Landry to MIA 39 for 21 yards (D.Searcy, N.Bradham). FUMBLES (D.Searcy), RECOVERED by BUF-N.Robey at MIA 39. The Replay Official challenged the fumble ruling, and the play was Upheld. The ruling on the field was confirmed.',\n",
       " 'N.Folk kicks 61 yards from NYJ 35 to MIN 4. C.Patterson to MIN 25 for 21 yards (B.Powell). FUMBLES (B.Powell), RECOVERED by NYJ-T.Graham at MIN 26. The Replay Official challenged the fumble ruling, and the play was Upheld. The ruling on the field stands.',\n",
       " 'D.Bailey kicks 47 yards from DAL 35 to PHI 18. J.Huff MUFFS catch, RECOVERED by DAL-C.Spillman at PHI 18. C.Spillman to PHI 18 for no gain (C.Maragos).',\n",
       " 'C.Parkey kicks 66 yards from PHI 35 to WAS -1. A.Roberts to WAS 20 for 21 yards (M.Jenkins). FUMBLES (M.Jenkins), RECOVERED by PHI-N.Carroll at WAS 16. N.Carroll to WAS 16 for no gain (F.Kearse).',\n",
       " 'B.Walsh kicks 50 yards from 50 to MIA 0. J.Landry to MIA 6 for 6 yards. FUMBLES, RECOVERED by MIN-A.Exum at MIA 5.',\n",
       " 'J.Brown kicks 67 yards from NYG 35 to STL -2. B.Cunningham to STL 19 for 21 yards (O.Darkwa). FUMBLES (O.Darkwa), touched at STL 20, RECOVERED by NYG-N.Berhe at STL 21. N.Berhe to STL 21 for no gain (D.Bates).',\n",
       " 'S.Martin kicks 28 yards from DET 20 to DET 48. R.Cobb MUFFS catch, RECOVERED by DET-C.Vaughn at GB 44. C.Vaughn to GB 44 for no gain (J.Nelson).',\n",
       " 'G.Zuerlein kicks 70 yards from STL 35 to ARI -5. D.Johnson to ARI 14 for 19 yards (M.Barron). FUMBLES (M.Barron), RECOVERED by STL-D.Bates at ARI 17. D.Bates to ARI 17 for no gain (C.Clemons).',\n",
       " 'K.Forbath kicks 67 yards from NO 35 to IND -2. G.Whalen to IND 28 for 30 yards (D.Hawthorne). FUMBLES (D.Hawthorne), RECOVERED by NO-K.Wilson at IND 31. K.Wilson to IND 27 for 4 yards (J.McNary). Penalty on IND-D.McDonald, Offensive Holding, declined.',\n",
       " 'N.Novak kicks 71 yards from HOU 35 to TEN -6. B.Sankey to TEN 17 for 23 yards (K.Drummond). FUMBLES (K.Drummond), RECOVERED by HOU-E.Pleasant at TEN 24. E.Pleasant to TEN 24 for no gain (J.Fowler). HOU-K.Drummond was injured during the play. He is Out.',\n",
       " 'C.Boswell kicks 55 yards from PIT 35 to OAK 10. T.Jones to OAK 15 for 5 yards (R.Nix). FUMBLES (R.Nix), RECOVERED by PIT-A.Chickillo at OAK 6. A.Chickillo to OAK 6 for no gain (T.Jones).',\n",
       " 'C.Boswell kicks 50 yards from PIT 35 to OAK 15. M.Thigpen to OAK 22 for 7 yards. FUMBLES, RECOVERED by PIT-V.Williams at OAK 17.',\n",
       " 'J.Gay kicks 70 yards from BUF 35 to NYJ -5. D.Smith to NYJ 16 for 21 yards (B.Rambo). FUMBLES (B.Rambo), RECOVERED by BUF-Du.Williams at NYJ 19. Du.Williams for 19 yards, TOUCHDOWN.',\n",
       " 'R.Succop kicks 64 yards from TEN 35 to OAK 1. J.Ross to OAK 22 for 21 yards (T.McBride). FUMBLES (T.McBride), RECOVERED by TEN-D.Stafford at OAK 18. D.Stafford to OAK 18 for no gain (M.Reece).',\n",
       " '(Onside Kick formation) S.Gostkowski kicks onside 9 yards from NE 35 to NE 44. Z.Ertz MUFFS catch, RECOVERED by NE-R.Melvin at NE 44. R.Melvin to NE 44 for no gain (C.Barwin).',\n",
       " 'P.McAfee kicks 73 yards from IND 35 to PIT -8. Jac.Jones to PIT 11 for 19 yards (J.Newsome). FUMBLES (J.Newsome), RECOVERED by IND-D.Smith at PIT 11. D.Smith to PIT 11 for no gain (T.Garvin).',\n",
       " 'J.Gay kicks 55 yards from BUF 35 to DAL 10. L.Whitehead to DAL 25 for 15 yards (A.Tarpley). FUMBLES (A.Tarpley), RECOVERED by BUF-A.Dixon at DAL 26. Penalty on DAL-D.Wilson, Offensive Holding, declined.',\n",
       " 'C.Boswell kicks 63 yards from PIT 35 to CLE 2. R.Mostert to CLE 28 for 26 yards (A.Chickillo). FUMBLES (A.Chickillo), RECOVERED by PIT-B.Boykin at CLE 28. Penalty on CLE-T.Carder, Illegal Block Above the Waist, declined.',\n",
       " 'M.Crosby kicks 66 yards from GB 35 to MIN -1. C.Patterson to GB 31 for 70 yards (M.Crosby). FUMBLES (M.Crosby), RECOVERED by GB-M.Hyde at GB 23. M.Hyde to GB 23 for no gain (J.Trusnik).',\n",
       " 'P.Dawson kicks 62 yards from SF 35 to CAR 3. T.Ginn MUFFS catch, RECOVERED by SF-S.Draughn at CAR 2. S.Draughn to CAR 2 for no gain (T.Ginn). PENALTY on CAR-G.Gradkowski, Unsportsmanlike Conduct, 1 yard, enforced at CAR 2.',\n",
       " 'S.Gostkowski kicks 56 yards from NE 35 to HOU 9. T.Ervin to HOU 21 for 12 yards (N.Ebner). FUMBLES (N.Ebner), RECOVERED by NE-J.Richards at HOU 21. J.Richards to HOU 21 for no gain (A.Blue).',\n",
       " 'C.Santos kicks 61 yards from KC 35 to NYJ 4. J.Marshall to NYJ 23 for 19 yards (A.Sherman). FUMBLES (A.Sherman), RECOVERED by KC-D.Harris at NYJ 27. D.Harris for 27 yards, TOUCHDOWN.',\n",
       " 'C.Catanzaro kicks 62 yards from ARI 35 to SF 3. C.Davis to SF 14 for 11 yards (I.Momah). FUMBLES (I.Momah), RECOVERED by ARI-I.Momah at SF 14. I.Momah to SF 14 for no gain (C.Davis).',\n",
       " 'R.Dixon kicks 34 yards from DEN 20 to SD 46. K.Wiggins MUFFS catch, RECOVERED by DEN-S.Keo at DEN 49. S.Keo to DEN 49 for no gain (J.Perry).',\n",
       " 'D.Carpenter kicks 58 yards from BUF 35 to SF 7. K.Martin to SF 27 for 20 yards (N.Robey-Coleman). FUMBLES (N.Robey-Coleman), RECOVERED by BUF-J.Meeks at SF 27.',\n",
       " 'P.Dawson kicks 56 yards from SF 35 to CHI 9. D.Thompson to CHI 37 for 28 yards (J.Ward). FUMBLES (J.Ward), RECOVERED by SF-J.Ward at CHI 37. J.Ward to CHI 37 for no gain (D.Thompson). The Replay Official reviewed the fumble ruling, and the play was Upheld. The ruling on the field stands.',\n",
       " 'J.Tucker kicks 64 yards from BAL 35 to NE 1. M.Slater to NE 20 for 19 yards (P.Onwuasor). FUMBLES (P.Onwuasor), RECOVERED by BAL-S.Wright at NE 22.',\n",
       " 'C.Santos kicks 63 yards from KC 35 to DEN 2. K.Raymond to DEN 31 for 29 yards (A.Sherman). FUMBLES (A.Sherman), RECOVERED by KC-D.Sorensen at DEN 36. D.Sorensen to DEN 36 for no gain (S.Barrett).',\n",
       " 'B.Pinion kicks 68 yards from SF 35 to LA -3. P.Cooper to LA 25 for 28 yards (V.Bolden). FUMBLES (V.Bolden), RECOVERED by SF-A.Robinson at LA 29. A.Robinson to LA 29 for no gain (T.Higbee). 4-yds of loose ball yardage',\n",
       " 'M.Nugent kicks 59 yards from DAL 35 to WAS 6. C.Thompson to WAS 24 for 18 yards (K.Smith). FUMBLES (K.Smith), RECOVERED by DAL-B.Benwikere at WAS 26.',\n",
       " 'P.Murray kicks 40 yards from TB 35 to MIA 25. D.Williams to MIA 18 for -7 yards. Lateral to J.Landry to MIA 15 for -3 yards. FUMBLES, recovered by MIA-J.Grant at MIA 13. J.Grant to MIA 3 for -10 yards. FUMBLES, RECOVERED by TB-A.Glanton at MIA 0. TOUCHDOWN.',\n",
       " \"P.Dawson kicks 15 yards from ARI 30 to ARI 45. P.Posluszny (didn't try to advance) to JAX 49 for -6 yards. Lateral to K.Cole (didn't try to advance) to JAX 28 for -21 yards. Lateral to C.Grant to JAX 17 for -11 yards. Lateral to J.Mickens to JAX 19 for 2 yards. FUMBLES, RECOVERED by ARI-H.Miller at JAX 24. H.Miller to JAX 24 for no gain (B.Brown).\",\n",
       " 'B.Walsh kicks 64 yards from SEA 35 to JAX 1. C.Grant to JAX 17 for 16 yards (T.Garvin). FUMBLES (T.Garvin), RECOVERED by SEA-T.Thompson at JAX 25. T.Thompson to JAX 25 for no gain (T.Bohanon).',\n",
       " 'M.Crosby kicks 62 yards from GB 35 to SF 3. D.Reed to SF 33 for 30 yards (R.Greene). FUMBLES (R.Greene), RECOVERED by GB-J.Crawford at SF 34. J.Crawford to SF 34 for no gain (E.Lee).',\n",
       " 'C.Parkey kicks 65 yards from CHI 35 to NE 0. C.Patterson to NE 22 for 22 yards (N.Kwiatkoski). FUMBLES (N.Kwiatkoski), RECOVERED by CHI-D.Houston-Carson at NE 24. D.Houston-Carson to NE 24 for no gain (C.Hogan).',\n",
       " 'S.Janikowski kicks 66 yards from SEA 35 to DET -1. A.Abdullah to DET 31 for 32 yards (T.Thompson). FUMBLES (T.Thompson), RECOVERED by SEA-B.Mingo at DET 34. B.Mingo to DET 34 for no gain (D.Shead).',\n",
       " 'G.Zuerlein kicks 67 yards from LA 35 to GB -2. T.Montgomery to GB 20 for 22 yards (R.Wilson). FUMBLES (R.Wilson), RECOVERED by LA-R.Wilson at GB 21. R.Wilson to GB 21 for no gain (J.Crawford).',\n",
       " 'C.Boswell kicks 60 yards from PIT 35 to CAR 5. C.Samuel to CAR 19 for 14 yards (R.Nix). FUMBLES (R.Nix), RECOVERED by PIT-A.Chickillo at CAR 9. A.Chickillo to CAR 9 for no gain (C.Samuel).',\n",
       " 'S.Hauschka kicks 56 yards from BUF 35 to NYJ 9. A.Roberts to NYJ 13 for 4 yards (S.Neal). FUMBLES (S.Neal), RECOVERED by BUF-M.Murphy at NYJ 13.',\n",
       " 'J.Myers kicks 67 yards from NYJ 35 to GB -2. J.Moore to GB 16 for 18 yards (A.Wint). FUMBLES (A.Wint), RECOVERED by NYJ-R.Robinson at GB 18. R.Robinson to GB 18 for no gain (D.Vitale).',\n",
       " 'M.Badgley kicks 59 yards from LAC 35 to DEN 6. R.Cracraft to DEN 29 for 23 yards (D.King). FUMBLES (D.King), RECOVERED by LAC-B.Facyson at DEN 31. B.Facyson ran ob at DEN 31 for no gain.',\n",
       " 'M.Bryant kicks 60 yards from ATL 35 to PHI 5. C.Clement to PHI 31 for 26 yards (K.Sheffield). FUMBLES (K.Sheffield), RECOVERED by ATL-S.Neasman at PHI 33. S.Neasman to PHI 33 for no gain (Z.Brown).',\n",
       " 'S.Martin kicks 64 yards from DET 35 to KC 1. M.Hardman to KC 30 for 29 yards (J.Agnew). FUMBLES (J.Agnew), RECOVERED by DET-J.Reeves-Maybin at KC 36. J.Reeves-Maybin to KC 36 for no gain (B.Bell).',\n",
       " 'J.Elliott kicks 41 yards from PHI 35 to CHI 24. A.Shaheen MUFFS catch, touched at CHI 24, RECOVERED by PHI-D.Riley at CHI 26. D.Riley to CHI 26 for no gain (A.Shaheen).',\n",
       " 'J.Berry kicks 67 yards from PIT 20 to IND 13. C.Rogers to IND 17 for 4 yards (O.Adeniyi, T.Edmunds). FUMBLES (O.Adeniyi), RECOVERED by PIT-J.Holton at IND 17. J.Holton to IND 17 for no gain (Z.Pascal).',\n",
       " 'D.Bailey kicks 65 yards from MIN 35 to KC 0. M.Hardman to KC 34 for 34 yards (M.Hughes). FUMBLES (M.Hughes), RECOVERED by MIN-H.Hill at KC 38. H.Hill to KC 38 for no gain (A.Watts).',\n",
       " 'B.McManus kicks 68 yards from DEN 35 to MIN -3. A.Abdullah to MIN 16 for 19 yards (W.Parks; D.Booker). FUMBLES (W.Parks), RECOVERED by DEN-J.Jewell at MIN 17. J.Jewell to MIN 17 for no gain (C.Ham).',\n",
       " 'D.Hopkins kicks 65 yards from WAS 35 to NYJ 0. V.Smith to NYJ 27 for 27 yards (R.Anderson). FUMBLES (R.Anderson), RECOVERED by WAS-W.Smallwood at NYJ 27.',\n",
       " 'R.Succop kicks 63 yards from TEN 35 to JAX 2. M.Walker to JAX 19 for 17 yards (D.Bates). FUMBLES (D.Bates), RECOVERED by TEN-D.Bates at JAX 7. D.Bates to JAX 7 for no gain (D.Ozigbo).',\n",
       " \"H.Butker kicks 55 yards from KC 35 to OAK 10. T.Davis to OAK 24 for 14 yards (R.Fenton). FUMBLES (R.Fenton), RECOVERED by KC-D.O'Daniel at OAK 24. D.O'Daniel to OAK 24 for no gain (D.Washington).\",\n",
       " 'J.Myers kicks 51 yards from SEA 35 to MIN 14. C.Ham to MIN 30 for 16 yards (M.Turner). FUMBLES (M.Turner), RECOVERED by SEA-T.Homer at MIN 31. T.Homer to MIN 31 for no gain (K.Boyd).',\n",
       " 'Y.Koo kicks 69 yards from ATL 35 to CAR -4. G.Dortch to CAR 17 for 21 yards (D.Kazee). FUMBLES (D.Kazee), RECOVERED by ATL-Y.Koo at CAR 19. Y.Koo to CAR 16 for 3 yards (C.Luke).',\n",
       " \"Y.Koo kicks 34 yards from ATL 35 to SF 31. D.Samuel (didn't try to advance) to SF 15 for -16 yards. Lateral to R.James Jr. to SF 22 for 7 yards. Lateral to R.Mostert to SF 22 for no gain. FUMBLES, touched at SF 3, RECOVERED by ATL-O.Zaccheaus at SF 0. TOUCHDOWN.\",\n",
       " 'Y.Koo kicks 67 yards from ATL 35 to JAX -2. M.Walker to JAX 25 for 27 yards (K.Smith). FUMBLES (K.Smith), RECOVERED by ATL-B.Hill at JAX 25. B.Hill to JAX 25 for no gain (R.Armstead).']"
      ]
     },
     "execution_count": 92,
     "metadata": {},
     "output_type": "execute_result"
    },
    {
     "data": {
      "text/plain": [
       "156"
      ]
     },
     "execution_count": 92,
     "metadata": {},
     "output_type": "execute_result"
    }
   ],
   "source": [
    "len(bad_df)\n",
    "bad_df = bad_df[~bad_df[\"text\"].str.contains(\"REVERSED\")]\n",
    "list(bad_df[\"text\"])\n",
    "len(bad_df)"
   ]
  },
  {
   "cell_type": "code",
   "execution_count": 43,
   "id": "humanitarian-democracy",
   "metadata": {},
   "outputs": [
    {
     "data": {
      "text/plain": [
       "2010    2050\n",
       "2009    2024\n",
       "2012    1399\n",
       "2011    1395\n",
       "2013    1318\n",
       "2014    1259\n",
       "2015    1117\n",
       "2016    1065\n",
       "2017    1063\n",
       "2018     969\n",
       "2019     969\n",
       "Name: year, dtype: int64"
      ]
     },
     "execution_count": 43,
     "metadata": {},
     "output_type": "execute_result"
    },
    {
     "data": {
      "text/plain": [
       "2013    2667\n",
       "2012    2608\n",
       "2015    2605\n",
       "2018    2601\n",
       "2016    2597\n",
       "2019    2587\n",
       "2014    2573\n",
       "2011    2558\n",
       "2010    2531\n",
       "2017    2507\n",
       "2009    2481\n",
       "Name: year, dtype: int64"
      ]
     },
     "execution_count": 43,
     "metadata": {},
     "output_type": "execute_result"
    },
    {
     "data": {
      "text/plain": [
       "<AxesSubplot:xlabel='year', ylabel='Count'>"
      ]
     },
     "execution_count": 43,
     "metadata": {},
     "output_type": "execute_result"
    },
    {
     "data": {
      "image/png": "[encoded data removed]",
      "text/plain": [
       "<Figure size 432x288 with 1 Axes>"
      ]
     },
     "metadata": {
      "needs_background": "light"
     },
     "output_type": "display_data"
    }
   ],
   "source": [
    "ir_df = og_df[og_df[\"isReturned\"]]\n",
    "ir_df[\"year\"].value_counts()\n",
    "og_df[\"year\"].value_counts()\n",
    "sns.histplot(data=ir_df, x=\"year\", bins=11)\n",
    "\n",
    "#here we're looking at how returns have changed over time"
   ]
  },
  {
   "cell_type": "markdown",
   "id": "lonely-sword",
   "metadata": {},
   "source": [
    "***Summary***:\n",
    "\n",
    "These numbers all seem pretty reasonable, but not much analysis can be done in the absence of touchdown and long return data. Note that these numbers seem to say that there is about one loss of possession due to kickoff return in the league every week. Thus, we would say that a team has about a 3.4% chance of losing a possession due to returned kicks per week. Those are about \n",
    "the odds that a pregnant woman is carrying twins.\n",
    "\n",
    "What we can say from this section is that it's absolutely essential to consider the context in regards to time, team, and player when looking at returns. The goal of this notebook is not to definitively say whether big plays on kickoffs are a net positive or negative, but rather to get an idea of the ballpark that turnovers and touchdowns occur at.\n",
    "\n",
    "Finally, we found a rather large issue when actually looking at the turnover columns themselves: a number of plays that were ruled a fumble and reversed are in this dataset. We'll exclude these and check the rest of the dataset for similar errors. It's particularly worth noting that we may be missing plays that were ruled not a fumble and then were successfully challenged for a fumble."
   ]
  },
  {
   "cell_type": "markdown",
   "id": "scientific-blink",
   "metadata": {},
   "source": [
    "LEFT TO DO:\n",
    "    \n",
    "1. validate turnovers\n",
    "    - get rid of onsides\n",
    "    - check existing bad_df texts to confirm\n",
    "    \n",
    "    \n",
    "1a. get a more descriptive understanding of returned kickoffs in general\n",
    "\n",
    "2. work on positive plays (TDs, long returns)\n",
    "3. work on yardage game then by team and year"
   ]
  },
  {
   "cell_type": "code",
   "execution_count": null,
   "id": "piano-court",
   "metadata": {},
   "outputs": [],
   "source": []
  }
 ],
 "metadata": {
  "kernelspec": {
   "display_name": "Python 3",
   "language": "python",
   "name": "python3"
  },
  "language_info": {
   "codemirror_mode": {
    "name": "ipython",
    "version": 3
   },
   "file_extension": ".py",
   "mimetype": "text/x-python",
   "name": "python",
   "nbconvert_exporter": "python",
   "pygments_lexer": "ipython3",
   "version": "3.9.1"
  }
 },
 "nbformat": 4,
 "nbformat_minor": 5
}
