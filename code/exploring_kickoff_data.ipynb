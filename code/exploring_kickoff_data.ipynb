{
 "cells": [
  {
   "cell_type": "markdown",
   "id": "first-swiss",
   "metadata": {},
   "source": [
    "### Exploring Kickoff Data\n",
    "Sean Steinle\n",
    "\n",
    "1. [Introduction](#1)\n",
    "2. [Exploratory Data Analysis](#2)\n",
    "    - [Statistics](#2a)\n",
    "    - [Issues](#2b)\n",
    "    - [Grouping Metrics](#2c)\n",
    "\n",
    "<a id='1'>"
   ]
  },
  {
   "cell_type": "markdown",
   "id": "macro-reservoir",
   "metadata": {},
   "source": [
    "### Introduction\n",
    "\n",
    "**A Foreword: generate_DF.py**\n",
    "\n",
    "First, I should mention how we got to the data we have here. Most of the data scraping that creates the kickoff dataframe can be seen in *pbp_boxscores.ipynb*. This *generate_DF.py* file is a Python script that runs the *make_DF* function over a directory of ten csv files that contain boxscores of NFL games for each year of the 2010's. As such, the code that is unique to that script is generally working in reading in the different files, with a few notable exceptions. First, when reading in a csv, I added a column to the dataframe that kept track of which season the kickoff occurred during. This information is easily obtained by searching the filename string for four consecutive numbers. There are a number of other small changes I made, feel free to check them out yourself!\n",
    "\n",
    "After running the generate_DF.py script, we now have a CSV file of around 28,000 kickoffs. This should be enough to make some basic observations about kickoffs over the past 10 years. In the next section, we'll use measures of central tendancy, graphs, and other measurements in order to come to some conclusions about kickoffs over the past decade.\n",
    "<a id='2'>"
   ]
  },
  {
   "cell_type": "markdown",
   "id": "geographic-president",
   "metadata": {},
   "source": [
    "### Exploratory Data Analysis\n",
    "\n",
    "***Statistics***"
   ]
  },
  {
   "cell_type": "code",
   "execution_count": 1,
   "id": "agreed-asset",
   "metadata": {},
   "outputs": [],
   "source": [
    "from IPython.core.interactiveshell import InteractiveShell\n",
    "InteractiveShell.ast_node_interactivity = \"all\"\n",
    "import csv\n",
    "import pandas as pd\n",
    "import numpy as np\n",
    "import matplotlib.pyplot as plt\n",
    "import seaborn as sns\n",
    "import re\n",
    "import nltk"
   ]
  },
  {
   "cell_type": "code",
   "execution_count": 2,
   "id": "twelve-digit",
   "metadata": {},
   "outputs": [],
   "source": [
    "df = pd.read_csv(\"kickoff_dataset.csv\")"
   ]
  },
  {
   "cell_type": "code",
   "execution_count": 3,
   "id": "sharing-muscle",
   "metadata": {},
   "outputs": [
    {
     "data": {
      "text/plain": [
       "Index(['Unnamed: 0', 'kicking_team', 'receiving_team', 'year', 'text',\n",
       "       'kicker', 'isTouchback', 'isOutOfBounds', 'isOnside', 'isFairCatch',\n",
       "       'kickYards', 'kickStart', 'kickLand', 'returner', 'tacklers',\n",
       "       'returnYards', 'returnSpot', 'isReturned', 'isAdvanced', 'isTouchdown',\n",
       "       'isMuff', 'retainsMuff', 'isPenalty', 'penalizedPlayer', 'penaltyYards',\n",
       "       'penaltyType', 'penaltySpot', 'isFumble', 'retainsFumble', 'finalSpot'],\n",
       "      dtype='object')"
      ]
     },
     "execution_count": 3,
     "metadata": {},
     "output_type": "execute_result"
    }
   ],
   "source": [
    "df.columns"
   ]
  },
  {
   "cell_type": "code",
   "execution_count": 4,
   "id": "colored-banks",
   "metadata": {
    "scrolled": true
   },
   "outputs": [
    {
     "name": "stdout",
     "output_type": "stream",
     "text": [
      "We've tracked 29 statistics over 28315 kickoffs. Here's a glimpse of the dataset:\n"
     ]
    },
    {
     "data": {
      "text/html": [
       "<div>\n",
       "<style scoped>\n",
       "    .dataframe tbody tr th:only-of-type {\n",
       "        vertical-align: middle;\n",
       "    }\n",
       "\n",
       "    .dataframe tbody tr th {\n",
       "        vertical-align: top;\n",
       "    }\n",
       "\n",
       "    .dataframe thead th {\n",
       "        text-align: right;\n",
       "    }\n",
       "</style>\n",
       "<table border=\"1\" class=\"dataframe\">\n",
       "  <thead>\n",
       "    <tr style=\"text-align: right;\">\n",
       "      <th></th>\n",
       "      <th>Unnamed: 0</th>\n",
       "      <th>kicking_team</th>\n",
       "      <th>receiving_team</th>\n",
       "      <th>year</th>\n",
       "      <th>text</th>\n",
       "      <th>kicker</th>\n",
       "      <th>isTouchback</th>\n",
       "      <th>isOutOfBounds</th>\n",
       "      <th>isOnside</th>\n",
       "      <th>isFairCatch</th>\n",
       "      <th>...</th>\n",
       "      <th>isMuff</th>\n",
       "      <th>retainsMuff</th>\n",
       "      <th>isPenalty</th>\n",
       "      <th>penalizedPlayer</th>\n",
       "      <th>penaltyYards</th>\n",
       "      <th>penaltyType</th>\n",
       "      <th>penaltySpot</th>\n",
       "      <th>isFumble</th>\n",
       "      <th>retainsFumble</th>\n",
       "      <th>finalSpot</th>\n",
       "    </tr>\n",
       "  </thead>\n",
       "  <tbody>\n",
       "    <tr>\n",
       "      <th>0</th>\n",
       "      <td>5</td>\n",
       "      <td>PIT</td>\n",
       "      <td>TEN</td>\n",
       "      <td>2009</td>\n",
       "      <td>J.Reed kicks 61 yards from PIT 30 to TEN 9. J....</td>\n",
       "      <td>J.Reed</td>\n",
       "      <td>False</td>\n",
       "      <td>False</td>\n",
       "      <td>False</td>\n",
       "      <td>False</td>\n",
       "      <td>...</td>\n",
       "      <td>False</td>\n",
       "      <td>True</td>\n",
       "      <td>True</td>\n",
       "      <td>G.McRath</td>\n",
       "      <td>10</td>\n",
       "      <td>Offensive Holding</td>\n",
       "      <td>72</td>\n",
       "      <td>False</td>\n",
       "      <td>True</td>\n",
       "      <td>82</td>\n",
       "    </tr>\n",
       "    <tr>\n",
       "      <th>1</th>\n",
       "      <td>15</td>\n",
       "      <td>MIN</td>\n",
       "      <td>CLE</td>\n",
       "      <td>2009</td>\n",
       "      <td>R.Longwell kicks 66 yards from MIN 30 to CLE 4...</td>\n",
       "      <td>R.Longwell</td>\n",
       "      <td>False</td>\n",
       "      <td>False</td>\n",
       "      <td>False</td>\n",
       "      <td>False</td>\n",
       "      <td>...</td>\n",
       "      <td>False</td>\n",
       "      <td>True</td>\n",
       "      <td>True</td>\n",
       "      <td>K.Maiava</td>\n",
       "      <td>10</td>\n",
       "      <td>Offensive Holding</td>\n",
       "      <td>71</td>\n",
       "      <td>False</td>\n",
       "      <td>True</td>\n",
       "      <td>81</td>\n",
       "    </tr>\n",
       "    <tr>\n",
       "      <th>2</th>\n",
       "      <td>45</td>\n",
       "      <td>NYJ</td>\n",
       "      <td>HOU</td>\n",
       "      <td>2009</td>\n",
       "      <td>J.Feely kicks 72 yards from NYJ 30 to HOU -2. ...</td>\n",
       "      <td>J.Feely</td>\n",
       "      <td>False</td>\n",
       "      <td>False</td>\n",
       "      <td>False</td>\n",
       "      <td>False</td>\n",
       "      <td>...</td>\n",
       "      <td>False</td>\n",
       "      <td>True</td>\n",
       "      <td>True</td>\n",
       "      <td>C.Thompson</td>\n",
       "      <td>10</td>\n",
       "      <td>Offensive Holding</td>\n",
       "      <td>70</td>\n",
       "      <td>False</td>\n",
       "      <td>True</td>\n",
       "      <td>80</td>\n",
       "    </tr>\n",
       "    <tr>\n",
       "      <th>3</th>\n",
       "      <td>47</td>\n",
       "      <td>NYJ</td>\n",
       "      <td>HOU</td>\n",
       "      <td>2009</td>\n",
       "      <td>J.Feely kicks 71 yards from NYJ 30 to HOU -1. ...</td>\n",
       "      <td>J.Feely</td>\n",
       "      <td>False</td>\n",
       "      <td>False</td>\n",
       "      <td>False</td>\n",
       "      <td>False</td>\n",
       "      <td>...</td>\n",
       "      <td>False</td>\n",
       "      <td>True</td>\n",
       "      <td>True</td>\n",
       "      <td>C.Thompson</td>\n",
       "      <td>10</td>\n",
       "      <td>Unnecessary Roughness</td>\n",
       "      <td>80</td>\n",
       "      <td>False</td>\n",
       "      <td>True</td>\n",
       "      <td>90</td>\n",
       "    </tr>\n",
       "    <tr>\n",
       "      <th>4</th>\n",
       "      <td>48</td>\n",
       "      <td>HOU</td>\n",
       "      <td>NYJ</td>\n",
       "      <td>2009</td>\n",
       "      <td>K.Brown kicks 67 yards from HOU 30 to NYJ 3. L...</td>\n",
       "      <td>K.Brown</td>\n",
       "      <td>False</td>\n",
       "      <td>False</td>\n",
       "      <td>False</td>\n",
       "      <td>False</td>\n",
       "      <td>...</td>\n",
       "      <td>False</td>\n",
       "      <td>True</td>\n",
       "      <td>True</td>\n",
       "      <td>J.Westerman</td>\n",
       "      <td>10</td>\n",
       "      <td>Offensive Holding</td>\n",
       "      <td>77</td>\n",
       "      <td>False</td>\n",
       "      <td>True</td>\n",
       "      <td>87</td>\n",
       "    </tr>\n",
       "  </tbody>\n",
       "</table>\n",
       "<p>5 rows × 30 columns</p>\n",
       "</div>"
      ],
      "text/plain": [
       "   Unnamed: 0 kicking_team receiving_team  year  \\\n",
       "0           5          PIT            TEN  2009   \n",
       "1          15          MIN            CLE  2009   \n",
       "2          45          NYJ            HOU  2009   \n",
       "3          47          NYJ            HOU  2009   \n",
       "4          48          HOU            NYJ  2009   \n",
       "\n",
       "                                                text      kicker  isTouchback  \\\n",
       "0  J.Reed kicks 61 yards from PIT 30 to TEN 9. J....      J.Reed        False   \n",
       "1  R.Longwell kicks 66 yards from MIN 30 to CLE 4...  R.Longwell        False   \n",
       "2  J.Feely kicks 72 yards from NYJ 30 to HOU -2. ...     J.Feely        False   \n",
       "3  J.Feely kicks 71 yards from NYJ 30 to HOU -1. ...     J.Feely        False   \n",
       "4  K.Brown kicks 67 yards from HOU 30 to NYJ 3. L...     K.Brown        False   \n",
       "\n",
       "   isOutOfBounds  isOnside  isFairCatch  ...  isMuff  retainsMuff  isPenalty  \\\n",
       "0          False     False        False  ...   False         True       True   \n",
       "1          False     False        False  ...   False         True       True   \n",
       "2          False     False        False  ...   False         True       True   \n",
       "3          False     False        False  ...   False         True       True   \n",
       "4          False     False        False  ...   False         True       True   \n",
       "\n",
       "  penalizedPlayer penaltyYards            penaltyType  penaltySpot  isFumble  \\\n",
       "0        G.McRath           10      Offensive Holding           72     False   \n",
       "1        K.Maiava           10      Offensive Holding           71     False   \n",
       "2      C.Thompson           10      Offensive Holding           70     False   \n",
       "3      C.Thompson           10  Unnecessary Roughness           80     False   \n",
       "4     J.Westerman           10      Offensive Holding           77     False   \n",
       "\n",
       "   retainsFumble  finalSpot  \n",
       "0           True         82  \n",
       "1           True         81  \n",
       "2           True         80  \n",
       "3           True         90  \n",
       "4           True         87  \n",
       "\n",
       "[5 rows x 30 columns]"
      ]
     },
     "execution_count": 4,
     "metadata": {},
     "output_type": "execute_result"
    }
   ],
   "source": [
    "print(f\"We've tracked {len(df.columns)-1} statistics over {len(df)} kickoffs. Here's a glimpse of the dataset:\")\n",
    "df.head()"
   ]
  },
  {
   "cell_type": "code",
   "execution_count": 5,
   "id": "outer-steering",
   "metadata": {},
   "outputs": [
    {
     "data": {
      "text/plain": [
       "Index(['Unnamed: 0', 'kicking_team', 'receiving_team', 'year', 'text',\n",
       "       'kicker', 'isTouchback', 'isOutOfBounds', 'isOnside', 'isFairCatch',\n",
       "       'kickYards', 'kickStart', 'kickLand', 'returner', 'tacklers',\n",
       "       'returnYards', 'returnSpot', 'isReturned', 'isAdvanced', 'isTouchdown',\n",
       "       'isMuff', 'retainsMuff', 'isPenalty', 'penalizedPlayer', 'penaltyYards',\n",
       "       'penaltyType', 'penaltySpot', 'isFumble', 'retainsFumble', 'finalSpot'],\n",
       "      dtype='object')"
      ]
     },
     "execution_count": 5,
     "metadata": {},
     "output_type": "execute_result"
    }
   ],
   "source": [
    "df.columns"
   ]
  },
  {
   "cell_type": "code",
   "execution_count": 6,
   "id": "nasty-wagner",
   "metadata": {
    "scrolled": true
   },
   "outputs": [
    {
     "data": {
      "text/plain": [
       "35"
      ]
     },
     "execution_count": 6,
     "metadata": {},
     "output_type": "execute_result"
    },
    {
     "data": {
      "text/plain": [
       "35"
      ]
     },
     "execution_count": 6,
     "metadata": {},
     "output_type": "execute_result"
    },
    {
     "data": {
      "text/plain": [
       "True"
      ]
     },
     "execution_count": 6,
     "metadata": {},
     "output_type": "execute_result"
    },
    {
     "data": {
      "text/plain": [
       "{'ARI',\n",
       " 'ATL',\n",
       " 'BAL',\n",
       " 'BUF',\n",
       " 'CAR',\n",
       " 'CHI',\n",
       " 'CIN',\n",
       " 'CLE',\n",
       " 'DAL',\n",
       " 'DEN',\n",
       " 'DET',\n",
       " 'GB',\n",
       " 'HOU',\n",
       " 'IND',\n",
       " 'JAC',\n",
       " 'JAX',\n",
       " 'KC',\n",
       " 'LA',\n",
       " 'LAC',\n",
       " 'MIA',\n",
       " 'MIN',\n",
       " 'NE',\n",
       " 'NO',\n",
       " 'NYG',\n",
       " 'NYJ',\n",
       " 'OAK',\n",
       " 'PHI',\n",
       " 'PIT',\n",
       " 'SD',\n",
       " 'SEA',\n",
       " 'SF',\n",
       " 'STL',\n",
       " 'TB',\n",
       " 'TEN',\n",
       " 'WAS'}"
      ]
     },
     "execution_count": 6,
     "metadata": {},
     "output_type": "execute_result"
    },
    {
     "data": {
      "text/plain": [
       "([0,\n",
       "  1,\n",
       "  2,\n",
       "  3,\n",
       "  4,\n",
       "  5,\n",
       "  6,\n",
       "  7,\n",
       "  8,\n",
       "  9,\n",
       "  10,\n",
       "  11,\n",
       "  12,\n",
       "  13,\n",
       "  14,\n",
       "  15,\n",
       "  16,\n",
       "  17,\n",
       "  18,\n",
       "  19,\n",
       "  20,\n",
       "  21,\n",
       "  22,\n",
       "  23,\n",
       "  24,\n",
       "  25,\n",
       "  26,\n",
       "  27,\n",
       "  28,\n",
       "  29,\n",
       "  30,\n",
       "  31,\n",
       "  32,\n",
       "  33,\n",
       "  34],\n",
       " [Text(0, 0, ''),\n",
       "  Text(0, 0, ''),\n",
       "  Text(0, 0, ''),\n",
       "  Text(0, 0, ''),\n",
       "  Text(0, 0, ''),\n",
       "  Text(0, 0, ''),\n",
       "  Text(0, 0, ''),\n",
       "  Text(0, 0, ''),\n",
       "  Text(0, 0, ''),\n",
       "  Text(0, 0, ''),\n",
       "  Text(0, 0, ''),\n",
       "  Text(0, 0, ''),\n",
       "  Text(0, 0, ''),\n",
       "  Text(0, 0, ''),\n",
       "  Text(0, 0, ''),\n",
       "  Text(0, 0, ''),\n",
       "  Text(0, 0, ''),\n",
       "  Text(0, 0, ''),\n",
       "  Text(0, 0, ''),\n",
       "  Text(0, 0, ''),\n",
       "  Text(0, 0, ''),\n",
       "  Text(0, 0, ''),\n",
       "  Text(0, 0, ''),\n",
       "  Text(0, 0, ''),\n",
       "  Text(0, 0, ''),\n",
       "  Text(0, 0, ''),\n",
       "  Text(0, 0, ''),\n",
       "  Text(0, 0, ''),\n",
       "  Text(0, 0, ''),\n",
       "  Text(0, 0, ''),\n",
       "  Text(0, 0, ''),\n",
       "  Text(0, 0, ''),\n",
       "  Text(0, 0, ''),\n",
       "  Text(0, 0, ''),\n",
       "  Text(0, 0, '')])"
      ]
     },
     "execution_count": 6,
     "metadata": {},
     "output_type": "execute_result"
    },
    {
     "data": {
      "image/png": "[encoded data removed]",
      "text/plain": [
       "<Figure size 432x288 with 1 Axes>"
      ]
     },
     "metadata": {
      "needs_background": "light"
     },
     "output_type": "display_data"
    }
   ],
   "source": [
    "#Kicking and Receiving Teams\n",
    "len(set(df[\"kicking_team\"]))\n",
    "len(set(df[\"receiving_team\"]))\n",
    "set(df[\"kicking_team\"]) == set(df[\"receiving_team\"])\n",
    "set(df[\"receiving_team\"])\n",
    "plot = sns.histplot(data=df, x=\"receiving_team\")\n",
    "plt.xticks(rotation=45)\n",
    "#So, we have 35 teams. We know there are only 32. What's the anomaly? This data is over ten years, so we have leftover\n",
    "#abbreviations like STL, LA, JAC, SD, OAK, etc. You can see this borne out in that the smallest bars are new name changes."
   ]
  },
  {
   "cell_type": "code",
   "execution_count": 7,
   "id": "applied-tattoo",
   "metadata": {},
   "outputs": [
    {
     "data": {
      "text/plain": [
       "262"
      ]
     },
     "execution_count": 7,
     "metadata": {},
     "output_type": "execute_result"
    },
    {
     "data": {
      "text/plain": [
       "S.Gostkowski                                                                        939\n",
       "M.Crosby                                                                            906\n",
       "S.Hauschka                                                                          779\n",
       "R.Succop                                                                            726\n",
       "D.Bailey                                                                            716\n",
       "                                                                                   ... \n",
       "T.Carter                                                                              1\n",
       "(Onside Kick formation) D.Hopkins                                                     1\n",
       "(Onside Kick formation) K.Forbath                                                     1\n",
       "J.Scott                                                                               1\n",
       "Kickoff moved to 50 because of the personal foul on the interception. T.Morstead      1\n",
       "Name: kicker, Length: 242, dtype: int64"
      ]
     },
     "execution_count": 7,
     "metadata": {},
     "output_type": "execute_result"
    }
   ],
   "source": [
    "#Kickers\n",
    "len(set(df[\"kicker\"]))\n",
    "df[\"kicker\"].value_counts()[:-20]\n",
    "\n",
    "#What we learned from this is that our scraping of kickers is not very good! We need to go back and fix."
   ]
  },
  {
   "cell_type": "code",
   "execution_count": 8,
   "id": "informal-terminal",
   "metadata": {},
   "outputs": [
    {
     "data": {
      "text/plain": [
       "1120"
      ]
     },
     "execution_count": 8,
     "metadata": {},
     "output_type": "execute_result"
    },
    {
     "data": {
      "text/plain": [
       "no returner     13687\n",
       "B.Tate            247\n",
       "D.Harris          225\n",
       "J.Cribbs          218\n",
       "T.Ginn            213\n",
       "                ...  \n",
       "M.Crabtree          1\n",
       "Be.Scott            1\n",
       "D.Aromashodu        1\n",
       "D.Goedert           1\n",
       "B.Bolen             1\n",
       "Name: returner, Length: 1100, dtype: int64"
      ]
     },
     "execution_count": 8,
     "metadata": {},
     "output_type": "execute_result"
    }
   ],
   "source": [
    "#Returners\n",
    "len(set(df[\"returner\"]))\n",
    "df[\"returner\"].value_counts()[:-20]\n",
    "\n",
    "#I'm no expert, but 1120 sounds abouuuut right? 1120 returns/32 teams/10 years of returns = 3-4 returners per team per year."
   ]
  },
  {
   "cell_type": "code",
   "execution_count": 9,
   "id": "sharp-drawing",
   "metadata": {
    "scrolled": true
   },
   "outputs": [
    {
     "data": {
      "text/plain": [
       "31"
      ]
     },
     "execution_count": 9,
     "metadata": {},
     "output_type": "execute_result"
    },
    {
     "data": {
      "text/plain": [
       "no penalty                               27170\n",
       "Offensive Holding                          616\n",
       "Illegal Block Above the Waist              206\n",
       "Unnecessary Roughness                       88\n",
       "Offside on Free Kick                        47\n",
       "Face Mask                                   45\n",
       "Personal Foul                               17\n",
       "Low Block                                   16\n",
       "Illegal Touch Kick                          16\n",
       "Illegal Double-Team Block                   16\n",
       "Illegal Use of Hands                        10\n",
       "Illegal Formation                            9\n",
       "Unsportsmanlike Conduct                      8\n",
       "Horse Collar Tackle                          7\n",
       "Illegal Blindside Block                      6\n",
       "Offensive Offside                            5\n",
       "Illegal Forward Pass                         5\n",
       "Horse Collar                                 4\n",
       "Illegal Wedge                                4\n",
       "Defensive Holding                            3\n",
       "Disqualification                             3\n",
       "Taunting                                     2\n",
       "Lowering the Head to Initiate Contact        2\n",
       "Tripping                                     2\n",
       "Delay of Game                                2\n",
       "Fair Catch Interference                      1\n",
       "Clipping                                     1\n",
       "Invalid Fair Catch Signal                    1\n",
       "Chop Block                                   1\n",
       "Kickoff Out of Bounds                        1\n",
       "Illegal Substitution                         1\n",
       "Name: penaltyType, dtype: int64"
      ]
     },
     "execution_count": 9,
     "metadata": {},
     "output_type": "execute_result"
    }
   ],
   "source": [
    "#penaltyType\n",
    "len(set(df[\"penaltyType\"]))\n",
    "df[\"penaltyType\"].value_counts()\n",
    "\n",
    "#looks good"
   ]
  },
  {
   "cell_type": "code",
   "execution_count": 10,
   "id": "common-heather",
   "metadata": {},
   "outputs": [
    {
     "data": {
      "text/plain": [
       "<AxesSubplot:xlabel='year', ylabel='count'>"
      ]
     },
     "execution_count": 10,
     "metadata": {},
     "output_type": "execute_result"
    },
    {
     "data": {
      "image/png": "[encoded data removed]",
      "text/plain": [
       "<Figure size 432x288 with 1 Axes>"
      ]
     },
     "metadata": {
      "needs_background": "light"
     },
     "output_type": "display_data"
    }
   ],
   "source": [
    "#Years\n",
    "sns.countplot(data=df, x=\"year\")\n",
    "\n",
    "#This looks good! You wouldn't expect any one year to have more than another."
   ]
  },
  {
   "cell_type": "code",
   "execution_count": 11,
   "id": "patient-mineral",
   "metadata": {},
   "outputs": [
    {
     "name": "stdout",
     "output_type": "stream",
     "text": [
      "46.40649832244394% of kicks were touchbacks.\n",
      "1.161928306551298% of kicks were out of bounds.\n",
      "0.1553946671375596% of kicks were fair catches.\n",
      "51.66166342927777% of kicks were returned.\n",
      "0.42733533462828893% of kicks were returned for a touchdown.\n",
      "0.8935193360409677% of kicks were muffed.\n",
      "90.11857707509881% of muffs were retained.\n",
      "4.043793042556949% of kickoffs had an accepted penalty.\n",
      "1.0665724880805227% of kicks were fumbled.\n",
      "46.35761589403973% of fumbles were retained.\n"
     ]
    }
   ],
   "source": [
    "#isTouchback, isOutOfBounds, isOnside, isFairCatch, isReturned, isTouchdown, isMuff, retainsMuff, isPenalty, isFumble, retainsFumble\n",
    "touchback = len(df[df[\"isTouchback\"]])/len(df)\n",
    "print(f\"{touchback*100}% of kicks were touchbacks.\")\n",
    "\n",
    "oob = len(df[df[\"isOutOfBounds\"]])/len(df)\n",
    "print(f\"{oob*100}% of kicks were out of bounds.\")\n",
    "\n",
    "fc = len(df[df[\"isFairCatch\"]])/len(df)\n",
    "print(f\"{fc*100}% of kicks were fair catches.\")\n",
    "\n",
    "returned = len(df[df[\"isReturned\"]])/len(df)\n",
    "print(f\"{returned*100}% of kicks were returned.\")\n",
    "\n",
    "td = len(df[df[\"isTouchdown\"]])/len(df)\n",
    "print(f\"{td*100}% of kicks were returned for a touchdown.\")\n",
    "\n",
    "muff = len(df[df[\"isMuff\"]])/len(df)\n",
    "print(f\"{muff*100}% of kicks were muffed.\")\n",
    "\n",
    "cut = df[df[\"isMuff\"]]\n",
    "rm = len(cut[cut[\"retainsMuff\"]])/len(cut)\n",
    "print(f\"{rm*100}% of muffs were retained.\")\n",
    "\n",
    "penalty = len(df[df[\"isPenalty\"]])/len(df)\n",
    "print(f\"{penalty*100}% of kickoffs had an accepted penalty.\")\n",
    "\n",
    "fumble = len(df[df[\"isFumble\"]])/len(df)\n",
    "print(f\"{fumble*100}% of kicks were fumbled.\")\n",
    "\n",
    "cut = df[df[\"isFumble\"]]\n",
    "rf = len(cut[cut[\"retainsFumble\"]])/len(cut)\n",
    "print(f\"{rf*100}% of fumbles were retained.\")\n",
    "\n",
    "#These numbers look to be about right. One immediate comparison we can do is fumbles lost and muffs kicks vs. touchdowns."
   ]
  },
  {
   "cell_type": "code",
   "execution_count": 26,
   "id": "contrary-advice",
   "metadata": {
    "scrolled": false
   },
   "outputs": [
    {
     "data": {
      "text/plain": [
       "63.75034434045559"
      ]
     },
     "execution_count": 26,
     "metadata": {},
     "output_type": "execute_result"
    },
    {
     "data": {
      "text/plain": [
       "9.68153720255043"
      ]
     },
     "execution_count": 26,
     "metadata": {},
     "output_type": "execute_result"
    },
    {
     "data": {
      "text/plain": [
       "<seaborn.axisgrid.FacetGrid at 0x16b402dc250>"
      ]
     },
     "execution_count": 26,
     "metadata": {},
     "output_type": "execute_result"
    },
    {
     "data": {
      "image/png": "[encoded data removed]",
      "text/plain": [
       "<Figure size 360x360 with 1 Axes>"
      ]
     },
     "metadata": {
      "needs_background": "light"
     },
     "output_type": "display_data"
    },
    {
     "data": {
      "text/plain": [
       "34.05915592442169"
      ]
     },
     "execution_count": 26,
     "metadata": {},
     "output_type": "execute_result"
    },
    {
     "data": {
      "text/plain": [
       "2.9306295527360198"
      ]
     },
     "execution_count": 26,
     "metadata": {},
     "output_type": "execute_result"
    },
    {
     "data": {
      "text/plain": [
       "<seaborn.axisgrid.FacetGrid at 0x16b424dd1f0>"
      ]
     },
     "execution_count": 26,
     "metadata": {},
     "output_type": "execute_result"
    },
    {
     "data": {
      "image/png": "[encoded data removed]",
      "text/plain": [
       "<Figure size 360x360 with 1 Axes>"
      ]
     },
     "metadata": {
      "needs_background": "light"
     },
     "output_type": "display_data"
    },
    {
     "data": {
      "text/plain": [
       "97.80950026487727"
      ]
     },
     "execution_count": 26,
     "metadata": {},
     "output_type": "execute_result"
    },
    {
     "data": {
      "text/plain": [
       "9.82359045084258"
      ]
     },
     "execution_count": 26,
     "metadata": {},
     "output_type": "execute_result"
    },
    {
     "data": {
      "text/plain": [
       "<seaborn.axisgrid.FacetGrid at 0x16b40b04fd0>"
      ]
     },
     "execution_count": 26,
     "metadata": {},
     "output_type": "execute_result"
    },
    {
     "data": {
      "image/png": "[encoded data removed]",
      "text/plain": [
       "<Figure size 360x360 with 1 Axes>"
      ]
     },
     "metadata": {
      "needs_background": "light"
     },
     "output_type": "display_data"
    },
    {
     "data": {
      "text/plain": [
       "11.841568073459298"
      ]
     },
     "execution_count": 26,
     "metadata": {},
     "output_type": "execute_result"
    },
    {
     "data": {
      "text/plain": [
       "14.763595062253453"
      ]
     },
     "execution_count": 26,
     "metadata": {},
     "output_type": "execute_result"
    },
    {
     "data": {
      "text/plain": [
       "<seaborn.axisgrid.FacetGrid at 0x16b42395310>"
      ]
     },
     "execution_count": 26,
     "metadata": {},
     "output_type": "execute_result"
    },
    {
     "data": {
      "image/png": "[encoded data removed]",
      "text/plain": [
       "<Figure size 360x360 with 1 Axes>"
      ]
     },
     "metadata": {
      "needs_background": "light"
     },
     "output_type": "display_data"
    },
    {
     "data": {
      "text/plain": [
       "85.96793219141797"
      ]
     },
     "execution_count": 26,
     "metadata": {},
     "output_type": "execute_result"
    },
    {
     "data": {
      "text/plain": [
       "16.90106128595339"
      ]
     },
     "execution_count": 26,
     "metadata": {},
     "output_type": "execute_result"
    },
    {
     "data": {
      "text/plain": [
       "<seaborn.axisgrid.FacetGrid at 0x16b3fbe6a90>"
      ]
     },
     "execution_count": 26,
     "metadata": {},
     "output_type": "execute_result"
    },
    {
     "data": {
      "image/png": "[encoded data removed]",
      "text/plain": [
       "<Figure size 360x360 with 1 Axes>"
      ]
     },
     "metadata": {
      "needs_background": "light"
     },
     "output_type": "display_data"
    },
    {
     "data": {
      "text/plain": [
       "86.43475189828713"
      ]
     },
     "execution_count": 26,
     "metadata": {},
     "output_type": "execute_result"
    },
    {
     "data": {
      "text/plain": [
       "16.551949164963315"
      ]
     },
     "execution_count": 26,
     "metadata": {},
     "output_type": "execute_result"
    },
    {
     "data": {
      "text/plain": [
       "<seaborn.axisgrid.FacetGrid at 0x16b4098f760>"
      ]
     },
     "execution_count": 26,
     "metadata": {},
     "output_type": "execute_result"
    },
    {
     "data": {
      "image/png": "[encoded data removed]",
      "text/plain": [
       "<Figure size 360x360 with 1 Axes>"
      ]
     },
     "metadata": {
      "needs_background": "light"
     },
     "output_type": "display_data"
    }
   ],
   "source": [
    "#kickYards, kickStart, kickLand, returnSpot, returnLand, finalSpot\n",
    "np.mean(df[\"kickYards\"])\n",
    "np.std(df[\"kickYards\"])\n",
    "sns.displot(data=df, x=\"kickYards\", kind=\"hist\")\n",
    "plt.show()\n",
    "#almost every kick is between 60-70 yards\n",
    "\n",
    "np.mean(df[\"kickStart\"])\n",
    "np.std(df[\"kickStart\"])\n",
    "sns.displot(data=df, x=\"kickStart\", kind=\"hist\")\n",
    "plt.show()\n",
    "#almost all kicks start at either 35 or 30. to be expected here. if you notice, seaborn actually used less bins b/c so many 0 values\n",
    "#kicks used to start at the 30 before 2011.\n",
    "\n",
    "np.mean(df[\"kickLand\"])\n",
    "np.std(df[\"kickLand\"])\n",
    "sns.displot(data=df, x=\"kickLand\", kind=\"hist\")\n",
    "plt.show()\n",
    "#this mirrors kickYards very well\n",
    "\n",
    "np.mean(df[\"returnYards\"])\n",
    "np.std(df[\"returnYards\"])\n",
    "sns.displot(data=df, x=\"returnYards\", kind=\"hist\")\n",
    "plt.show()\n",
    "#mirrors return spot, good.\n",
    "\n",
    "np.mean(df[\"returnSpot\"])\n",
    "np.std(df[\"returnSpot\"])\n",
    "sns.displot(data=df, x=\"returnSpot\", kind=\"hist\")\n",
    "plt.show()\n",
    "#looks good, you would expect this distribution with the exception of the huge number of 100's, which are all touchbacks.\n",
    "#filter these out when you look at the yardage game\n",
    "\n",
    "np.mean(df[\"finalSpot\"])\n",
    "np.std(df[\"finalSpot\"])\n",
    "sns.displot(data=df, x=\"finalSpot\", kind=\"hist\")\n",
    "plt.show()\n"
   ]
  },
  {
   "cell_type": "code",
   "execution_count": 32,
   "id": "blessed-montreal",
   "metadata": {},
   "outputs": [
    {
     "data": {
      "text/plain": [
       "0.03966095708988169"
      ]
     },
     "execution_count": 32,
     "metadata": {},
     "output_type": "execute_result"
    },
    {
     "data": {
      "text/plain": [
       "0.03545823768320678"
      ]
     },
     "execution_count": 32,
     "metadata": {},
     "output_type": "execute_result"
    },
    {
     "data": {
      "text/plain": [
       "0.4280769909941727"
      ]
     },
     "execution_count": 32,
     "metadata": {},
     "output_type": "execute_result"
    },
    {
     "data": {
      "text/plain": [
       "0.03252692918947554"
      ]
     },
     "execution_count": 32,
     "metadata": {},
     "output_type": "execute_result"
    },
    {
     "data": {
      "text/plain": [
       "0.027865089175348755"
      ]
     },
     "execution_count": 32,
     "metadata": {},
     "output_type": "execute_result"
    }
   ],
   "source": [
    "len(df[df[\"kickYards\"]==67])/len(df)\n",
    "len(df[df[\"kickYards\"]==66])/len(df)\n",
    "len(df[df[\"kickYards\"]==65])/len(df)\n",
    "len(df[df[\"kickYards\"]==64])/len(df)\n",
    "len(df[df[\"kickYards\"]==63])/len(df)\n",
    "\n",
    "#There's something to suggest that the recording of boxscores is actually incorrect here. Why should kicks land on the end zone\n",
    "#yard exactly 10x more likely than a yard before or after? This is something to consider in the yardage game."
   ]
  },
  {
   "cell_type": "markdown",
   "id": "continued-gabriel",
   "metadata": {},
   "source": [
    "<a id=\"2b\">"
   ]
  },
  {
   "cell_type": "markdown",
   "id": "severe-wayne",
   "metadata": {},
   "source": [
    "***Issues***\n",
    "\n",
    "1. The *kickYards* statistic is incorrect for a portion of the dataset. Since there is no line in boxscore descriptions that contains the final spotting of the ball, we have to construct this statistic. This calculation is sometimes very simple--for touchbacks, it's as easy as just saying \"25 yards\". On the other hand, it can get very complicated: consider an example where there is a penalty, fumbled ball, recovered ball, and then another penalty. I'm not sure what I'm going to do with this statistic at this time.\n",
    "    - As of this minute, I think what you do is say all kicks fielded at the 1 yard line and out are only playable, and all kicks fielded at the goal line and back are playable or kneelable.\n",
    "2. The *kickLand* statistic is also out of wack, but for reasons more unclear than *finalSpot*. About 80% of kicks land exactly on the goal line, according to our database. However, we know that this cannot possibly be. In fact, upon watching football and following along with the ESPN app, I saw a >65 yard kick be reported as \"65 yards, Touchback\". When we consider that we see the exact same pattern for all of the touchbacks in our data (which make up about half of the dataframe), we must assume that any touchback is reported as landing on the goal line. Let's test this theory.\n",
    "3. The *kickers* statistic is scraped incorrectly. This is the first data I scraped, and for some reason I thought I could just take anything before the word \"kick\", so I used *box_score.split(\"kick\")* as my rule. This is, and I can't understate this, bad. Will fix soon.\n",
    "\n",
    "All of these are yet to be addressed, but I'm a little sick of data wrangling. Let's do some analysis of game altering plays while I rebuild a tolerance for RE.\n",
    "\n",
    "<a id='2c'>"
   ]
  },
  {
   "cell_type": "markdown",
   "id": "expressed-album",
   "metadata": {},
   "source": [
    "***Grouping Metrics***\n",
    "Here, I'm going to group the more intensive analysis into groups.\n",
    "\n",
    "1. *Game Altering Plays* - These metrics include fumbles, touchdowns, and muffs. In this section, we should compare the rates of very impactful kickoff successes (touchdowns) with very impactful kickoff failures (lost possessions such as lost fumbles and muffs, as well as touchdowns scored by the kicking team off of fumbles). I have a suspicion that these plays will be more failures than successes.\n",
    "2. *The Yardage Game* - This group is the largest and is made up of the meatiest metrics: kickLand, returnYards, finalSpot, and more. For this group, it will be important to answer where the ball was fielded from, and where the ball is spotted after the play. In this section, we should see how often it is that the returner made it back to the 25 yard line, where a touchback would have placed them. It is important to note, however, that kicks fielded right in front of the endzone and forward don't come with the option of a touchback or return.\n",
    "3. *Players, Teams, Years* - This group doesn't explicitly answer whether kicks should be returned or not, but it may be worth exploring. One hugely important detail here is that the NFL changed the touchback rule from possession at the 20 to possession at the 25 in 2016. It may be worth examining how this affected the game."
   ]
  }
 ],
 "metadata": {
  "kernelspec": {
   "display_name": "Python 3",
   "language": "python",
   "name": "python3"
  },
  "language_info": {
   "codemirror_mode": {
    "name": "ipython",
    "version": 3
   },
   "file_extension": ".py",
   "mimetype": "text/x-python",
   "name": "python",
   "nbconvert_exporter": "python",
   "pygments_lexer": "ipython3",
   "version": "3.9.1"
  }
 },
 "nbformat": 4,
 "nbformat_minor": 5
}
