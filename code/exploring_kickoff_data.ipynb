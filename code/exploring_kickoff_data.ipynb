{
 "cells": [
  {
   "cell_type": "markdown",
   "id": "first-swiss",
   "metadata": {},
   "source": [
    "### Exploring Kickoff Data\n",
    "Sean Steinle\n",
    "\n",
    "1. [Introduction](#1)\n",
    "2. [Exploratory Data Analysis](#2)\n",
    "    - [Statistics](#2a)\n",
    "    - [Issues](#2b)\n",
    "\n",
    "<a id='1'>"
   ]
  },
  {
   "cell_type": "markdown",
   "id": "macro-reservoir",
   "metadata": {},
   "source": [
    "### Introduction\n",
    "\n",
    "**A Foreword: generate_DF.py**\n",
    "First, I should mention how we got to the data we have here. Most of the data scraping that creates the kickoff dataframe can be seen in *pbp_boxscores.ipynb*. This *generate_DF.py* file is a Python script that runs the *make_DF* function over a directory of ten csv files that contain boxscores of NFL games for each year of the 2010's. As such, the code that is unique to that script is generally working in reading in the different files, with a few notable exceptions. First, when reading in a csv, I added a column to the dataframe that kept track of which season the kickoff occurred during. This information is easily obtained by searching the filename string for four consecutive numbers. There are a number of other small changes I made, feel free to check them out yourself!\n",
    "\n",
    "After running the generate_DF.py script, we now have a CSV file of around 28,000 kickoffs. This should be enough to make some basic observations about kickoffs over the past 10 years. In the next section, we'll use measures of central tendancy, graphs, and other measurements in order to come to some conclusions about kickoffs over the past decade.\n",
    "<a id='2'>"
   ]
  },
  {
   "cell_type": "markdown",
   "id": "geographic-president",
   "metadata": {},
   "source": [
    "### Exploratory Data Analysis\n",
    "\n",
    "***Statistics***"
   ]
  },
  {
   "cell_type": "code",
   "execution_count": 1,
   "id": "agreed-asset",
   "metadata": {},
   "outputs": [],
   "source": [
    "from IPython.core.interactiveshell import InteractiveShell\n",
    "InteractiveShell.ast_node_interactivity = \"all\"\n",
    "import csv\n",
    "import pandas as pd\n",
    "import numpy as np\n",
    "import matplotlib.pyplot as plt\n",
    "import seaborn as sns\n",
    "import re\n",
    "import nltk"
   ]
  },
  {
   "cell_type": "code",
   "execution_count": 2,
   "id": "twelve-digit",
   "metadata": {},
   "outputs": [],
   "source": [
    "df = pd.read_csv(\"kickoff_dataset.csv\")"
   ]
  },
  {
   "cell_type": "code",
   "execution_count": 3,
   "id": "sharing-muscle",
   "metadata": {},
   "outputs": [
    {
     "data": {
      "text/plain": [
       "Index(['Unnamed: 0', 'kicking_team', 'receiving_team', 'year', 'text',\n",
       "       'kicker', 'isTouchback', 'isOutOfBounds', 'isOnside', 'isFairCatch',\n",
       "       'kickYards', 'kickStart', 'kickLand', 'returner', 'tacklers',\n",
       "       'returnYards', 'returnSpot', 'isReturned', 'isAdvanced', 'isTouchdown',\n",
       "       'isMuff', 'retainsMuff', 'isPenalty', 'penalizedPlayer', 'penaltyYards',\n",
       "       'penaltyType', 'penaltySpot', 'isFumble', 'retainsFumble', 'finalSpot'],\n",
       "      dtype='object')"
      ]
     },
     "execution_count": 3,
     "metadata": {},
     "output_type": "execute_result"
    }
   ],
   "source": [
    "df.columns"
   ]
  },
  {
   "cell_type": "code",
   "execution_count": 4,
   "id": "colored-banks",
   "metadata": {
    "scrolled": true
   },
   "outputs": [
    {
     "name": "stdout",
     "output_type": "stream",
     "text": [
      "We've tracked 29 statistics over 28315 kickoffs. Here's a glimpse of the dataset:\n"
     ]
    },
    {
     "data": {
      "text/html": [
       "<div>\n",
       "<style scoped>\n",
       "    .dataframe tbody tr th:only-of-type {\n",
       "        vertical-align: middle;\n",
       "    }\n",
       "\n",
       "    .dataframe tbody tr th {\n",
       "        vertical-align: top;\n",
       "    }\n",
       "\n",
       "    .dataframe thead th {\n",
       "        text-align: right;\n",
       "    }\n",
       "</style>\n",
       "<table border=\"1\" class=\"dataframe\">\n",
       "  <thead>\n",
       "    <tr style=\"text-align: right;\">\n",
       "      <th></th>\n",
       "      <th>Unnamed: 0</th>\n",
       "      <th>kicking_team</th>\n",
       "      <th>receiving_team</th>\n",
       "      <th>year</th>\n",
       "      <th>text</th>\n",
       "      <th>kicker</th>\n",
       "      <th>isTouchback</th>\n",
       "      <th>isOutOfBounds</th>\n",
       "      <th>isOnside</th>\n",
       "      <th>isFairCatch</th>\n",
       "      <th>...</th>\n",
       "      <th>isMuff</th>\n",
       "      <th>retainsMuff</th>\n",
       "      <th>isPenalty</th>\n",
       "      <th>penalizedPlayer</th>\n",
       "      <th>penaltyYards</th>\n",
       "      <th>penaltyType</th>\n",
       "      <th>penaltySpot</th>\n",
       "      <th>isFumble</th>\n",
       "      <th>retainsFumble</th>\n",
       "      <th>finalSpot</th>\n",
       "    </tr>\n",
       "  </thead>\n",
       "  <tbody>\n",
       "    <tr>\n",
       "      <th>0</th>\n",
       "      <td>5</td>\n",
       "      <td>PIT</td>\n",
       "      <td>TEN</td>\n",
       "      <td>2009</td>\n",
       "      <td>J.Reed kicks 61 yards from PIT 30 to TEN 9. J....</td>\n",
       "      <td>J.Reed</td>\n",
       "      <td>False</td>\n",
       "      <td>False</td>\n",
       "      <td>False</td>\n",
       "      <td>False</td>\n",
       "      <td>...</td>\n",
       "      <td>False</td>\n",
       "      <td>True</td>\n",
       "      <td>True</td>\n",
       "      <td>G.McRath</td>\n",
       "      <td>10</td>\n",
       "      <td>Offensive Holding</td>\n",
       "      <td>72</td>\n",
       "      <td>False</td>\n",
       "      <td>True</td>\n",
       "      <td>82</td>\n",
       "    </tr>\n",
       "    <tr>\n",
       "      <th>1</th>\n",
       "      <td>15</td>\n",
       "      <td>MIN</td>\n",
       "      <td>CLE</td>\n",
       "      <td>2009</td>\n",
       "      <td>R.Longwell kicks 66 yards from MIN 30 to CLE 4...</td>\n",
       "      <td>R.Longwell</td>\n",
       "      <td>False</td>\n",
       "      <td>False</td>\n",
       "      <td>False</td>\n",
       "      <td>False</td>\n",
       "      <td>...</td>\n",
       "      <td>False</td>\n",
       "      <td>True</td>\n",
       "      <td>True</td>\n",
       "      <td>K.Maiava</td>\n",
       "      <td>10</td>\n",
       "      <td>Offensive Holding</td>\n",
       "      <td>71</td>\n",
       "      <td>False</td>\n",
       "      <td>True</td>\n",
       "      <td>81</td>\n",
       "    </tr>\n",
       "    <tr>\n",
       "      <th>2</th>\n",
       "      <td>45</td>\n",
       "      <td>NYJ</td>\n",
       "      <td>HOU</td>\n",
       "      <td>2009</td>\n",
       "      <td>J.Feely kicks 72 yards from NYJ 30 to HOU -2. ...</td>\n",
       "      <td>J.Feely</td>\n",
       "      <td>False</td>\n",
       "      <td>False</td>\n",
       "      <td>False</td>\n",
       "      <td>False</td>\n",
       "      <td>...</td>\n",
       "      <td>False</td>\n",
       "      <td>True</td>\n",
       "      <td>True</td>\n",
       "      <td>C.Thompson</td>\n",
       "      <td>10</td>\n",
       "      <td>Offensive Holding</td>\n",
       "      <td>70</td>\n",
       "      <td>False</td>\n",
       "      <td>True</td>\n",
       "      <td>80</td>\n",
       "    </tr>\n",
       "    <tr>\n",
       "      <th>3</th>\n",
       "      <td>47</td>\n",
       "      <td>NYJ</td>\n",
       "      <td>HOU</td>\n",
       "      <td>2009</td>\n",
       "      <td>J.Feely kicks 71 yards from NYJ 30 to HOU -1. ...</td>\n",
       "      <td>J.Feely</td>\n",
       "      <td>False</td>\n",
       "      <td>False</td>\n",
       "      <td>False</td>\n",
       "      <td>False</td>\n",
       "      <td>...</td>\n",
       "      <td>False</td>\n",
       "      <td>True</td>\n",
       "      <td>True</td>\n",
       "      <td>C.Thompson</td>\n",
       "      <td>10</td>\n",
       "      <td>Unnecessary Roughness</td>\n",
       "      <td>80</td>\n",
       "      <td>False</td>\n",
       "      <td>True</td>\n",
       "      <td>90</td>\n",
       "    </tr>\n",
       "    <tr>\n",
       "      <th>4</th>\n",
       "      <td>48</td>\n",
       "      <td>HOU</td>\n",
       "      <td>NYJ</td>\n",
       "      <td>2009</td>\n",
       "      <td>K.Brown kicks 67 yards from HOU 30 to NYJ 3. L...</td>\n",
       "      <td>K.Brown</td>\n",
       "      <td>False</td>\n",
       "      <td>False</td>\n",
       "      <td>False</td>\n",
       "      <td>False</td>\n",
       "      <td>...</td>\n",
       "      <td>False</td>\n",
       "      <td>True</td>\n",
       "      <td>True</td>\n",
       "      <td>J.Westerman</td>\n",
       "      <td>10</td>\n",
       "      <td>Offensive Holding</td>\n",
       "      <td>77</td>\n",
       "      <td>False</td>\n",
       "      <td>True</td>\n",
       "      <td>87</td>\n",
       "    </tr>\n",
       "  </tbody>\n",
       "</table>\n",
       "<p>5 rows × 30 columns</p>\n",
       "</div>"
      ],
      "text/plain": [
       "   Unnamed: 0 kicking_team receiving_team  year  \\\n",
       "0           5          PIT            TEN  2009   \n",
       "1          15          MIN            CLE  2009   \n",
       "2          45          NYJ            HOU  2009   \n",
       "3          47          NYJ            HOU  2009   \n",
       "4          48          HOU            NYJ  2009   \n",
       "\n",
       "                                                text      kicker  isTouchback  \\\n",
       "0  J.Reed kicks 61 yards from PIT 30 to TEN 9. J....      J.Reed        False   \n",
       "1  R.Longwell kicks 66 yards from MIN 30 to CLE 4...  R.Longwell        False   \n",
       "2  J.Feely kicks 72 yards from NYJ 30 to HOU -2. ...     J.Feely        False   \n",
       "3  J.Feely kicks 71 yards from NYJ 30 to HOU -1. ...     J.Feely        False   \n",
       "4  K.Brown kicks 67 yards from HOU 30 to NYJ 3. L...     K.Brown        False   \n",
       "\n",
       "   isOutOfBounds  isOnside  isFairCatch  ...  isMuff  retainsMuff  isPenalty  \\\n",
       "0          False     False        False  ...   False         True       True   \n",
       "1          False     False        False  ...   False         True       True   \n",
       "2          False     False        False  ...   False         True       True   \n",
       "3          False     False        False  ...   False         True       True   \n",
       "4          False     False        False  ...   False         True       True   \n",
       "\n",
       "  penalizedPlayer penaltyYards            penaltyType  penaltySpot  isFumble  \\\n",
       "0        G.McRath           10      Offensive Holding           72     False   \n",
       "1        K.Maiava           10      Offensive Holding           71     False   \n",
       "2      C.Thompson           10      Offensive Holding           70     False   \n",
       "3      C.Thompson           10  Unnecessary Roughness           80     False   \n",
       "4     J.Westerman           10      Offensive Holding           77     False   \n",
       "\n",
       "   retainsFumble  finalSpot  \n",
       "0           True         82  \n",
       "1           True         81  \n",
       "2           True         80  \n",
       "3           True         90  \n",
       "4           True         87  \n",
       "\n",
       "[5 rows x 30 columns]"
      ]
     },
     "execution_count": 4,
     "metadata": {},
     "output_type": "execute_result"
    }
   ],
   "source": [
    "print(f\"We've tracked {len(df.columns)-1} statistics over {len(df)} kickoffs. Here's a glimpse of the dataset:\")\n",
    "df.head()"
   ]
  },
  {
   "cell_type": "code",
   "execution_count": 10,
   "id": "outer-steering",
   "metadata": {},
   "outputs": [
    {
     "data": {
      "text/plain": [
       "Index(['Unnamed: 0', 'kicking_team', 'receiving_team', 'year', 'text',\n",
       "       'kicker', 'isTouchback', 'isOutOfBounds', 'isOnside', 'isFairCatch',\n",
       "       'kickYards', 'kickStart', 'kickLand', 'returner', 'tacklers',\n",
       "       'returnYards', 'returnSpot', 'isReturned', 'isAdvanced', 'isTouchdown',\n",
       "       'isMuff', 'retainsMuff', 'isPenalty', 'penalizedPlayer', 'penaltyYards',\n",
       "       'penaltyType', 'penaltySpot', 'isFumble', 'retainsFumble', 'finalSpot'],\n",
       "      dtype='object')"
      ]
     },
     "execution_count": 10,
     "metadata": {},
     "output_type": "execute_result"
    }
   ],
   "source": [
    "df.columns"
   ]
  },
  {
   "cell_type": "code",
   "execution_count": 65,
   "id": "nasty-wagner",
   "metadata": {
    "scrolled": true
   },
   "outputs": [
    {
     "data": {
      "text/plain": [
       "35"
      ]
     },
     "execution_count": 65,
     "metadata": {},
     "output_type": "execute_result"
    },
    {
     "data": {
      "text/plain": [
       "35"
      ]
     },
     "execution_count": 65,
     "metadata": {},
     "output_type": "execute_result"
    },
    {
     "data": {
      "text/plain": [
       "True"
      ]
     },
     "execution_count": 65,
     "metadata": {},
     "output_type": "execute_result"
    },
    {
     "data": {
      "text/plain": [
       "{'ARI',\n",
       " 'ATL',\n",
       " 'BAL',\n",
       " 'BUF',\n",
       " 'CAR',\n",
       " 'CHI',\n",
       " 'CIN',\n",
       " 'CLE',\n",
       " 'DAL',\n",
       " 'DEN',\n",
       " 'DET',\n",
       " 'GB',\n",
       " 'HOU',\n",
       " 'IND',\n",
       " 'JAC',\n",
       " 'JAX',\n",
       " 'KC',\n",
       " 'LA',\n",
       " 'LAC',\n",
       " 'MIA',\n",
       " 'MIN',\n",
       " 'NE',\n",
       " 'NO',\n",
       " 'NYG',\n",
       " 'NYJ',\n",
       " 'OAK',\n",
       " 'PHI',\n",
       " 'PIT',\n",
       " 'SD',\n",
       " 'SEA',\n",
       " 'SF',\n",
       " 'STL',\n",
       " 'TB',\n",
       " 'TEN',\n",
       " 'WAS'}"
      ]
     },
     "execution_count": 65,
     "metadata": {},
     "output_type": "execute_result"
    },
    {
     "data": {
      "text/plain": [
       "([0,\n",
       "  1,\n",
       "  2,\n",
       "  3,\n",
       "  4,\n",
       "  5,\n",
       "  6,\n",
       "  7,\n",
       "  8,\n",
       "  9,\n",
       "  10,\n",
       "  11,\n",
       "  12,\n",
       "  13,\n",
       "  14,\n",
       "  15,\n",
       "  16,\n",
       "  17,\n",
       "  18,\n",
       "  19,\n",
       "  20,\n",
       "  21,\n",
       "  22,\n",
       "  23,\n",
       "  24,\n",
       "  25,\n",
       "  26,\n",
       "  27,\n",
       "  28,\n",
       "  29,\n",
       "  30,\n",
       "  31,\n",
       "  32,\n",
       "  33,\n",
       "  34],\n",
       " [Text(0, 0, ''),\n",
       "  Text(0, 0, ''),\n",
       "  Text(0, 0, ''),\n",
       "  Text(0, 0, ''),\n",
       "  Text(0, 0, ''),\n",
       "  Text(0, 0, ''),\n",
       "  Text(0, 0, ''),\n",
       "  Text(0, 0, ''),\n",
       "  Text(0, 0, ''),\n",
       "  Text(0, 0, ''),\n",
       "  Text(0, 0, ''),\n",
       "  Text(0, 0, ''),\n",
       "  Text(0, 0, ''),\n",
       "  Text(0, 0, ''),\n",
       "  Text(0, 0, ''),\n",
       "  Text(0, 0, ''),\n",
       "  Text(0, 0, ''),\n",
       "  Text(0, 0, ''),\n",
       "  Text(0, 0, ''),\n",
       "  Text(0, 0, ''),\n",
       "  Text(0, 0, ''),\n",
       "  Text(0, 0, ''),\n",
       "  Text(0, 0, ''),\n",
       "  Text(0, 0, ''),\n",
       "  Text(0, 0, ''),\n",
       "  Text(0, 0, ''),\n",
       "  Text(0, 0, ''),\n",
       "  Text(0, 0, ''),\n",
       "  Text(0, 0, ''),\n",
       "  Text(0, 0, ''),\n",
       "  Text(0, 0, ''),\n",
       "  Text(0, 0, ''),\n",
       "  Text(0, 0, ''),\n",
       "  Text(0, 0, ''),\n",
       "  Text(0, 0, '')])"
      ]
     },
     "execution_count": 65,
     "metadata": {},
     "output_type": "execute_result"
    },
    {
     "data": {
      "image/png": "[encoded data removed]",
      "text/plain": [
       "<Figure size 432x288 with 1 Axes>"
      ]
     },
     "metadata": {
      "needs_background": "light"
     },
     "output_type": "display_data"
    }
   ],
   "source": [
    "#Kicking and Receiving Teams\n",
    "len(set(df[\"kicking_team\"]))\n",
    "len(set(df[\"receiving_team\"]))\n",
    "set(df[\"kicking_team\"]) == set(df[\"receiving_team\"])\n",
    "set(df[\"receiving_team\"])\n",
    "plot = sns.histplot(data=df, x=\"receiving_team\")\n",
    "plt.xticks(rotation=45)\n",
    "#So, we have 35 teams. We know there are only 30. What's the anomaly? This data is over ten years, so we have leftover\n",
    "#abbreviations like STL, LA, JAC, SD, OAK, etc. You can see this borne out in that the smallest bars are new name changes."
   ]
  },
  {
   "cell_type": "code",
   "execution_count": 84,
   "id": "common-heather",
   "metadata": {},
   "outputs": [
    {
     "data": {
      "text/plain": [
       "<AxesSubplot:xlabel='year', ylabel='count'>"
      ]
     },
     "execution_count": 84,
     "metadata": {},
     "output_type": "execute_result"
    },
    {
     "data": {
      "image/png": "[encoded data removed]",
      "text/plain": [
       "<Figure size 432x288 with 1 Axes>"
      ]
     },
     "metadata": {
      "needs_background": "light"
     },
     "output_type": "display_data"
    }
   ],
   "source": [
    "#Years\n",
    "sns.countplot(data=df, x=\"year\")\n",
    "\n",
    "#This looks good! You wouldn't expect any one year to have more than another."
   ]
  },
  {
   "cell_type": "code",
   "execution_count": 85,
   "id": "patient-mineral",
   "metadata": {},
   "outputs": [
    {
     "name": "stdout",
     "output_type": "stream",
     "text": [
      "46.40649832244394% of kicks were touchbacks.\n",
      "1.161928306551298% of kicks were out of bounds.\n",
      "0.1553946671375596% of kicks were fair catches.\n",
      "51.66166342927777% of kicks were returned.\n",
      "0.42733533462828893% of kicks were returned for a touchdown.\n",
      "0.8935193360409677% of kicks were muffed.\n",
      "4.043793042556949% of kickoffs had an accepted penalty.\n",
      "1.0665724880805227% of kicks were fumbled.\n"
     ]
    }
   ],
   "source": [
    "#isTouchback, isOutOfBounds, isOnside, isFairCatch, isReturned, isTouchdown, isMuff, isPenalty, isFumble\n",
    "touchback = len(df[df[\"isTouchback\"]])/len(df)\n",
    "print(f\"{touchback*100}% of kicks were touchbacks.\")\n",
    "\n",
    "oob = len(df[df[\"isOutOfBounds\"]])/len(df)\n",
    "print(f\"{oob*100}% of kicks were out of bounds.\")\n",
    "\n",
    "fc = len(df[df[\"isFairCatch\"]])/len(df)\n",
    "print(f\"{fc*100}% of kicks were fair catches.\")\n",
    "\n",
    "returned = len(df[df[\"isReturned\"]])/len(df)\n",
    "print(f\"{returned*100}% of kicks were returned.\")\n",
    "\n",
    "td = len(df[df[\"isTouchdown\"]])/len(df)\n",
    "print(f\"{td*100}% of kicks were returned for a touchdown.\")\n",
    "\n",
    "muff = len(df[df[\"isMuff\"]])/len(df)\n",
    "print(f\"{muff*100}% of kicks were muffed.\")\n",
    "\n",
    "penalty = len(df[df[\"isPenalty\"]])/len(df)\n",
    "print(f\"{penalty*100}% of kickoffs had an accepted penalty.\")\n",
    "\n",
    "fumble = len(df[df[\"isFumble\"]])/len(df)\n",
    "print(f\"{fumble*100}% of kicks were fumbled.\")\n",
    "\n",
    "#These numbers look to be about right. One immediate comparison we can do is fumbles lost vs. touchdowns."
   ]
  },
  {
   "cell_type": "markdown",
   "id": "severe-wayne",
   "metadata": {},
   "source": [
    "***Issues***\n",
    "1. The *finalSpot* statistic is incorrect for a portion of the dataset. Since there is no line in boxscore descriptions that contains the final spotting of the ball, we have to construct this statistic. This calculation is sometimes very simple--for touchbacks, it's as easy as just saying \"25 yards\". On the other hand, it can get very complicated: consider an example where there is a penalty, fumbled ball, recovered ball, and then another penalty. I'm not sure what I'm going to do with this statistic at this time.\n",
    "2. The *kickLand* statistic is also out of wack, but for reasons more unclear than *finalSpot*. About 80% of kicks land exactly on the goal line, according to our database. However, we know that this cannot possibly be. In fact, upon watching football and following along with the ESPN app, I saw a >65 yard kick be reported as \"65 yards, Touchback\". When we consider that we see the exact same pattern for all of the touchbacks in our data (which make up about half of the dataframe), we must assume that any touchback is reported as landing on the goal line. Let's test this theory. TEST."
   ]
  }
 ],
 "metadata": {
  "kernelspec": {
   "display_name": "Python 3",
   "language": "python",
   "name": "python3"
  },
  "language_info": {
   "codemirror_mode": {
    "name": "ipython",
    "version": 3
   },
   "file_extension": ".py",
   "mimetype": "text/x-python",
   "name": "python",
   "nbconvert_exporter": "python",
   "pygments_lexer": "ipython3",
   "version": "3.9.1"
  }
 },
 "nbformat": 4,
 "nbformat_minor": 5
}
